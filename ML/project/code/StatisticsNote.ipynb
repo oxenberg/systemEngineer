{
 "cells": [
  {
   "cell_type": "code",
   "execution_count": 91,
   "metadata": {},
   "outputs": [
    {
     "name": "stdout",
     "output_type": "stream",
     "text": [
      "                       KTBoost  NGBClassifier  RF_baseClassfier     infiboost\n",
      "KTBoost          -1.000000e+00   1.343813e-28      2.246584e-02  2.452839e-02\n",
      "NGBClassifier     1.343813e-28  -1.000000e+00      8.843883e-19  1.770378e-38\n",
      "RF_baseClassfier  2.246584e-02   8.843883e-19     -1.000000e+00  6.090380e-06\n",
      "infiboost         2.452839e-02   1.770378e-38      6.090380e-06 -1.000000e+00\n"
     ]
    },
    {
     "data": {
      "image/png": "[encoded data removed]",
      "text/plain": [
       "<Figure size 432x288 with 2 Axes>"
      ]
     },
     "metadata": {
      "needs_background": "light"
     },
     "output_type": "display_data"
    }
   ],
   "source": [
    "# -*- coding: utf-8 -*-\n",
    "\"\"\"\n",
    "Created on Sat Jul 18 18:44:38 2020\n",
    "\n",
    "@author: oxenb\n",
    "\"\"\"\n",
    "import pandas as pd \n",
    "import scipy.stats\n",
    "import scikit_posthocs as sp\n",
    "\n",
    "def significancePlot(measuers_input,status):\n",
    "    \"\"\"create plot of significant values\n",
    "\n",
    "    ----------\n",
    "    measuers_input\n",
    "    \n",
    "    status\n",
    "    \n",
    "    Returns\n",
    "    -------\n",
    "    measuers_input {dataframe}\n",
    "    \"\"\"\n",
    "    pc = sp.posthoc_conover(measuers_input, val_col=status, group_col='AlgoName', p_adjust = 'holm')\n",
    "    print(pc)\n",
    "    heatmap_args = {'linewidths': 0.25, 'linecolor': '0.5', 'clip_on': False, 'square': True, 'cbar_ax_bbox': [0.80, 0.35, 0.04, 0.3]}\n",
    "    sp.sign_plot(pc, **heatmap_args)\n",
    "\n",
    "def ReadMeasuers():\n",
    "    \"\"\"read measures from file\n",
    "        \n",
    "        ----------\n",
    "         \n",
    "        Returns\n",
    "        -------\n",
    "        measuers_input {dataframe}\n",
    "    \"\"\"\n",
    "    #read measuers_input\n",
    "    measuers_input = pd.read_csv('../data/results/measuers.csv')\n",
    "    return measuers_input\n",
    "\n",
    "def calcStatistics(status = \"AUC\"):\n",
    "    \"\"\"sum all the cv over the mueasuers values and do a fridman test\n",
    "        \n",
    "        ----------\n",
    "        status - string, the value of measure to check significant by\n",
    "         \n",
    "        Returns\n",
    "        -------\n",
    "        result {list}  statistic - The test statistic, correcting for ties, P value\n",
    "    \"\"\"\n",
    "    measuers_input = ReadMeasuers()\n",
    "    def toSeconds(dt):\n",
    "        dt = dt.split(\" \")[2][:-3]\n",
    "        dt = datetime.datetime.strptime(dt, '%H:%M:%S.%f')\n",
    "        seconds = dt.second +  dt.minute*60 + dt.hour*3600\n",
    "        return seconds\n",
    "    if(status == \"Training_Time\"):\n",
    "\n",
    "        measuers_input[\"Training_Time\"] = measuers_input[\"Training_Time\"].apply(toSeconds)\n",
    "    \n",
    "    measuers_input = measuers_input[[\"AlgoName\",\"Dataset_Name\",status]]\n",
    "    measuers_input_mean = measuers_input.groupby([\"AlgoName\",\"Dataset_Name\"]).mean().reset_index()\n",
    "    measuers_input = measuers_input_mean[[\"AlgoName\",status]].groupby(\"AlgoName\")[status].apply(list)\n",
    "    \n",
    "    values = measuers_input.values\n",
    "    KTboost = values[0]\n",
    "    NGBclassifier = values[1]\n",
    "    RF_baseClassifer = values[2]\n",
    "    infiboost = values[3]\n",
    "    result = scipy.stats.friedmanchisquare(KTboost,NGBclassifier,RF_baseClassifer,infiboost)\n",
    "    significancePlot(measuers_input_mean,status)\n",
    "    measuers_input_mean.groupby([\"AlgoName\"]).mean().reset_index().to_csv(f\"../data/results/algo{status}mean.csv\")\n",
    "    return result\n",
    "\n",
    "measuers_input = calcStatistics(\"Training_Time\")"
   ]
  }
 ],
 "metadata": {
  "kernelspec": {
   "display_name": "Python 3",
   "language": "python",
   "name": "python3"
  },
  "language_info": {
   "codemirror_mode": {
    "name": "ipython",
    "version": 3
   },
   "file_extension": ".py",
   "mimetype": "text/x-python",
   "name": "python",
   "nbconvert_exporter": "python",
   "pygments_lexer": "ipython3",
   "version": "3.7.7"
  }
 },
 "nbformat": 4,
 "nbformat_minor": 4
}
