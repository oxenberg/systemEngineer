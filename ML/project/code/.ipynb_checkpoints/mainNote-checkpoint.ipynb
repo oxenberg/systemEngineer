{
 "cells": [
  {
   "cell_type": "code",
   "execution_count": null,
   "metadata": {},
   "outputs": [],
   "source": [
    "# -*- coding: utf-8 -*-\n",
    "\"\"\"\n",
    "Created on Tue Jul 21 10:44:38 2020\n",
    "\n",
    "@author: oxenb\n",
    "\"\"\"\n",
    "import import_ipynb \n",
    "from CompereAlgoNote import CompereAlgo\n",
    "from StatisticsNote import calcStatistics\n",
    "from MetaclassifiarNote import runMetaclassifier\n",
    "\n",
    "def main():\n",
    "    \"\"\"main for project, configure set parmeters for training test valdiation CV and\n",
    "       random search iterations\n",
    "        \n",
    "        ----------\n",
    "                \n",
    "        Returns\n",
    "        -------\n",
    "            \n",
    "    \"\"\"\n",
    "    testTrainCV = 10\n",
    "    trainValCV = 3\n",
    "    randomSearchIter = 50\n",
    "    CompereAlgo(testTrainCV = testTrainCV,trainValCV = trainValCV,randomSearchIter = randomSearchIter)\n",
    "    \n",
    "    statisticsResult = calcStatistics()\n",
    "    \n",
    "    runMetaclassifier()\n",
    "    \n",
    "\n",
    "\n",
    "\n",
    "\n",
    "\n",
    "\n",
    "\n",
    "if __name__ == \"__main__\":\n",
    "    main()\n",
    "    \n"
   ]
  },
  {
   "cell_type": "code",
   "execution_count": null,
   "metadata": {},
   "outputs": [],
   "source": []
  }
 ],
 "metadata": {
  "kernelspec": {
   "display_name": "Python 3",
   "language": "python",
   "name": "python3"
  },
  "language_info": {
   "codemirror_mode": {
    "name": "ipython",
    "version": 3
   },
   "file_extension": ".py",
   "mimetype": "text/x-python",
   "name": "python",
   "nbconvert_exporter": "python",
   "pygments_lexer": "ipython3",
   "version": "3.7.7"
  }
 },
 "nbformat": 4,
 "nbformat_minor": 4
}
