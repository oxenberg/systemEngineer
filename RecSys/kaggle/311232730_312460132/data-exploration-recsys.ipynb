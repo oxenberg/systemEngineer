{
 "cells": [
  {
   "cell_type": "markdown",
   "id": "atomic-islam",
   "metadata": {
    "papermill": {
     "duration": 0.0294,
     "end_time": "2021-06-11T08:20:33.534209",
     "exception": false,
     "start_time": "2021-06-11T08:20:33.504809",
     "status": "completed"
    },
    "tags": []
   },
   "source": [
    "# Installations"
   ]
  },
  {
   "cell_type": "code",
   "execution_count": 1,
   "id": "whole-passenger",
   "metadata": {
    "execution": {
     "iopub.execute_input": "2021-06-11T08:20:33.594893Z",
     "iopub.status.busy": "2021-06-11T08:20:33.593628Z",
     "iopub.status.idle": "2021-06-11T08:21:54.430763Z",
     "shell.execute_reply": "2021-06-11T08:21:54.429916Z",
     "shell.execute_reply.started": "2021-06-11T06:56:46.882349Z"
    },
    "papermill": {
     "duration": 80.868843,
     "end_time": "2021-06-11T08:21:54.430940",
     "exception": false,
     "start_time": "2021-06-11T08:20:33.562097",
     "status": "completed"
    },
    "tags": []
   },
   "outputs": [
    {
     "name": "stdout",
     "output_type": "stream",
     "text": [
      "Collecting turicreate\r\n",
      "  Downloading turicreate-6.4.1-cp37-cp37m-manylinux1_x86_64.whl (92.0 MB)\r\n",
      "\u001b[K     |████████████████████████████████| 92.0 MB 21 kB/s \r\n",
      "\u001b[?25hCollecting coremltools==3.3\r\n",
      "  Downloading coremltools-3.3-cp37-none-manylinux1_x86_64.whl (3.5 MB)\r\n",
      "\u001b[K     |████████████████████████████████| 3.5 MB 33.2 MB/s \r\n",
      "\u001b[?25hCollecting scipy>=1.1.0\r\n",
      "  Downloading scipy-1.6.3-cp37-cp37m-manylinux1_x86_64.whl (27.4 MB)\r\n",
      "\u001b[K     |████████████████████████████████| 27.4 MB 54.5 MB/s \r\n",
      "\u001b[?25hCollecting numba<0.51.0\r\n",
      "  Downloading numba-0.50.1-cp37-cp37m-manylinux2014_x86_64.whl (3.6 MB)\r\n",
      "\u001b[K     |████████████████████████████████| 3.6 MB 64.1 MB/s \r\n",
      "\u001b[?25hCollecting decorator>=4.0.9\r\n",
      "  Downloading decorator-5.0.9-py3-none-any.whl (8.9 kB)\r\n",
      "Collecting pillow>=5.2.0\r\n",
      "  Downloading Pillow-8.2.0-cp37-cp37m-manylinux1_x86_64.whl (3.0 MB)\r\n",
      "\u001b[K     |████████████████████████████████| 3.0 MB 33.1 MB/s \r\n",
      "\u001b[?25hCollecting requests>=2.9.1\r\n",
      "  Downloading requests-2.25.1-py2.py3-none-any.whl (61 kB)\r\n",
      "\u001b[K     |████████████████████████████████| 61 kB 4.9 MB/s \r\n",
      "\u001b[?25hCollecting resampy==0.2.1\r\n",
      "  Downloading resampy-0.2.1.tar.gz (322 kB)\r\n",
      "\u001b[K     |████████████████████████████████| 322 kB 58.4 MB/s \r\n",
      "\u001b[?25hCollecting six>=1.10.0\r\n",
      "  Downloading six-1.16.0-py2.py3-none-any.whl (11 kB)\r\n",
      "Collecting pandas>=0.23.2\r\n",
      "  Downloading pandas-1.2.4-cp37-cp37m-manylinux1_x86_64.whl (9.9 MB)\r\n",
      "\u001b[K     |████████████████████████████████| 9.9 MB 53.9 MB/s \r\n",
      "\u001b[?25hCollecting numpy\r\n",
      "  Downloading numpy-1.20.3-cp37-cp37m-manylinux_2_12_x86_64.manylinux2010_x86_64.whl (15.3 MB)\r\n",
      "\u001b[K     |████████████████████████████████| 15.3 MB 44.0 MB/s \r\n",
      "\u001b[?25hCollecting prettytable==0.7.2\r\n",
      "  Downloading prettytable-0.7.2.zip (28 kB)\r\n",
      "Collecting tensorflow<2.1.0,>=2.0.0\r\n",
      "  Downloading tensorflow-2.0.4-cp37-cp37m-manylinux2010_x86_64.whl (86.4 MB)\r\n",
      "\u001b[K     |████████████████████████████████| 86.4 MB 85 kB/s \r\n",
      "\u001b[?25hCollecting protobuf>=3.1.0\r\n",
      "  Downloading protobuf-3.17.3-cp37-cp37m-manylinux_2_5_x86_64.manylinux1_x86_64.whl (1.0 MB)\r\n",
      "\u001b[K     |████████████████████████████████| 1.0 MB 33.9 MB/s \r\n",
      "\u001b[?25hCollecting llvmlite<0.34,>=0.33.0.dev0\r\n",
      "  Downloading llvmlite-0.33.0-cp37-cp37m-manylinux1_x86_64.whl (18.3 MB)\r\n",
      "\u001b[K     |████████████████████████████████| 18.3 MB 19.5 MB/s \r\n",
      "\u001b[?25hCollecting setuptools\r\n",
      "  Downloading setuptools-57.0.0-py3-none-any.whl (821 kB)\r\n",
      "\u001b[K     |████████████████████████████████| 821 kB 51.2 MB/s \r\n",
      "\u001b[?25hCollecting pytz>=2017.3\r\n",
      "  Downloading pytz-2021.1-py2.py3-none-any.whl (510 kB)\r\n",
      "\u001b[K     |████████████████████████████████| 510 kB 60.1 MB/s \r\n",
      "\u001b[?25hCollecting python-dateutil>=2.7.3\r\n",
      "  Downloading python_dateutil-2.8.1-py2.py3-none-any.whl (227 kB)\r\n",
      "\u001b[K     |████████████████████████████████| 227 kB 33.9 MB/s \r\n",
      "\u001b[?25hCollecting urllib3<1.27,>=1.21.1\r\n",
      "  Downloading urllib3-1.26.5-py2.py3-none-any.whl (138 kB)\r\n",
      "\u001b[K     |████████████████████████████████| 138 kB 52.0 MB/s \r\n",
      "\u001b[?25hCollecting chardet<5,>=3.0.2\r\n",
      "  Downloading chardet-4.0.0-py2.py3-none-any.whl (178 kB)\r\n",
      "\u001b[K     |████████████████████████████████| 178 kB 53.5 MB/s \r\n",
      "\u001b[?25hCollecting certifi>=2017.4.17\r\n",
      "  Downloading certifi-2021.5.30-py2.py3-none-any.whl (145 kB)\r\n",
      "\u001b[K     |████████████████████████████████| 145 kB 50.3 MB/s \r\n",
      "\u001b[?25hCollecting idna<3,>=2.5\r\n",
      "  Downloading idna-2.10-py2.py3-none-any.whl (58 kB)\r\n",
      "\u001b[K     |████████████████████████████████| 58 kB 4.4 MB/s \r\n",
      "\u001b[?25hCollecting wheel>=0.26\r\n",
      "  Downloading wheel-0.36.2-py2.py3-none-any.whl (35 kB)\r\n",
      "Collecting google-pasta>=0.1.6\r\n",
      "  Downloading google_pasta-0.2.0-py3-none-any.whl (57 kB)\r\n",
      "\u001b[K     |████████████████████████████████| 57 kB 3.2 MB/s \r\n",
      "\u001b[?25hCollecting tensorflow-estimator<2.1.0,>=2.0.0\r\n",
      "  Downloading tensorflow_estimator-2.0.1-py2.py3-none-any.whl (449 kB)\r\n",
      "\u001b[K     |████████████████████████████████| 449 kB 56.7 MB/s \r\n",
      "\u001b[?25hCollecting gast==0.2.2\r\n",
      "  Downloading gast-0.2.2.tar.gz (10 kB)\r\n",
      "Collecting opt-einsum>=2.3.2\r\n",
      "  Downloading opt_einsum-3.3.0-py3-none-any.whl (65 kB)\r\n",
      "\u001b[K     |████████████████████████████████| 65 kB 2.3 MB/s \r\n",
      "\u001b[?25hCollecting keras-preprocessing>=1.0.5\r\n",
      "  Downloading Keras_Preprocessing-1.1.2-py2.py3-none-any.whl (42 kB)\r\n",
      "\u001b[K     |████████████████████████████████| 42 kB 737 kB/s \r\n",
      "\u001b[?25hCollecting h5py<=2.10.0\r\n",
      "  Downloading h5py-2.10.0-cp37-cp37m-manylinux1_x86_64.whl (2.9 MB)\r\n",
      "\u001b[K     |████████████████████████████████| 2.9 MB 17.9 MB/s \r\n",
      "\u001b[?25hCollecting grpcio>=1.8.6\r\n",
      "  Downloading grpcio-1.38.0-cp37-cp37m-manylinux2014_x86_64.whl (4.2 MB)\r\n",
      "\u001b[K     |████████████████████████████████| 4.2 MB 49.2 MB/s \r\n",
      "\u001b[?25hCollecting wrapt>=1.11.1\r\n",
      "  Downloading wrapt-1.12.1.tar.gz (27 kB)\r\n",
      "Collecting keras-applications>=1.0.8\r\n",
      "  Downloading Keras_Applications-1.0.8-py3-none-any.whl (50 kB)\r\n",
      "\u001b[K     |████████████████████████████████| 50 kB 4.3 MB/s \r\n",
      "\u001b[?25hCollecting termcolor>=1.1.0\r\n",
      "  Downloading termcolor-1.1.0.tar.gz (3.9 kB)\r\n",
      "Collecting absl-py>=0.7.0\r\n",
      "  Downloading absl_py-0.12.0-py3-none-any.whl (129 kB)\r\n",
      "\u001b[K     |████████████████████████████████| 129 kB 64.3 MB/s \r\n",
      "\u001b[?25hCollecting astor>=0.6.0\r\n",
      "  Downloading astor-0.8.1-py2.py3-none-any.whl (27 kB)\r\n",
      "Collecting tensorboard<2.1.0,>=2.0.0\r\n",
      "  Downloading tensorboard-2.0.2-py3-none-any.whl (3.8 MB)\r\n",
      "\u001b[K     |████████████████████████████████| 3.8 MB 40.8 MB/s \r\n",
      "\u001b[?25hCollecting numpy\r\n",
      "  Downloading numpy-1.18.5-cp37-cp37m-manylinux1_x86_64.whl (20.1 MB)\r\n",
      "\u001b[K     |████████████████████████████████| 20.1 MB 32.9 MB/s \r\n",
      "\u001b[?25hCollecting google-auth<2,>=1.6.3\r\n",
      "  Downloading google_auth-1.31.0-py2.py3-none-any.whl (147 kB)\r\n",
      "\u001b[K     |████████████████████████████████| 147 kB 38.6 MB/s \r\n",
      "\u001b[?25hCollecting google-auth-oauthlib<0.5,>=0.4.1\r\n",
      "  Downloading google_auth_oauthlib-0.4.4-py2.py3-none-any.whl (18 kB)\r\n",
      "Collecting markdown>=2.6.8\r\n",
      "  Downloading Markdown-3.3.4-py3-none-any.whl (97 kB)\r\n",
      "\u001b[K     |████████████████████████████████| 97 kB 4.8 MB/s \r\n",
      "\u001b[?25hCollecting werkzeug>=0.11.15\r\n",
      "  Downloading Werkzeug-2.0.1-py3-none-any.whl (288 kB)\r\n",
      "\u001b[K     |████████████████████████████████| 288 kB 32.7 MB/s \r\n",
      "\u001b[?25hCollecting pyasn1-modules>=0.2.1\r\n",
      "  Downloading pyasn1_modules-0.2.8-py2.py3-none-any.whl (155 kB)\r\n",
      "\u001b[K     |████████████████████████████████| 155 kB 38.7 MB/s \r\n",
      "\u001b[?25hCollecting cachetools<5.0,>=2.0.0\r\n",
      "  Downloading cachetools-4.2.2-py3-none-any.whl (11 kB)\r\n",
      "Collecting rsa<5,>=3.1.4\r\n",
      "  Downloading rsa-4.7.2-py3-none-any.whl (34 kB)\r\n",
      "Collecting requests-oauthlib>=0.7.0\r\n",
      "  Downloading requests_oauthlib-1.3.0-py2.py3-none-any.whl (23 kB)\r\n",
      "Collecting importlib-metadata\r\n",
      "  Downloading importlib_metadata-4.5.0-py3-none-any.whl (17 kB)\r\n",
      "Collecting pyasn1<0.5.0,>=0.4.6\r\n",
      "  Downloading pyasn1-0.4.8-py2.py3-none-any.whl (77 kB)\r\n",
      "\u001b[K     |████████████████████████████████| 77 kB 4.1 MB/s \r\n",
      "\u001b[?25hCollecting oauthlib>=3.0.0\r\n",
      "  Downloading oauthlib-3.1.1-py2.py3-none-any.whl (146 kB)\r\n",
      "\u001b[K     |████████████████████████████████| 146 kB 44.8 MB/s \r\n",
      "\u001b[?25hCollecting typing-extensions>=3.6.4\r\n",
      "  Downloading typing_extensions-3.10.0.0-py3-none-any.whl (26 kB)\r\n",
      "Collecting zipp>=0.5\r\n",
      "  Downloading zipp-3.4.1-py3-none-any.whl (5.2 kB)\r\n",
      "Building wheels for collected packages: prettytable, resampy, gast, termcolor, wrapt\r\n",
      "  Building wheel for prettytable (setup.py) ... \u001b[?25l-\b \b\\\b \bdone\r\n",
      "\u001b[?25h  Created wheel for prettytable: filename=prettytable-0.7.2-py3-none-any.whl size=13699 sha256=ff6384c3b4a2645dba101852f135d850794f8b6426e775ff1a7820d59e1b5068\r\n",
      "  Stored in directory: /root/.cache/pip/wheels/b2/7f/f6/f180315b584f00445045ff1699b550fa895d09471337ce21c6\r\n",
      "  Building wheel for resampy (setup.py) ... \u001b[?25l-\b \b\\\b \bdone\r\n",
      "\u001b[?25h  Created wheel for resampy: filename=resampy-0.2.1-py3-none-any.whl size=320846 sha256=b9c8f73a1f05d31622d566f0dce82a41ffd52979dc0ea4e2b8e782e965c17e8a\r\n",
      "  Stored in directory: /root/.cache/pip/wheels/71/74/53/d5ceb7c5ee7a168c7d106041863e71ac3273f4a4677743a284\r\n",
      "  Building wheel for gast (setup.py) ... \u001b[?25l-\b \b\\\b \bdone\r\n",
      "\u001b[?25h  Created wheel for gast: filename=gast-0.2.2-py3-none-any.whl size=7538 sha256=6252ae0e955bfba2bfaea4c867607b1d776b825a6612f6f3b7742b2fa88daa7f\r\n",
      "  Stored in directory: /root/.cache/pip/wheels/21/7f/02/420f32a803f7d0967b48dd823da3f558c5166991bfd204eef3\r\n",
      "  Building wheel for termcolor (setup.py) ... \u001b[?25l-\b \b\\\b \bdone\r\n",
      "\u001b[?25h  Created wheel for termcolor: filename=termcolor-1.1.0-py3-none-any.whl size=4829 sha256=ff7733eae11163f5305438383cb52415299d54cee6f5fa4b39a3f1a314091078\r\n",
      "  Stored in directory: /root/.cache/pip/wheels/3f/e3/ec/8a8336ff196023622fbcb36de0c5a5c218cbb24111d1d4c7f2\r\n",
      "  Building wheel for wrapt (setup.py) ... \u001b[?25l-\b \b\\\b \b|\b \bdone\r\n",
      "\u001b[?25h  Created wheel for wrapt: filename=wrapt-1.12.1-cp37-cp37m-linux_x86_64.whl size=70967 sha256=83352563919bd224ef22f90cf4b7bfe2aa9d4e16881c1f8ed49759d4662f6534\r\n",
      "  Stored in directory: /root/.cache/pip/wheels/62/76/4c/aa25851149f3f6d9785f6c869387ad82b3fd37582fa8147ac6\r\n",
      "Successfully built prettytable resampy gast termcolor wrapt\r\n",
      "Installing collected packages: urllib3, pyasn1, idna, chardet, certifi, zipp, typing-extensions, six, setuptools, rsa, requests, pyasn1-modules, oauthlib, cachetools, requests-oauthlib, numpy, importlib-metadata, google-auth, wheel, werkzeug, protobuf, markdown, llvmlite, h5py, grpcio, google-auth-oauthlib, absl-py, wrapt, termcolor, tensorflow-estimator, tensorboard, scipy, pytz, python-dateutil, opt-einsum, numba, keras-preprocessing, keras-applications, google-pasta, gast, astor, tensorflow, resampy, prettytable, pillow, pandas, decorator, coremltools, turicreate\r\n",
      "\u001b[31mERROR: pip's dependency resolver does not currently take into account all the packages that are installed. This behaviour is the source of the following dependency conflicts.\r\n",
      "tensorflow-probability 0.12.2 requires gast>=0.3.2, but you have gast 0.2.2 which is incompatible.\r\n",
      "tensorflow-cloud 0.1.13 requires tensorboard>=2.3.0, but you have tensorboard 2.0.2 which is incompatible.\r\n",
      "pytorch-lightning 1.2.8 requires tensorboard>=2.2.0, but you have tensorboard 2.0.2 which is incompatible.\r\n",
      "pynndescent 0.5.2 requires numba>=0.51.2, but you have numba 0.50.1 which is incompatible.\r\n",
      "pyldavis 3.3.1 requires numpy>=1.20.0, but you have numpy 1.18.5 which is incompatible.\r\n",
      "plotnine 0.8.0 requires numpy>=1.19.0, but you have numpy 1.18.5 which is incompatible.\r\n",
      "pdpbox 0.2.1 requires matplotlib==3.1.1, but you have matplotlib 3.4.1 which is incompatible.\r\n",
      "osmnx 1.0.1 requires numpy>=1.19, but you have numpy 1.18.5 which is incompatible.\r\n",
      "matrixprofile 1.1.10 requires protobuf==3.11.2, but you have protobuf 3.17.3 which is incompatible.\r\n",
      "librosa 0.8.0 requires resampy>=0.2.2, but you have resampy 0.2.1 which is incompatible.\r\n",
      "jupyterlab-git 0.11.0 requires nbdime<2.0.0,>=1.1.0, but you have nbdime 2.1.0 which is incompatible.\r\n",
      "gym 0.18.0 requires Pillow<=7.2.0, but you have pillow 8.2.0 which is incompatible.\r\n",
      "earthengine-api 0.1.261 requires google-api-python-client<2,>=1.12.1, but you have google-api-python-client 1.8.0 which is incompatible.\r\n",
      "datashader 0.12.1 requires numba!=0.49.*,!=0.50.*,>=0.37.0, but you have numba 0.50.1 which is incompatible.\r\n",
      "autogluon-core 0.1.0 requires numpy==1.19.5, but you have numpy 1.18.5 which is incompatible.\r\n",
      "autogluon-core 0.1.0 requires scipy==1.5.4, but you have scipy 1.6.3 which is incompatible.\r\n",
      "aiobotocore 1.3.0 requires botocore<1.20.50,>=1.20.49, but you have botocore 1.20.53 which is incompatible.\u001b[0m\r\n",
      "Successfully installed absl-py-0.12.0 astor-0.8.1 cachetools-4.2.2 certifi-2021.5.30 chardet-4.0.0 coremltools-3.3 decorator-5.0.9 gast-0.3.3 google-auth-1.31.0 google-auth-oauthlib-0.4.4 google-pasta-0.2.0 grpcio-1.38.0 h5py-2.10.0 idna-2.10 importlib-metadata-4.5.0 keras-applications-1.0.8 keras-preprocessing-1.1.2 llvmlite-0.36.0 markdown-3.3.4 numba-0.53.1 numpy-1.19.5 oauthlib-3.1.1 opt-einsum-3.3.0 pandas-1.2.4 pillow-8.2.0 prettytable-2.1.0 protobuf-3.17.3 pyasn1-0.4.8 pyasn1-modules-0.2.8 python-dateutil-2.8.1 pytz-2021.1 requests-2.25.1 requests-oauthlib-1.3.0 resampy-0.2.2 rsa-4.7.2 scipy-1.6.3 setuptools-57.0.0 six-1.16.0 tensorboard-2.4.1 tensorflow-2.4.1 tensorflow-estimator-2.4.0 termcolor-1.1.0 turicreate-6.4.1 typing-extensions-3.10.0.0 urllib3-1.26.5 werkzeug-2.0.1 wheel-0.36.2 wrapt-1.12.1 zipp-3.4.1\r\n"
     ]
    }
   ],
   "source": [
    "!pip install turicreate --ignore-installed"
   ]
  },
  {
   "cell_type": "markdown",
   "id": "national-welding",
   "metadata": {
    "papermill": {
     "duration": 0.219103,
     "end_time": "2021-06-11T08:21:54.874974",
     "exception": false,
     "start_time": "2021-06-11T08:21:54.655871",
     "status": "completed"
    },
    "tags": []
   },
   "source": [
    "# Imports"
   ]
  },
  {
   "cell_type": "code",
   "execution_count": 2,
   "id": "angry-paradise",
   "metadata": {
    "execution": {
     "iopub.execute_input": "2021-06-11T08:21:55.305459Z",
     "iopub.status.busy": "2021-06-11T08:21:55.304795Z",
     "iopub.status.idle": "2021-06-11T08:21:55.939561Z",
     "shell.execute_reply": "2021-06-11T08:21:55.940106Z",
     "shell.execute_reply.started": "2021-06-11T06:57:59.889102Z"
    },
    "papermill": {
     "duration": 0.847036,
     "end_time": "2021-06-11T08:21:55.940278",
     "exception": false,
     "start_time": "2021-06-11T08:21:55.093242",
     "status": "completed"
    },
    "tags": []
   },
   "outputs": [],
   "source": [
    "import pandas as pd\n",
    "import turicreate as tc\n",
    "import glob\n",
    "import datetime\n",
    "from sklearn import preprocessing \n"
   ]
  },
  {
   "cell_type": "markdown",
   "id": "adverse-forest",
   "metadata": {
    "papermill": {
     "duration": 0.206927,
     "end_time": "2021-06-11T08:21:56.351580",
     "exception": false,
     "start_time": "2021-06-11T08:21:56.144653",
     "status": "completed"
    },
    "tags": []
   },
   "source": [
    "# Global Params"
   ]
  },
  {
   "cell_type": "code",
   "execution_count": 3,
   "id": "serious-documentary",
   "metadata": {
    "execution": {
     "iopub.execute_input": "2021-06-11T08:21:56.765839Z",
     "iopub.status.busy": "2021-06-11T08:21:56.765176Z",
     "iopub.status.idle": "2021-06-11T08:21:56.769453Z",
     "shell.execute_reply": "2021-06-11T08:21:56.769975Z",
     "shell.execute_reply.started": "2021-06-11T06:58:00.628964Z"
    },
    "papermill": {
     "duration": 0.214154,
     "end_time": "2021-06-11T08:21:56.770162",
     "exception": false,
     "start_time": "2021-06-11T08:21:56.556008",
     "status": "completed"
    },
    "tags": []
   },
   "outputs": [],
   "source": [
    "GLOBAL_PATH_TRAIN = \"/kaggle/input/bgu-recsys-ctr-prediction/train_data/*\"\n",
    "TEST_PATH = \"../input/bgu-recsys-ctr-prediction/test_file.csv\""
   ]
  },
  {
   "cell_type": "markdown",
   "id": "pregnant-healthcare",
   "metadata": {
    "papermill": {
     "duration": 0.204638,
     "end_time": "2021-06-11T08:21:57.181616",
     "exception": false,
     "start_time": "2021-06-11T08:21:56.976978",
     "status": "completed"
    },
    "tags": []
   },
   "source": [
    "# Data Exploration"
   ]
  },
  {
   "cell_type": "code",
   "execution_count": 4,
   "id": "proud-village",
   "metadata": {
    "execution": {
     "iopub.execute_input": "2021-06-11T08:21:57.594764Z",
     "iopub.status.busy": "2021-06-11T08:21:57.593705Z",
     "iopub.status.idle": "2021-06-11T08:21:57.600327Z",
     "shell.execute_reply": "2021-06-11T08:21:57.600885Z",
     "shell.execute_reply.started": "2021-06-11T07:06:52.985148Z"
    },
    "papermill": {
     "duration": 0.214365,
     "end_time": "2021-06-11T08:21:57.601053",
     "exception": false,
     "start_time": "2021-06-11T08:21:57.386688",
     "status": "completed"
    },
    "tags": []
   },
   "outputs": [],
   "source": [
    "def precnet_from_column(data,by,value):\n",
    "    count_platform_clicks = data[[by,value]].groupby([value,by],{'count_click_per_class':tc.aggregate.COUNT()}).sort(\"count_click_per_class\", ascending = False)\n",
    "    count_platform_clicks_total = count_platform_clicks.groupby([by],{'count_total_obs':tc.aggregate.SUM(\"count_click_per_class\")})\n",
    "    count_platform_clicks = count_platform_clicks.join(count_platform_clicks_total,on = by)\n",
    "    count_platform_clicks[\"count_click_precent\"] = (1.0 *count_platform_clicks[\"count_click_per_class\"]) / count_platform_clicks[\"count_total_obs\"]\n",
    "    return count_platform_clicks"
   ]
  },
  {
   "cell_type": "code",
   "execution_count": 5,
   "id": "entire-canyon",
   "metadata": {
    "execution": {
     "iopub.execute_input": "2021-06-11T08:21:58.021770Z",
     "iopub.status.busy": "2021-06-11T08:21:58.020650Z",
     "iopub.status.idle": "2021-06-11T08:22:07.821663Z",
     "shell.execute_reply": "2021-06-11T08:22:07.820765Z",
     "shell.execute_reply.started": "2021-06-11T07:06:54.353803Z"
    },
    "papermill": {
     "duration": 10.010186,
     "end_time": "2021-06-11T08:22:07.821814",
     "exception": false,
     "start_time": "2021-06-11T08:21:57.811628",
     "status": "completed"
    },
    "tags": []
   },
   "outputs": [
    {
     "data": {
      "text/html": [
       "<div>\n",
       "<style scoped>\n",
       "    .dataframe tbody tr th:only-of-type {\n",
       "        vertical-align: middle;\n",
       "    }\n",
       "\n",
       "    .dataframe tbody tr th {\n",
       "        vertical-align: top;\n",
       "    }\n",
       "\n",
       "    .dataframe thead th {\n",
       "        text-align: right;\n",
       "    }\n",
       "</style>\n",
       "<table border=\"1\" class=\"dataframe\">\n",
       "  <thead>\n",
       "    <tr style=\"text-align: right;\">\n",
       "      <th></th>\n",
       "      <th>page_view_start_time</th>\n",
       "      <th>user_id_hash</th>\n",
       "      <th>target_id_hash</th>\n",
       "      <th>syndicator_id_hash</th>\n",
       "      <th>campaign_id_hash</th>\n",
       "      <th>empiric_calibrated_recs</th>\n",
       "      <th>empiric_clicks</th>\n",
       "      <th>target_item_taxonomy</th>\n",
       "      <th>placement_id_hash</th>\n",
       "      <th>user_recs</th>\n",
       "      <th>user_clicks</th>\n",
       "      <th>user_target_recs</th>\n",
       "      <th>publisher_id_hash</th>\n",
       "      <th>source_id_hash</th>\n",
       "      <th>source_item_type</th>\n",
       "      <th>browser_platform</th>\n",
       "      <th>os_family</th>\n",
       "      <th>country_code</th>\n",
       "      <th>region</th>\n",
       "      <th>day_of_week</th>\n",
       "      <th>time_of_day</th>\n",
       "      <th>gmt_offset</th>\n",
       "      <th>is_click</th>\n",
       "    </tr>\n",
       "  </thead>\n",
       "  <tbody>\n",
       "    <tr>\n",
       "      <th>134594</th>\n",
       "      <td>1586884106365</td>\n",
       "      <td>716fefde5cadc9b21fd59a90dc7b6c3db777f1276a523f...</td>\n",
       "      <td>dcf49550cf5b77473b2cb0f469a26769dee4b9de4885a6...</td>\n",
       "      <td>e4e85541c71dc9597b379e26645275b2c66edc43f71173...</td>\n",
       "      <td>0c85ca153e3f26ccb21e18166d7fc4790ef457649a60e5...</td>\n",
       "      <td>28063.52500</td>\n",
       "      <td>45241.0</td>\n",
       "      <td>LIFE~HEALTH</td>\n",
       "      <td>f1b3343d5e6491da91d7c65d1ad3140bb1983eedb1ed2d...</td>\n",
       "      <td>125.0</td>\n",
       "      <td>5.0</td>\n",
       "      <td>0.0</td>\n",
       "      <td>848b127dbd0f3a647581f4a95325f5204f4577ad7956f6...</td>\n",
       "      <td>c1f6b23d13d56918520e22a77b899811f709027a98e404...</td>\n",
       "      <td>text</td>\n",
       "      <td>DESK</td>\n",
       "      <td>6</td>\n",
       "      <td>US</td>\n",
       "      <td>IN</td>\n",
       "      <td>2</td>\n",
       "      <td>13</td>\n",
       "      <td>-400</td>\n",
       "      <td>1.0</td>\n",
       "    </tr>\n",
       "    <tr>\n",
       "      <th>92364</th>\n",
       "      <td>1587094960372</td>\n",
       "      <td>f518f356c7eae9d2d36e2e4df572869fead227da949d79...</td>\n",
       "      <td>9cf5d31bb80cd748e0262be9c76b91f1578c3979e0fda6...</td>\n",
       "      <td>69a95437763a6d114f99d4be3c8d94201939ba220ddba6...</td>\n",
       "      <td>f7b78e12ef2be13e6185dbb8dde747cedd517b4699d254...</td>\n",
       "      <td>628201.25000</td>\n",
       "      <td>293304.0</td>\n",
       "      <td>LIFE~EDUCATION</td>\n",
       "      <td>6055091bd2f1c62e48ee3cb89c8e7f0829edc6a05e9f94...</td>\n",
       "      <td>152.0</td>\n",
       "      <td>0.0</td>\n",
       "      <td>22.0</td>\n",
       "      <td>f8a7ba9b7c9b05464ee98daac522b3f3d2376453c70e57...</td>\n",
       "      <td>389b69708cf58731e78e2e023a8c608d886fe5aebc0e23...</td>\n",
       "      <td>category</td>\n",
       "      <td>DESK</td>\n",
       "      <td>6</td>\n",
       "      <td>MN</td>\n",
       "      <td>1</td>\n",
       "      <td>5</td>\n",
       "      <td>11</td>\n",
       "      <td>800</td>\n",
       "      <td>0.0</td>\n",
       "    </tr>\n",
       "    <tr>\n",
       "      <th>385798</th>\n",
       "      <td>1586817253958</td>\n",
       "      <td>fde8b60eb88b0272373b22d80dd1bd1da54196b7558adb...</td>\n",
       "      <td>c4461944279d18bff25aaa894b9aa4e0e085950a3f58f6...</td>\n",
       "      <td>96ea90c879174d24c6e348904b05108a66a6aa87e175a0...</td>\n",
       "      <td>c2e4539930c6dd9d5dc15c80b36202a7c8b566c965bcec...</td>\n",
       "      <td>969.69904</td>\n",
       "      <td>2830.0</td>\n",
       "      <td>SPORTS~BASKETBALL</td>\n",
       "      <td>3e169c2c7c217891ced33c35c10f01ba9b1a830e58ff24...</td>\n",
       "      <td>562.0</td>\n",
       "      <td>21.0</td>\n",
       "      <td>0.0</td>\n",
       "      <td>848b127dbd0f3a647581f4a95325f5204f4577ad7956f6...</td>\n",
       "      <td>10b4bd25f3a771d678e3e535a768d555b7da0eb8c3f84c...</td>\n",
       "      <td>text</td>\n",
       "      <td>DESK</td>\n",
       "      <td>6</td>\n",
       "      <td>US</td>\n",
       "      <td>WA</td>\n",
       "      <td>1</td>\n",
       "      <td>15</td>\n",
       "      <td>-700</td>\n",
       "      <td>0.0</td>\n",
       "    </tr>\n",
       "  </tbody>\n",
       "</table>\n",
       "</div>"
      ],
      "text/plain": [
       "        page_view_start_time  \\\n",
       "134594         1586884106365   \n",
       "92364          1587094960372   \n",
       "385798         1586817253958   \n",
       "\n",
       "                                             user_id_hash  \\\n",
       "134594  716fefde5cadc9b21fd59a90dc7b6c3db777f1276a523f...   \n",
       "92364   f518f356c7eae9d2d36e2e4df572869fead227da949d79...   \n",
       "385798  fde8b60eb88b0272373b22d80dd1bd1da54196b7558adb...   \n",
       "\n",
       "                                           target_id_hash  \\\n",
       "134594  dcf49550cf5b77473b2cb0f469a26769dee4b9de4885a6...   \n",
       "92364   9cf5d31bb80cd748e0262be9c76b91f1578c3979e0fda6...   \n",
       "385798  c4461944279d18bff25aaa894b9aa4e0e085950a3f58f6...   \n",
       "\n",
       "                                       syndicator_id_hash  \\\n",
       "134594  e4e85541c71dc9597b379e26645275b2c66edc43f71173...   \n",
       "92364   69a95437763a6d114f99d4be3c8d94201939ba220ddba6...   \n",
       "385798  96ea90c879174d24c6e348904b05108a66a6aa87e175a0...   \n",
       "\n",
       "                                         campaign_id_hash  \\\n",
       "134594  0c85ca153e3f26ccb21e18166d7fc4790ef457649a60e5...   \n",
       "92364   f7b78e12ef2be13e6185dbb8dde747cedd517b4699d254...   \n",
       "385798  c2e4539930c6dd9d5dc15c80b36202a7c8b566c965bcec...   \n",
       "\n",
       "        empiric_calibrated_recs  empiric_clicks target_item_taxonomy  \\\n",
       "134594              28063.52500         45241.0          LIFE~HEALTH   \n",
       "92364              628201.25000        293304.0       LIFE~EDUCATION   \n",
       "385798                969.69904          2830.0    SPORTS~BASKETBALL   \n",
       "\n",
       "                                        placement_id_hash  user_recs  \\\n",
       "134594  f1b3343d5e6491da91d7c65d1ad3140bb1983eedb1ed2d...      125.0   \n",
       "92364   6055091bd2f1c62e48ee3cb89c8e7f0829edc6a05e9f94...      152.0   \n",
       "385798  3e169c2c7c217891ced33c35c10f01ba9b1a830e58ff24...      562.0   \n",
       "\n",
       "        user_clicks  user_target_recs  \\\n",
       "134594          5.0               0.0   \n",
       "92364           0.0              22.0   \n",
       "385798         21.0               0.0   \n",
       "\n",
       "                                        publisher_id_hash  \\\n",
       "134594  848b127dbd0f3a647581f4a95325f5204f4577ad7956f6...   \n",
       "92364   f8a7ba9b7c9b05464ee98daac522b3f3d2376453c70e57...   \n",
       "385798  848b127dbd0f3a647581f4a95325f5204f4577ad7956f6...   \n",
       "\n",
       "                                           source_id_hash source_item_type  \\\n",
       "134594  c1f6b23d13d56918520e22a77b899811f709027a98e404...             text   \n",
       "92364   389b69708cf58731e78e2e023a8c608d886fe5aebc0e23...         category   \n",
       "385798  10b4bd25f3a771d678e3e535a768d555b7da0eb8c3f84c...             text   \n",
       "\n",
       "       browser_platform  os_family country_code region  day_of_week  \\\n",
       "134594             DESK          6           US     IN            2   \n",
       "92364              DESK          6           MN      1            5   \n",
       "385798             DESK          6           US     WA            1   \n",
       "\n",
       "        time_of_day  gmt_offset  is_click  \n",
       "134594           13        -400       1.0  \n",
       "92364            11         800       0.0  \n",
       "385798           15        -700       0.0  "
      ]
     },
     "execution_count": 5,
     "metadata": {},
     "output_type": "execute_result"
    }
   ],
   "source": [
    "## allows us to see all columns\n",
    "pd.set_option('display.max_columns', None)\n",
    "data = pd.read_csv(\"/kaggle/input/bgu-recsys-ctr-prediction/train_data/train5/part-00045.csv\")\n",
    "## Show an example of the data\n",
    "data.sample(3)"
   ]
  },
  {
   "cell_type": "markdown",
   "id": "thorough-instrumentation",
   "metadata": {
    "papermill": {
     "duration": 0.204457,
     "end_time": "2021-06-11T08:22:08.236263",
     "exception": false,
     "start_time": "2021-06-11T08:22:08.031806",
     "status": "completed"
    },
    "tags": []
   },
   "source": [
    "### Read Data\n",
    "\n",
    "This part will take time. **run only ones! and dont overwrite**"
   ]
  },
  {
   "cell_type": "code",
   "execution_count": 6,
   "id": "sporting-desire",
   "metadata": {
    "collapsed": true,
    "execution": {
     "iopub.execute_input": "2021-06-11T08:22:08.656149Z",
     "iopub.status.busy": "2021-06-11T08:22:08.652736Z",
     "iopub.status.idle": "2021-06-11T08:32:58.963802Z",
     "shell.execute_reply": "2021-06-11T08:32:58.963194Z",
     "shell.execute_reply.started": "2021-06-11T07:07:21.666712Z"
    },
    "jupyter": {
     "outputs_hidden": true
    },
    "papermill": {
     "duration": 650.522544,
     "end_time": "2021-06-11T08:32:58.963984",
     "exception": false,
     "start_time": "2021-06-11T08:22:08.441440",
     "status": "completed"
    },
    "tags": []
   },
   "outputs": [
    {
     "data": {
      "text/html": [
       "<pre>Finished parsing file /kaggle/input/bgu-recsys-ctr-prediction/train_data/train5/part-00045.csv</pre>"
      ],
      "text/plain": [
       "Finished parsing file /kaggle/input/bgu-recsys-ctr-prediction/train_data/train5/part-00045.csv"
      ]
     },
     "metadata": {},
     "output_type": "display_data"
    },
    {
     "data": {
      "text/html": [
       "<pre>Parsing completed. Parsed 100 lines in 0.911045 secs.</pre>"
      ],
      "text/plain": [
       "Parsing completed. Parsed 100 lines in 0.911045 secs."
      ]
     },
     "metadata": {},
     "output_type": "display_data"
    },
    {
     "name": "stdout",
     "output_type": "stream",
     "text": [
      "------------------------------------------------------\n",
      "Inferred types from first 100 line(s) of file as \n",
      "column_type_hints=[int,str,str,str,str,float,float,str,str,float,float,float,str,str,str,str,int,str,str,int,int,int,float]\n",
      "If parsing fails due to incorrect types, you can correct\n",
      "the inferred type list above and pass it to read_csv in\n",
      "the column_type_hints argument\n",
      "------------------------------------------------------\n"
     ]
    },
    {
     "data": {
      "text/html": [
       "<pre>Read 52860 lines. Lines per second: 58802.3</pre>"
      ],
      "text/plain": [
       "Read 52860 lines. Lines per second: 58802.3"
      ]
     },
     "metadata": {},
     "output_type": "display_data"
    },
    {
     "data": {
      "text/html": [
       "<pre>Finished parsing file /kaggle/input/bgu-recsys-ctr-prediction/train_data/train5/part-00045.csv</pre>"
      ],
      "text/plain": [
       "Finished parsing file /kaggle/input/bgu-recsys-ctr-prediction/train_data/train5/part-00045.csv"
      ]
     },
     "metadata": {},
     "output_type": "display_data"
    },
    {
     "data": {
      "text/html": [
       "<pre>Read 484104 lines. Lines per second: 72688.7</pre>"
      ],
      "text/plain": [
       "Read 484104 lines. Lines per second: 72688.7"
      ]
     },
     "metadata": {},
     "output_type": "display_data"
    },
    {
     "data": {
      "text/html": [
       "<pre>Read 748408 lines. Lines per second: 63697.9</pre>"
      ],
      "text/plain": [
       "Read 748408 lines. Lines per second: 63697.9"
      ]
     },
     "metadata": {},
     "output_type": "display_data"
    },
    {
     "data": {
      "text/html": [
       "<pre>Finished parsing file /kaggle/input/bgu-recsys-ctr-prediction/train_data/train5/part-00043.csv</pre>"
      ],
      "text/plain": [
       "Finished parsing file /kaggle/input/bgu-recsys-ctr-prediction/train_data/train5/part-00043.csv"
      ]
     },
     "metadata": {},
     "output_type": "display_data"
    },
    {
     "data": {
      "text/html": [
       "<pre>Read 1036201 lines. Lines per second: 58532</pre>"
      ],
      "text/plain": [
       "Read 1036201 lines. Lines per second: 58532"
      ]
     },
     "metadata": {},
     "output_type": "display_data"
    },
    {
     "data": {
      "text/html": [
       "<pre>Finished parsing file /kaggle/input/bgu-recsys-ctr-prediction/train_data/train5/part-00049.csv</pre>"
      ],
      "text/plain": [
       "Finished parsing file /kaggle/input/bgu-recsys-ctr-prediction/train_data/train5/part-00049.csv"
      ]
     },
     "metadata": {},
     "output_type": "display_data"
    },
    {
     "data": {
      "text/html": [
       "<pre>Read 1308620 lines. Lines per second: 55640.9</pre>"
      ],
      "text/plain": [
       "Read 1308620 lines. Lines per second: 55640.9"
      ]
     },
     "metadata": {},
     "output_type": "display_data"
    },
    {
     "data": {
      "text/html": [
       "<pre>Read 1572915 lines. Lines per second: 54443.5</pre>"
      ],
      "text/plain": [
       "Read 1572915 lines. Lines per second: 54443.5"
      ]
     },
     "metadata": {},
     "output_type": "display_data"
    },
    {
     "data": {
      "text/html": [
       "<pre>Finished parsing file /kaggle/input/bgu-recsys-ctr-prediction/train_data/train5/part-00044.csv</pre>"
      ],
      "text/plain": [
       "Finished parsing file /kaggle/input/bgu-recsys-ctr-prediction/train_data/train5/part-00044.csv"
      ]
     },
     "metadata": {},
     "output_type": "display_data"
    },
    {
     "data": {
      "text/html": [
       "<pre>Read 1860547 lines. Lines per second: 53324.6</pre>"
      ],
      "text/plain": [
       "Read 1860547 lines. Lines per second: 53324.6"
      ]
     },
     "metadata": {},
     "output_type": "display_data"
    },
    {
     "data": {
      "text/html": [
       "<pre>Read 2124848 lines. Lines per second: 52955.3</pre>"
      ],
      "text/plain": [
       "Read 2124848 lines. Lines per second: 52955.3"
      ]
     },
     "metadata": {},
     "output_type": "display_data"
    },
    {
     "data": {
      "text/html": [
       "<pre>Finished parsing file /kaggle/input/bgu-recsys-ctr-prediction/train_data/train5/part-00050.csv</pre>"
      ],
      "text/plain": [
       "Finished parsing file /kaggle/input/bgu-recsys-ctr-prediction/train_data/train5/part-00050.csv"
      ]
     },
     "metadata": {},
     "output_type": "display_data"
    },
    {
     "data": {
      "text/html": [
       "<pre>Read 2392667 lines. Lines per second: 52026.5</pre>"
      ],
      "text/plain": [
       "Read 2392667 lines. Lines per second: 52026.5"
      ]
     },
     "metadata": {},
     "output_type": "display_data"
    },
    {
     "data": {
      "text/html": [
       "<pre>Finished parsing file /kaggle/input/bgu-recsys-ctr-prediction/train_data/train5/part-00041.csv</pre>"
      ],
      "text/plain": [
       "Finished parsing file /kaggle/input/bgu-recsys-ctr-prediction/train_data/train5/part-00041.csv"
      ]
     },
     "metadata": {},
     "output_type": "display_data"
    },
    {
     "data": {
      "text/html": [
       "<pre>Read 2649383 lines. Lines per second: 51650.9</pre>"
      ],
      "text/plain": [
       "Read 2649383 lines. Lines per second: 51650.9"
      ]
     },
     "metadata": {},
     "output_type": "display_data"
    },
    {
     "data": {
      "text/html": [
       "<pre>Read 2913681 lines. Lines per second: 51721.1</pre>"
      ],
      "text/plain": [
       "Read 2913681 lines. Lines per second: 51721.1"
      ]
     },
     "metadata": {},
     "output_type": "display_data"
    },
    {
     "data": {
      "text/html": [
       "<pre>Finished parsing file /kaggle/input/bgu-recsys-ctr-prediction/train_data/train5/part-00047.csv</pre>"
      ],
      "text/plain": [
       "Finished parsing file /kaggle/input/bgu-recsys-ctr-prediction/train_data/train5/part-00047.csv"
      ]
     },
     "metadata": {},
     "output_type": "display_data"
    },
    {
     "data": {
      "text/html": [
       "<pre>Read 3194747 lines. Lines per second: 51786.6</pre>"
      ],
      "text/plain": [
       "Read 3194747 lines. Lines per second: 51786.6"
      ]
     },
     "metadata": {},
     "output_type": "display_data"
    },
    {
     "data": {
      "text/html": [
       "<pre>Finished parsing file /kaggle/input/bgu-recsys-ctr-prediction/train_data/train5/part-00042.csv</pre>"
      ],
      "text/plain": [
       "Finished parsing file /kaggle/input/bgu-recsys-ctr-prediction/train_data/train5/part-00042.csv"
      ]
     },
     "metadata": {},
     "output_type": "display_data"
    },
    {
     "data": {
      "text/html": [
       "<pre>Read 3480713 lines. Lines per second: 51687.8</pre>"
      ],
      "text/plain": [
       "Read 3480713 lines. Lines per second: 51687.8"
      ]
     },
     "metadata": {},
     "output_type": "display_data"
    },
    {
     "data": {
      "text/html": [
       "<pre>Read 3745013 lines. Lines per second: 51748.9</pre>"
      ],
      "text/plain": [
       "Read 3745013 lines. Lines per second: 51748.9"
      ]
     },
     "metadata": {},
     "output_type": "display_data"
    },
    {
     "data": {
      "text/html": [
       "<pre>Finished parsing file /kaggle/input/bgu-recsys-ctr-prediction/train_data/train5/part-00048.csv</pre>"
      ],
      "text/plain": [
       "Finished parsing file /kaggle/input/bgu-recsys-ctr-prediction/train_data/train5/part-00048.csv"
      ]
     },
     "metadata": {},
     "output_type": "display_data"
    },
    {
     "data": {
      "text/html": [
       "<pre>Read 4032281 lines. Lines per second: 51897.3</pre>"
      ],
      "text/plain": [
       "Read 4032281 lines. Lines per second: 51897.3"
      ]
     },
     "metadata": {},
     "output_type": "display_data"
    },
    {
     "data": {
      "text/html": [
       "<pre>Finished parsing file /kaggle/input/bgu-recsys-ctr-prediction/train_data/train5/part-00046.csv</pre>"
      ],
      "text/plain": [
       "Finished parsing file /kaggle/input/bgu-recsys-ctr-prediction/train_data/train5/part-00046.csv"
      ]
     },
     "metadata": {},
     "output_type": "display_data"
    },
    {
     "data": {
      "text/html": [
       "<pre>Parsing completed. Parsed 4346332 lines in 83.0152 secs.</pre>"
      ],
      "text/plain": [
       "Parsing completed. Parsed 4346332 lines in 83.0152 secs."
      ]
     },
     "metadata": {},
     "output_type": "display_data"
    },
    {
     "data": {
      "text/html": [
       "<pre>Finished parsing file /kaggle/input/bgu-recsys-ctr-prediction/train_data/train1/part-00008.csv</pre>"
      ],
      "text/plain": [
       "Finished parsing file /kaggle/input/bgu-recsys-ctr-prediction/train_data/train1/part-00008.csv"
      ]
     },
     "metadata": {},
     "output_type": "display_data"
    },
    {
     "data": {
      "text/html": [
       "<pre>Parsing completed. Parsed 100 lines in 1.73006 secs.</pre>"
      ],
      "text/plain": [
       "Parsing completed. Parsed 100 lines in 1.73006 secs."
      ]
     },
     "metadata": {},
     "output_type": "display_data"
    },
    {
     "name": "stdout",
     "output_type": "stream",
     "text": [
      "------------------------------------------------------\n",
      "Inferred types from first 100 line(s) of file as \n",
      "column_type_hints=[int,str,str,str,str,float,float,str,str,float,float,float,str,str,str,str,int,str,str,int,int,int,float]\n",
      "If parsing fails due to incorrect types, you can correct\n",
      "the inferred type list above and pass it to read_csv in\n",
      "the column_type_hints argument\n",
      "------------------------------------------------------\n"
     ]
    },
    {
     "data": {
      "text/html": [
       "<pre>Read 52858 lines. Lines per second: 33311.5</pre>"
      ],
      "text/plain": [
       "Read 52858 lines. Lines per second: 33311.5"
      ]
     },
     "metadata": {},
     "output_type": "display_data"
    },
    {
     "data": {
      "text/html": [
       "<pre>Read 317152 lines. Lines per second: 46002.9</pre>"
      ],
      "text/plain": [
       "Read 317152 lines. Lines per second: 46002.9"
      ]
     },
     "metadata": {},
     "output_type": "display_data"
    },
    {
     "data": {
      "text/html": [
       "<pre>Finished parsing file /kaggle/input/bgu-recsys-ctr-prediction/train_data/train1/part-00008.csv</pre>"
      ],
      "text/plain": [
       "Finished parsing file /kaggle/input/bgu-recsys-ctr-prediction/train_data/train1/part-00008.csv"
      ]
     },
     "metadata": {},
     "output_type": "display_data"
    },
    {
     "data": {
      "text/html": [
       "<pre>Read 601454 lines. Lines per second: 47023.5</pre>"
      ],
      "text/plain": [
       "Read 601454 lines. Lines per second: 47023.5"
      ]
     },
     "metadata": {},
     "output_type": "display_data"
    },
    {
     "data": {
      "text/html": [
       "<pre>Read 865755 lines. Lines per second: 48390.1</pre>"
      ],
      "text/plain": [
       "Read 865755 lines. Lines per second: 48390.1"
      ]
     },
     "metadata": {},
     "output_type": "display_data"
    },
    {
     "data": {
      "text/html": [
       "<pre>Finished parsing file /kaggle/input/bgu-recsys-ctr-prediction/train_data/train1/part-00010.csv</pre>"
      ],
      "text/plain": [
       "Finished parsing file /kaggle/input/bgu-recsys-ctr-prediction/train_data/train1/part-00010.csv"
      ]
     },
     "metadata": {},
     "output_type": "display_data"
    },
    {
     "data": {
      "text/html": [
       "<pre>Read 1091569 lines. Lines per second: 46190.5</pre>"
      ],
      "text/plain": [
       "Read 1091569 lines. Lines per second: 46190.5"
      ]
     },
     "metadata": {},
     "output_type": "display_data"
    },
    {
     "data": {
      "text/html": [
       "<pre>Finished parsing file /kaggle/input/bgu-recsys-ctr-prediction/train_data/train1/part-00006.csv</pre>"
      ],
      "text/plain": [
       "Finished parsing file /kaggle/input/bgu-recsys-ctr-prediction/train_data/train1/part-00006.csv"
      ]
     },
     "metadata": {},
     "output_type": "display_data"
    },
    {
     "data": {
      "text/html": [
       "<pre>Read 1326142 lines. Lines per second: 46272.2</pre>"
      ],
      "text/plain": [
       "Read 1326142 lines. Lines per second: 46272.2"
      ]
     },
     "metadata": {},
     "output_type": "display_data"
    },
    {
     "data": {
      "text/html": [
       "<pre>Read 1590436 lines. Lines per second: 46426.1</pre>"
      ],
      "text/plain": [
       "Read 1590436 lines. Lines per second: 46426.1"
      ]
     },
     "metadata": {},
     "output_type": "display_data"
    },
    {
     "data": {
      "text/html": [
       "<pre>Finished parsing file /kaggle/input/bgu-recsys-ctr-prediction/train_data/train1/part-00004.csv</pre>"
      ],
      "text/plain": [
       "Finished parsing file /kaggle/input/bgu-recsys-ctr-prediction/train_data/train1/part-00004.csv"
      ]
     },
     "metadata": {},
     "output_type": "display_data"
    },
    {
     "data": {
      "text/html": [
       "<pre>Read 1850876 lines. Lines per second: 46287.3</pre>"
      ],
      "text/plain": [
       "Read 1850876 lines. Lines per second: 46287.3"
      ]
     },
     "metadata": {},
     "output_type": "display_data"
    },
    {
     "data": {
      "text/html": [
       "<pre>Read 2115170 lines. Lines per second: 46344.7</pre>"
      ],
      "text/plain": [
       "Read 2115170 lines. Lines per second: 46344.7"
      ]
     },
     "metadata": {},
     "output_type": "display_data"
    },
    {
     "data": {
      "text/html": [
       "<pre>Finished parsing file /kaggle/input/bgu-recsys-ctr-prediction/train_data/train1/part-00001.csv</pre>"
      ],
      "text/plain": [
       "Finished parsing file /kaggle/input/bgu-recsys-ctr-prediction/train_data/train1/part-00001.csv"
      ]
     },
     "metadata": {},
     "output_type": "display_data"
    },
    {
     "data": {
      "text/html": [
       "<pre>Read 2336714 lines. Lines per second: 45931.8</pre>"
      ],
      "text/plain": [
       "Read 2336714 lines. Lines per second: 45931.8"
      ]
     },
     "metadata": {},
     "output_type": "display_data"
    },
    {
     "data": {
      "text/html": [
       "<pre>Read 2601011 lines. Lines per second: 46541.6</pre>"
      ],
      "text/plain": [
       "Read 2601011 lines. Lines per second: 46541.6"
      ]
     },
     "metadata": {},
     "output_type": "display_data"
    },
    {
     "data": {
      "text/html": [
       "<pre>Finished parsing file /kaggle/input/bgu-recsys-ctr-prediction/train_data/train1/part-00005.csv</pre>"
      ],
      "text/plain": [
       "Finished parsing file /kaggle/input/bgu-recsys-ctr-prediction/train_data/train1/part-00005.csv"
      ]
     },
     "metadata": {},
     "output_type": "display_data"
    },
    {
     "data": {
      "text/html": [
       "<pre>Read 2831327 lines. Lines per second: 45905.5</pre>"
      ],
      "text/plain": [
       "Read 2831327 lines. Lines per second: 45905.5"
      ]
     },
     "metadata": {},
     "output_type": "display_data"
    },
    {
     "data": {
      "text/html": [
       "<pre>Finished parsing file /kaggle/input/bgu-recsys-ctr-prediction/train_data/train1/part-00003.csv</pre>"
      ],
      "text/plain": [
       "Finished parsing file /kaggle/input/bgu-recsys-ctr-prediction/train_data/train1/part-00003.csv"
      ]
     },
     "metadata": {},
     "output_type": "display_data"
    },
    {
     "data": {
      "text/html": [
       "<pre>Read 3069891 lines. Lines per second: 45829.1</pre>"
      ],
      "text/plain": [
       "Read 3069891 lines. Lines per second: 45829.1"
      ]
     },
     "metadata": {},
     "output_type": "display_data"
    },
    {
     "data": {
      "text/html": [
       "<pre>Read 3334191 lines. Lines per second: 45962.5</pre>"
      ],
      "text/plain": [
       "Read 3334191 lines. Lines per second: 45962.5"
      ]
     },
     "metadata": {},
     "output_type": "display_data"
    },
    {
     "data": {
      "text/html": [
       "<pre>Finished parsing file /kaggle/input/bgu-recsys-ctr-prediction/train_data/train1/part-00007.csv</pre>"
      ],
      "text/plain": [
       "Finished parsing file /kaggle/input/bgu-recsys-ctr-prediction/train_data/train1/part-00007.csv"
      ]
     },
     "metadata": {},
     "output_type": "display_data"
    },
    {
     "data": {
      "text/html": [
       "<pre>Read 3600016 lines. Lines per second: 45820.3</pre>"
      ],
      "text/plain": [
       "Read 3600016 lines. Lines per second: 45820.3"
      ]
     },
     "metadata": {},
     "output_type": "display_data"
    },
    {
     "data": {
      "text/html": [
       "<pre>Read 3864310 lines. Lines per second: 45905.8</pre>"
      ],
      "text/plain": [
       "Read 3864310 lines. Lines per second: 45905.8"
      ]
     },
     "metadata": {},
     "output_type": "display_data"
    },
    {
     "data": {
      "text/html": [
       "<pre>Finished parsing file /kaggle/input/bgu-recsys-ctr-prediction/train_data/train1/part-00009.csv</pre>"
      ],
      "text/plain": [
       "Finished parsing file /kaggle/input/bgu-recsys-ctr-prediction/train_data/train1/part-00009.csv"
      ]
     },
     "metadata": {},
     "output_type": "display_data"
    },
    {
     "data": {
      "text/html": [
       "<pre>Read 4143077 lines. Lines per second: 45889.1</pre>"
      ],
      "text/plain": [
       "Read 4143077 lines. Lines per second: 45889.1"
      ]
     },
     "metadata": {},
     "output_type": "display_data"
    },
    {
     "data": {
      "text/html": [
       "<pre>Finished parsing file /kaggle/input/bgu-recsys-ctr-prediction/train_data/train1/part-00002.csv</pre>"
      ],
      "text/plain": [
       "Finished parsing file /kaggle/input/bgu-recsys-ctr-prediction/train_data/train1/part-00002.csv"
      ]
     },
     "metadata": {},
     "output_type": "display_data"
    },
    {
     "data": {
      "text/html": [
       "<pre>Read 4404719 lines. Lines per second: 45858.7</pre>"
      ],
      "text/plain": [
       "Read 4404719 lines. Lines per second: 45858.7"
      ]
     },
     "metadata": {},
     "output_type": "display_data"
    },
    {
     "data": {
      "text/html": [
       "<pre>Read 4669017 lines. Lines per second: 46016.5</pre>"
      ],
      "text/plain": [
       "Read 4669017 lines. Lines per second: 46016.5"
      ]
     },
     "metadata": {},
     "output_type": "display_data"
    },
    {
     "data": {
      "text/html": [
       "<pre>Finished parsing file /kaggle/input/bgu-recsys-ctr-prediction/train_data/train1/part-00000.csv</pre>"
      ],
      "text/plain": [
       "Finished parsing file /kaggle/input/bgu-recsys-ctr-prediction/train_data/train1/part-00000.csv"
      ]
     },
     "metadata": {},
     "output_type": "display_data"
    },
    {
     "data": {
      "text/html": [
       "<pre>Parsing completed. Parsed 4867453 lines in 104.779 secs.</pre>"
      ],
      "text/plain": [
       "Parsing completed. Parsed 4867453 lines in 104.779 secs."
      ]
     },
     "metadata": {},
     "output_type": "display_data"
    },
    {
     "data": {
      "text/html": [
       "<pre>Finished parsing file /kaggle/input/bgu-recsys-ctr-prediction/train_data/train7/part-00064.csv</pre>"
      ],
      "text/plain": [
       "Finished parsing file /kaggle/input/bgu-recsys-ctr-prediction/train_data/train7/part-00064.csv"
      ]
     },
     "metadata": {},
     "output_type": "display_data"
    },
    {
     "data": {
      "text/html": [
       "<pre>Parsing completed. Parsed 100 lines in 2.18118 secs.</pre>"
      ],
      "text/plain": [
       "Parsing completed. Parsed 100 lines in 2.18118 secs."
      ]
     },
     "metadata": {},
     "output_type": "display_data"
    },
    {
     "name": "stdout",
     "output_type": "stream",
     "text": [
      "------------------------------------------------------\n",
      "Inferred types from first 100 line(s) of file as \n",
      "column_type_hints=[int,str,str,str,str,float,float,str,str,float,float,float,str,str,str,str,int,str,str,int,int,int,float]\n",
      "If parsing fails due to incorrect types, you can correct\n",
      "the inferred type list above and pass it to read_csv in\n",
      "the column_type_hints argument\n",
      "------------------------------------------------------\n"
     ]
    },
    {
     "data": {
      "text/html": [
       "<pre>Read 52860 lines. Lines per second: 33886.2</pre>"
      ],
      "text/plain": [
       "Read 52860 lines. Lines per second: 33886.2"
      ]
     },
     "metadata": {},
     "output_type": "display_data"
    },
    {
     "data": {
      "text/html": [
       "<pre>Read 317158 lines. Lines per second: 47035.6</pre>"
      ],
      "text/plain": [
       "Read 317158 lines. Lines per second: 47035.6"
      ]
     },
     "metadata": {},
     "output_type": "display_data"
    },
    {
     "data": {
      "text/html": [
       "<pre>Finished parsing file /kaggle/input/bgu-recsys-ctr-prediction/train_data/train7/part-00064.csv</pre>"
      ],
      "text/plain": [
       "Finished parsing file /kaggle/input/bgu-recsys-ctr-prediction/train_data/train7/part-00064.csv"
      ]
     },
     "metadata": {},
     "output_type": "display_data"
    },
    {
     "data": {
      "text/html": [
       "<pre>Read 581426 lines. Lines per second: 46629.7</pre>"
      ],
      "text/plain": [
       "Read 581426 lines. Lines per second: 46629.7"
      ]
     },
     "metadata": {},
     "output_type": "display_data"
    },
    {
     "data": {
      "text/html": [
       "<pre>Read 845723 lines. Lines per second: 48465.6</pre>"
      ],
      "text/plain": [
       "Read 845723 lines. Lines per second: 48465.6"
      ]
     },
     "metadata": {},
     "output_type": "display_data"
    },
    {
     "data": {
      "text/html": [
       "<pre>Finished parsing file /kaggle/input/bgu-recsys-ctr-prediction/train_data/train7/part-00067.csv</pre>"
      ],
      "text/plain": [
       "Finished parsing file /kaggle/input/bgu-recsys-ctr-prediction/train_data/train7/part-00067.csv"
      ]
     },
     "metadata": {},
     "output_type": "display_data"
    },
    {
     "data": {
      "text/html": [
       "<pre>Read 1086996 lines. Lines per second: 47659</pre>"
      ],
      "text/plain": [
       "Read 1086996 lines. Lines per second: 47659"
      ]
     },
     "metadata": {},
     "output_type": "display_data"
    },
    {
     "data": {
      "text/html": [
       "<pre>Finished parsing file /kaggle/input/bgu-recsys-ctr-prediction/train_data/train7/part-00062.csv</pre>"
      ],
      "text/plain": [
       "Finished parsing file /kaggle/input/bgu-recsys-ctr-prediction/train_data/train7/part-00062.csv"
      ]
     },
     "metadata": {},
     "output_type": "display_data"
    },
    {
     "data": {
      "text/html": [
       "<pre>Read 1343192 lines. Lines per second: 47615.4</pre>"
      ],
      "text/plain": [
       "Read 1343192 lines. Lines per second: 47615.4"
      ]
     },
     "metadata": {},
     "output_type": "display_data"
    },
    {
     "data": {
      "text/html": [
       "<pre>Read 1607485 lines. Lines per second: 47805.7</pre>"
      ],
      "text/plain": [
       "Read 1607485 lines. Lines per second: 47805.7"
      ]
     },
     "metadata": {},
     "output_type": "display_data"
    },
    {
     "data": {
      "text/html": [
       "<pre>Finished parsing file /kaggle/input/bgu-recsys-ctr-prediction/train_data/train7/part-00061.csv</pre>"
      ],
      "text/plain": [
       "Finished parsing file /kaggle/input/bgu-recsys-ctr-prediction/train_data/train7/part-00061.csv"
      ]
     },
     "metadata": {},
     "output_type": "display_data"
    },
    {
     "data": {
      "text/html": [
       "<pre>Read 1879682 lines. Lines per second: 47421.7</pre>"
      ],
      "text/plain": [
       "Read 1879682 lines. Lines per second: 47421.7"
      ]
     },
     "metadata": {},
     "output_type": "display_data"
    },
    {
     "data": {
      "text/html": [
       "<pre>Finished parsing file /kaggle/input/bgu-recsys-ctr-prediction/train_data/train7/part-00068.csv</pre>"
      ],
      "text/plain": [
       "Finished parsing file /kaggle/input/bgu-recsys-ctr-prediction/train_data/train7/part-00068.csv"
      ]
     },
     "metadata": {},
     "output_type": "display_data"
    },
    {
     "data": {
      "text/html": [
       "<pre>Read 2147420 lines. Lines per second: 47422.6</pre>"
      ],
      "text/plain": [
       "Read 2147420 lines. Lines per second: 47422.6"
      ]
     },
     "metadata": {},
     "output_type": "display_data"
    },
    {
     "data": {
      "text/html": [
       "<pre>Read 2411717 lines. Lines per second: 47655.2</pre>"
      ],
      "text/plain": [
       "Read 2411717 lines. Lines per second: 47655.2"
      ]
     },
     "metadata": {},
     "output_type": "display_data"
    },
    {
     "data": {
      "text/html": [
       "<pre>Finished parsing file /kaggle/input/bgu-recsys-ctr-prediction/train_data/train7/part-00065.csv</pre>"
      ],
      "text/plain": [
       "Finished parsing file /kaggle/input/bgu-recsys-ctr-prediction/train_data/train7/part-00065.csv"
      ]
     },
     "metadata": {},
     "output_type": "display_data"
    },
    {
     "data": {
      "text/html": [
       "<pre>Read 2648733 lines. Lines per second: 47569.4</pre>"
      ],
      "text/plain": [
       "Read 2648733 lines. Lines per second: 47569.4"
      ]
     },
     "metadata": {},
     "output_type": "display_data"
    },
    {
     "data": {
      "text/html": [
       "<pre>Read 2913032 lines. Lines per second: 47862.4</pre>"
      ],
      "text/plain": [
       "Read 2913032 lines. Lines per second: 47862.4"
      ]
     },
     "metadata": {},
     "output_type": "display_data"
    },
    {
     "data": {
      "text/html": [
       "<pre>Finished parsing file /kaggle/input/bgu-recsys-ctr-prediction/train_data/train7/part-00066.csv</pre>"
      ],
      "text/plain": [
       "Finished parsing file /kaggle/input/bgu-recsys-ctr-prediction/train_data/train7/part-00066.csv"
      ]
     },
     "metadata": {},
     "output_type": "display_data"
    },
    {
     "data": {
      "text/html": [
       "<pre>Read 3166298 lines. Lines per second: 47694.7</pre>"
      ],
      "text/plain": [
       "Read 3166298 lines. Lines per second: 47694.7"
      ]
     },
     "metadata": {},
     "output_type": "display_data"
    },
    {
     "data": {
      "text/html": [
       "<pre>Read 3430593 lines. Lines per second: 48059.2</pre>"
      ],
      "text/plain": [
       "Read 3430593 lines. Lines per second: 48059.2"
      ]
     },
     "metadata": {},
     "output_type": "display_data"
    },
    {
     "data": {
      "text/html": [
       "<pre>Finished parsing file /kaggle/input/bgu-recsys-ctr-prediction/train_data/train7/part-00063.csv</pre>"
      ],
      "text/plain": [
       "Finished parsing file /kaggle/input/bgu-recsys-ctr-prediction/train_data/train7/part-00063.csv"
      ]
     },
     "metadata": {},
     "output_type": "display_data"
    },
    {
     "data": {
      "text/html": [
       "<pre>Parsing completed. Parsed 3465109 lines in 71.6452 secs.</pre>"
      ],
      "text/plain": [
       "Parsing completed. Parsed 3465109 lines in 71.6452 secs."
      ]
     },
     "metadata": {},
     "output_type": "display_data"
    },
    {
     "data": {
      "text/html": [
       "<pre>Finished parsing file /kaggle/input/bgu-recsys-ctr-prediction/train_data/train4/part-00035.csv</pre>"
      ],
      "text/plain": [
       "Finished parsing file /kaggle/input/bgu-recsys-ctr-prediction/train_data/train4/part-00035.csv"
      ]
     },
     "metadata": {},
     "output_type": "display_data"
    },
    {
     "data": {
      "text/html": [
       "<pre>Parsing completed. Parsed 100 lines in 1.44417 secs.</pre>"
      ],
      "text/plain": [
       "Parsing completed. Parsed 100 lines in 1.44417 secs."
      ]
     },
     "metadata": {},
     "output_type": "display_data"
    },
    {
     "name": "stdout",
     "output_type": "stream",
     "text": [
      "------------------------------------------------------\n",
      "Inferred types from first 100 line(s) of file as \n",
      "column_type_hints=[int,str,str,str,str,float,float,str,str,float,float,float,str,str,str,str,int,str,str,int,int,int,float]\n",
      "If parsing fails due to incorrect types, you can correct\n",
      "the inferred type list above and pass it to read_csv in\n",
      "the column_type_hints argument\n",
      "------------------------------------------------------\n"
     ]
    },
    {
     "data": {
      "text/html": [
       "<pre>Read 105717 lines. Lines per second: 45375</pre>"
      ],
      "text/plain": [
       "Read 105717 lines. Lines per second: 45375"
      ]
     },
     "metadata": {},
     "output_type": "display_data"
    },
    {
     "data": {
      "text/html": [
       "<pre>Read 370012 lines. Lines per second: 50462</pre>"
      ],
      "text/plain": [
       "Read 370012 lines. Lines per second: 50462"
      ]
     },
     "metadata": {},
     "output_type": "display_data"
    },
    {
     "data": {
      "text/html": [
       "<pre>Finished parsing file /kaggle/input/bgu-recsys-ctr-prediction/train_data/train4/part-00035.csv</pre>"
      ],
      "text/plain": [
       "Finished parsing file /kaggle/input/bgu-recsys-ctr-prediction/train_data/train4/part-00035.csv"
      ]
     },
     "metadata": {},
     "output_type": "display_data"
    },
    {
     "data": {
      "text/html": [
       "<pre>Read 645747 lines. Lines per second: 50504</pre>"
      ],
      "text/plain": [
       "Read 645747 lines. Lines per second: 50504"
      ]
     },
     "metadata": {},
     "output_type": "display_data"
    },
    {
     "data": {
      "text/html": [
       "<pre>Finished parsing file /kaggle/input/bgu-recsys-ctr-prediction/train_data/train4/part-00036.csv</pre>"
      ],
      "text/plain": [
       "Finished parsing file /kaggle/input/bgu-recsys-ctr-prediction/train_data/train4/part-00036.csv"
      ]
     },
     "metadata": {},
     "output_type": "display_data"
    },
    {
     "data": {
      "text/html": [
       "<pre>Read 884326 lines. Lines per second: 49531.4</pre>"
      ],
      "text/plain": [
       "Read 884326 lines. Lines per second: 49531.4"
      ]
     },
     "metadata": {},
     "output_type": "display_data"
    },
    {
     "data": {
      "text/html": [
       "<pre>Read 1148622 lines. Lines per second: 49637.3</pre>"
      ],
      "text/plain": [
       "Read 1148622 lines. Lines per second: 49637.3"
      ]
     },
     "metadata": {},
     "output_type": "display_data"
    },
    {
     "data": {
      "text/html": [
       "<pre>Finished parsing file /kaggle/input/bgu-recsys-ctr-prediction/train_data/train4/part-00031.csv</pre>"
      ],
      "text/plain": [
       "Finished parsing file /kaggle/input/bgu-recsys-ctr-prediction/train_data/train4/part-00031.csv"
      ]
     },
     "metadata": {},
     "output_type": "display_data"
    },
    {
     "data": {
      "text/html": [
       "<pre>Read 1401654 lines. Lines per second: 49294.6</pre>"
      ],
      "text/plain": [
       "Read 1401654 lines. Lines per second: 49294.6"
      ]
     },
     "metadata": {},
     "output_type": "display_data"
    },
    {
     "data": {
      "text/html": [
       "<pre>Read 1665956 lines. Lines per second: 49534.5</pre>"
      ],
      "text/plain": [
       "Read 1665956 lines. Lines per second: 49534.5"
      ]
     },
     "metadata": {},
     "output_type": "display_data"
    },
    {
     "data": {
      "text/html": [
       "<pre>Finished parsing file /kaggle/input/bgu-recsys-ctr-prediction/train_data/train4/part-00038.csv</pre>"
      ],
      "text/plain": [
       "Finished parsing file /kaggle/input/bgu-recsys-ctr-prediction/train_data/train4/part-00038.csv"
      ]
     },
     "metadata": {},
     "output_type": "display_data"
    },
    {
     "data": {
      "text/html": [
       "<pre>Read 1906139 lines. Lines per second: 49284.8</pre>"
      ],
      "text/plain": [
       "Read 1906139 lines. Lines per second: 49284.8"
      ]
     },
     "metadata": {},
     "output_type": "display_data"
    },
    {
     "data": {
      "text/html": [
       "<pre>Read 2170433 lines. Lines per second: 49713.3</pre>"
      ],
      "text/plain": [
       "Read 2170433 lines. Lines per second: 49713.3"
      ]
     },
     "metadata": {},
     "output_type": "display_data"
    },
    {
     "data": {
      "text/html": [
       "<pre>Finished parsing file /kaggle/input/bgu-recsys-ctr-prediction/train_data/train4/part-00037.csv</pre>"
      ],
      "text/plain": [
       "Finished parsing file /kaggle/input/bgu-recsys-ctr-prediction/train_data/train4/part-00037.csv"
      ]
     },
     "metadata": {},
     "output_type": "display_data"
    },
    {
     "data": {
      "text/html": [
       "<pre>Read 2413970 lines. Lines per second: 48977.3</pre>"
      ],
      "text/plain": [
       "Read 2413970 lines. Lines per second: 48977.3"
      ]
     },
     "metadata": {},
     "output_type": "display_data"
    },
    {
     "data": {
      "text/html": [
       "<pre>Finished parsing file /kaggle/input/bgu-recsys-ctr-prediction/train_data/train4/part-00034.csv</pre>"
      ],
      "text/plain": [
       "Finished parsing file /kaggle/input/bgu-recsys-ctr-prediction/train_data/train4/part-00034.csv"
      ]
     },
     "metadata": {},
     "output_type": "display_data"
    },
    {
     "data": {
      "text/html": [
       "<pre>Read 2677718 lines. Lines per second: 48814</pre>"
      ],
      "text/plain": [
       "Read 2677718 lines. Lines per second: 48814"
      ]
     },
     "metadata": {},
     "output_type": "display_data"
    },
    {
     "data": {
      "text/html": [
       "<pre>Read 2942016 lines. Lines per second: 48849.4</pre>"
      ],
      "text/plain": [
       "Read 2942016 lines. Lines per second: 48849.4"
      ]
     },
     "metadata": {},
     "output_type": "display_data"
    },
    {
     "data": {
      "text/html": [
       "<pre>Finished parsing file /kaggle/input/bgu-recsys-ctr-prediction/train_data/train4/part-00033.csv</pre>"
      ],
      "text/plain": [
       "Finished parsing file /kaggle/input/bgu-recsys-ctr-prediction/train_data/train4/part-00033.csv"
      ]
     },
     "metadata": {},
     "output_type": "display_data"
    },
    {
     "data": {
      "text/html": [
       "<pre>Read 3177626 lines. Lines per second: 48731.2</pre>"
      ],
      "text/plain": [
       "Read 3177626 lines. Lines per second: 48731.2"
      ]
     },
     "metadata": {},
     "output_type": "display_data"
    },
    {
     "data": {
      "text/html": [
       "<pre>Read 3441923 lines. Lines per second: 48568.1</pre>"
      ],
      "text/plain": [
       "Read 3441923 lines. Lines per second: 48568.1"
      ]
     },
     "metadata": {},
     "output_type": "display_data"
    },
    {
     "data": {
      "text/html": [
       "<pre>Finished parsing file /kaggle/input/bgu-recsys-ctr-prediction/train_data/train4/part-00039.csv</pre>"
      ],
      "text/plain": [
       "Finished parsing file /kaggle/input/bgu-recsys-ctr-prediction/train_data/train4/part-00039.csv"
      ]
     },
     "metadata": {},
     "output_type": "display_data"
    },
    {
     "data": {
      "text/html": [
       "<pre>Read 3669545 lines. Lines per second: 48257.5</pre>"
      ],
      "text/plain": [
       "Read 3669545 lines. Lines per second: 48257.5"
      ]
     },
     "metadata": {},
     "output_type": "display_data"
    },
    {
     "data": {
      "text/html": [
       "<pre>Finished parsing file /kaggle/input/bgu-recsys-ctr-prediction/train_data/train4/part-00032.csv</pre>"
      ],
      "text/plain": [
       "Finished parsing file /kaggle/input/bgu-recsys-ctr-prediction/train_data/train4/part-00032.csv"
      ]
     },
     "metadata": {},
     "output_type": "display_data"
    },
    {
     "data": {
      "text/html": [
       "<pre>Read 3964783 lines. Lines per second: 48229.7</pre>"
      ],
      "text/plain": [
       "Read 3964783 lines. Lines per second: 48229.7"
      ]
     },
     "metadata": {},
     "output_type": "display_data"
    },
    {
     "data": {
      "text/html": [
       "<pre>Read 4123357 lines. Lines per second: 47132.2</pre>"
      ],
      "text/plain": [
       "Read 4123357 lines. Lines per second: 47132.2"
      ]
     },
     "metadata": {},
     "output_type": "display_data"
    },
    {
     "data": {
      "text/html": [
       "<pre>Finished parsing file /kaggle/input/bgu-recsys-ctr-prediction/train_data/train4/part-00040.csv</pre>"
      ],
      "text/plain": [
       "Finished parsing file /kaggle/input/bgu-recsys-ctr-prediction/train_data/train4/part-00040.csv"
      ]
     },
     "metadata": {},
     "output_type": "display_data"
    },
    {
     "data": {
      "text/html": [
       "<pre>Parsing completed. Parsed 4397628 lines in 92.4548 secs.</pre>"
      ],
      "text/plain": [
       "Parsing completed. Parsed 4397628 lines in 92.4548 secs."
      ]
     },
     "metadata": {},
     "output_type": "display_data"
    },
    {
     "data": {
      "text/html": [
       "<pre>Finished parsing file /kaggle/input/bgu-recsys-ctr-prediction/train_data/train2/part-00017.csv</pre>"
      ],
      "text/plain": [
       "Finished parsing file /kaggle/input/bgu-recsys-ctr-prediction/train_data/train2/part-00017.csv"
      ]
     },
     "metadata": {},
     "output_type": "display_data"
    },
    {
     "data": {
      "text/html": [
       "<pre>Parsing completed. Parsed 100 lines in 1.48306 secs.</pre>"
      ],
      "text/plain": [
       "Parsing completed. Parsed 100 lines in 1.48306 secs."
      ]
     },
     "metadata": {},
     "output_type": "display_data"
    },
    {
     "name": "stdout",
     "output_type": "stream",
     "text": [
      "------------------------------------------------------\n",
      "Inferred types from first 100 line(s) of file as \n",
      "column_type_hints=[int,str,str,str,str,float,float,str,str,float,float,float,str,str,str,str,int,str,str,int,int,int,float]\n",
      "If parsing fails due to incorrect types, you can correct\n",
      "the inferred type list above and pass it to read_csv in\n",
      "the column_type_hints argument\n",
      "------------------------------------------------------\n"
     ]
    },
    {
     "data": {
      "text/html": [
       "<pre>Read 52859 lines. Lines per second: 37661.7</pre>"
      ],
      "text/plain": [
       "Read 52859 lines. Lines per second: 37661.7"
      ]
     },
     "metadata": {},
     "output_type": "display_data"
    },
    {
     "data": {
      "text/html": [
       "<pre>Read 317155 lines. Lines per second: 49359.2</pre>"
      ],
      "text/plain": [
       "Read 317155 lines. Lines per second: 49359.2"
      ]
     },
     "metadata": {},
     "output_type": "display_data"
    },
    {
     "data": {
      "text/html": [
       "<pre>Finished parsing file /kaggle/input/bgu-recsys-ctr-prediction/train_data/train2/part-00017.csv</pre>"
      ],
      "text/plain": [
       "Finished parsing file /kaggle/input/bgu-recsys-ctr-prediction/train_data/train2/part-00017.csv"
      ]
     },
     "metadata": {},
     "output_type": "display_data"
    },
    {
     "data": {
      "text/html": [
       "<pre>Read 588057 lines. Lines per second: 48814.4</pre>"
      ],
      "text/plain": [
       "Read 588057 lines. Lines per second: 48814.4"
      ]
     },
     "metadata": {},
     "output_type": "display_data"
    },
    {
     "data": {
      "text/html": [
       "<pre>Finished parsing file /kaggle/input/bgu-recsys-ctr-prediction/train_data/train2/part-00013.csv</pre>"
      ],
      "text/plain": [
       "Finished parsing file /kaggle/input/bgu-recsys-ctr-prediction/train_data/train2/part-00013.csv"
      ]
     },
     "metadata": {},
     "output_type": "display_data"
    },
    {
     "data": {
      "text/html": [
       "<pre>Read 865251 lines. Lines per second: 48152.2</pre>"
      ],
      "text/plain": [
       "Read 865251 lines. Lines per second: 48152.2"
      ]
     },
     "metadata": {},
     "output_type": "display_data"
    },
    {
     "data": {
      "text/html": [
       "<pre>Read 1129548 lines. Lines per second: 48655</pre>"
      ],
      "text/plain": [
       "Read 1129548 lines. Lines per second: 48655"
      ]
     },
     "metadata": {},
     "output_type": "display_data"
    },
    {
     "data": {
      "text/html": [
       "<pre>Finished parsing file /kaggle/input/bgu-recsys-ctr-prediction/train_data/train2/part-00014.csv</pre>"
      ],
      "text/plain": [
       "Finished parsing file /kaggle/input/bgu-recsys-ctr-prediction/train_data/train2/part-00014.csv"
      ]
     },
     "metadata": {},
     "output_type": "display_data"
    },
    {
     "data": {
      "text/html": [
       "<pre>Read 1409236 lines. Lines per second: 48493.9</pre>"
      ],
      "text/plain": [
       "Read 1409236 lines. Lines per second: 48493.9"
      ]
     },
     "metadata": {},
     "output_type": "display_data"
    },
    {
     "data": {
      "text/html": [
       "<pre>Read 1673534 lines. Lines per second: 48779.4</pre>"
      ],
      "text/plain": [
       "Read 1673534 lines. Lines per second: 48779.4"
      ]
     },
     "metadata": {},
     "output_type": "display_data"
    },
    {
     "data": {
      "text/html": [
       "<pre>Finished parsing file /kaggle/input/bgu-recsys-ctr-prediction/train_data/train2/part-00015.csv</pre>"
      ],
      "text/plain": [
       "Finished parsing file /kaggle/input/bgu-recsys-ctr-prediction/train_data/train2/part-00015.csv"
      ]
     },
     "metadata": {},
     "output_type": "display_data"
    },
    {
     "data": {
      "text/html": [
       "<pre>Read 1919210 lines. Lines per second: 48779.1</pre>"
      ],
      "text/plain": [
       "Read 1919210 lines. Lines per second: 48779.1"
      ]
     },
     "metadata": {},
     "output_type": "display_data"
    },
    {
     "data": {
      "text/html": [
       "<pre>Finished parsing file /kaggle/input/bgu-recsys-ctr-prediction/train_data/train2/part-00016.csv</pre>"
      ],
      "text/plain": [
       "Finished parsing file /kaggle/input/bgu-recsys-ctr-prediction/train_data/train2/part-00016.csv"
      ]
     },
     "metadata": {},
     "output_type": "display_data"
    },
    {
     "data": {
      "text/html": [
       "<pre>Read 2186565 lines. Lines per second: 48503.4</pre>"
      ],
      "text/plain": [
       "Read 2186565 lines. Lines per second: 48503.4"
      ]
     },
     "metadata": {},
     "output_type": "display_data"
    },
    {
     "data": {
      "text/html": [
       "<pre>Read 2450856 lines. Lines per second: 48771.6</pre>"
      ],
      "text/plain": [
       "Read 2450856 lines. Lines per second: 48771.6"
      ]
     },
     "metadata": {},
     "output_type": "display_data"
    },
    {
     "data": {
      "text/html": [
       "<pre>Finished parsing file /kaggle/input/bgu-recsys-ctr-prediction/train_data/train2/part-00018.csv</pre>"
      ],
      "text/plain": [
       "Finished parsing file /kaggle/input/bgu-recsys-ctr-prediction/train_data/train2/part-00018.csv"
      ]
     },
     "metadata": {},
     "output_type": "display_data"
    },
    {
     "data": {
      "text/html": [
       "<pre>Read 2697532 lines. Lines per second: 48867.4</pre>"
      ],
      "text/plain": [
       "Read 2697532 lines. Lines per second: 48867.4"
      ]
     },
     "metadata": {},
     "output_type": "display_data"
    },
    {
     "data": {
      "text/html": [
       "<pre>Read 2961825 lines. Lines per second: 49022.3</pre>"
      ],
      "text/plain": [
       "Read 2961825 lines. Lines per second: 49022.3"
      ]
     },
     "metadata": {},
     "output_type": "display_data"
    },
    {
     "data": {
      "text/html": [
       "<pre>Finished parsing file /kaggle/input/bgu-recsys-ctr-prediction/train_data/train2/part-00012.csv</pre>"
      ],
      "text/plain": [
       "Finished parsing file /kaggle/input/bgu-recsys-ctr-prediction/train_data/train2/part-00012.csv"
      ]
     },
     "metadata": {},
     "output_type": "display_data"
    },
    {
     "data": {
      "text/html": [
       "<pre>Read 3240176 lines. Lines per second: 49026.9</pre>"
      ],
      "text/plain": [
       "Read 3240176 lines. Lines per second: 49026.9"
      ]
     },
     "metadata": {},
     "output_type": "display_data"
    },
    {
     "data": {
      "text/html": [
       "<pre>Finished parsing file /kaggle/input/bgu-recsys-ctr-prediction/train_data/train2/part-00019.csv</pre>"
      ],
      "text/plain": [
       "Finished parsing file /kaggle/input/bgu-recsys-ctr-prediction/train_data/train2/part-00019.csv"
      ]
     },
     "metadata": {},
     "output_type": "display_data"
    },
    {
     "data": {
      "text/html": [
       "<pre>Read 3530596 lines. Lines per second: 48871.9</pre>"
      ],
      "text/plain": [
       "Read 3530596 lines. Lines per second: 48871.9"
      ]
     },
     "metadata": {},
     "output_type": "display_data"
    },
    {
     "data": {
      "text/html": [
       "<pre>Read 3794898 lines. Lines per second: 49156.1</pre>"
      ],
      "text/plain": [
       "Read 3794898 lines. Lines per second: 49156.1"
      ]
     },
     "metadata": {},
     "output_type": "display_data"
    },
    {
     "data": {
      "text/html": [
       "<pre>Finished parsing file /kaggle/input/bgu-recsys-ctr-prediction/train_data/train2/part-00011.csv</pre>"
      ],
      "text/plain": [
       "Finished parsing file /kaggle/input/bgu-recsys-ctr-prediction/train_data/train2/part-00011.csv"
      ]
     },
     "metadata": {},
     "output_type": "display_data"
    },
    {
     "data": {
      "text/html": [
       "<pre>Read 4055112 lines. Lines per second: 48988.7</pre>"
      ],
      "text/plain": [
       "Read 4055112 lines. Lines per second: 48988.7"
      ]
     },
     "metadata": {},
     "output_type": "display_data"
    },
    {
     "data": {
      "text/html": [
       "<pre>Read 4213694 lines. Lines per second: 47934.1</pre>"
      ],
      "text/plain": [
       "Read 4213694 lines. Lines per second: 47934.1"
      ]
     },
     "metadata": {},
     "output_type": "display_data"
    },
    {
     "data": {
      "text/html": [
       "<pre>Finished parsing file /kaggle/input/bgu-recsys-ctr-prediction/train_data/train2/part-00020.csv</pre>"
      ],
      "text/plain": [
       "Finished parsing file /kaggle/input/bgu-recsys-ctr-prediction/train_data/train2/part-00020.csv"
      ]
     },
     "metadata": {},
     "output_type": "display_data"
    },
    {
     "data": {
      "text/html": [
       "<pre>Parsing completed. Parsed 4423581 lines in 91.3662 secs.</pre>"
      ],
      "text/plain": [
       "Parsing completed. Parsed 4423581 lines in 91.3662 secs."
      ]
     },
     "metadata": {},
     "output_type": "display_data"
    },
    {
     "data": {
      "text/html": [
       "<pre>Finished parsing file /kaggle/input/bgu-recsys-ctr-prediction/train_data/train3/part-00028.csv</pre>"
      ],
      "text/plain": [
       "Finished parsing file /kaggle/input/bgu-recsys-ctr-prediction/train_data/train3/part-00028.csv"
      ]
     },
     "metadata": {},
     "output_type": "display_data"
    },
    {
     "data": {
      "text/html": [
       "<pre>Parsing completed. Parsed 100 lines in 1.48207 secs.</pre>"
      ],
      "text/plain": [
       "Parsing completed. Parsed 100 lines in 1.48207 secs."
      ]
     },
     "metadata": {},
     "output_type": "display_data"
    },
    {
     "name": "stdout",
     "output_type": "stream",
     "text": [
      "------------------------------------------------------\n",
      "Inferred types from first 100 line(s) of file as \n",
      "column_type_hints=[int,str,str,str,str,float,float,str,str,float,float,float,str,str,str,str,int,str,str,int,int,int,float]\n",
      "If parsing fails due to incorrect types, you can correct\n",
      "the inferred type list above and pass it to read_csv in\n",
      "the column_type_hints argument\n",
      "------------------------------------------------------\n"
     ]
    },
    {
     "data": {
      "text/html": [
       "<pre>Read 52858 lines. Lines per second: 39789.2</pre>"
      ],
      "text/plain": [
       "Read 52858 lines. Lines per second: 39789.2"
      ]
     },
     "metadata": {},
     "output_type": "display_data"
    },
    {
     "data": {
      "text/html": [
       "<pre>Read 370011 lines. Lines per second: 55298.9</pre>"
      ],
      "text/plain": [
       "Read 370011 lines. Lines per second: 55298.9"
      ]
     },
     "metadata": {},
     "output_type": "display_data"
    },
    {
     "data": {
      "text/html": [
       "<pre>Finished parsing file /kaggle/input/bgu-recsys-ctr-prediction/train_data/train3/part-00028.csv</pre>"
      ],
      "text/plain": [
       "Finished parsing file /kaggle/input/bgu-recsys-ctr-prediction/train_data/train3/part-00028.csv"
      ]
     },
     "metadata": {},
     "output_type": "display_data"
    },
    {
     "data": {
      "text/html": [
       "<pre>Read 608738 lines. Lines per second: 50723.7</pre>"
      ],
      "text/plain": [
       "Read 608738 lines. Lines per second: 50723.7"
      ]
     },
     "metadata": {},
     "output_type": "display_data"
    },
    {
     "data": {
      "text/html": [
       "<pre>Finished parsing file /kaggle/input/bgu-recsys-ctr-prediction/train_data/train3/part-00023.csv</pre>"
      ],
      "text/plain": [
       "Finished parsing file /kaggle/input/bgu-recsys-ctr-prediction/train_data/train3/part-00023.csv"
      ]
     },
     "metadata": {},
     "output_type": "display_data"
    },
    {
     "data": {
      "text/html": [
       "<pre>Read 894757 lines. Lines per second: 50822.8</pre>"
      ],
      "text/plain": [
       "Read 894757 lines. Lines per second: 50822.8"
      ]
     },
     "metadata": {},
     "output_type": "display_data"
    },
    {
     "data": {
      "text/html": [
       "<pre>Read 1159058 lines. Lines per second: 50756</pre>"
      ],
      "text/plain": [
       "Read 1159058 lines. Lines per second: 50756"
      ]
     },
     "metadata": {},
     "output_type": "display_data"
    },
    {
     "data": {
      "text/html": [
       "<pre>Finished parsing file /kaggle/input/bgu-recsys-ctr-prediction/train_data/train3/part-00027.csv</pre>"
      ],
      "text/plain": [
       "Finished parsing file /kaggle/input/bgu-recsys-ctr-prediction/train_data/train3/part-00027.csv"
      ]
     },
     "metadata": {},
     "output_type": "display_data"
    },
    {
     "data": {
      "text/html": [
       "<pre>Read 1414644 lines. Lines per second: 50352.2</pre>"
      ],
      "text/plain": [
       "Read 1414644 lines. Lines per second: 50352.2"
      ]
     },
     "metadata": {},
     "output_type": "display_data"
    },
    {
     "data": {
      "text/html": [
       "<pre>Read 1678941 lines. Lines per second: 50453.8</pre>"
      ],
      "text/plain": [
       "Read 1678941 lines. Lines per second: 50453.8"
      ]
     },
     "metadata": {},
     "output_type": "display_data"
    },
    {
     "data": {
      "text/html": [
       "<pre>Finished parsing file /kaggle/input/bgu-recsys-ctr-prediction/train_data/train3/part-00029.csv</pre>"
      ],
      "text/plain": [
       "Finished parsing file /kaggle/input/bgu-recsys-ctr-prediction/train_data/train3/part-00029.csv"
      ]
     },
     "metadata": {},
     "output_type": "display_data"
    },
    {
     "data": {
      "text/html": [
       "<pre>Read 1951931 lines. Lines per second: 50161.4</pre>"
      ],
      "text/plain": [
       "Read 1951931 lines. Lines per second: 50161.4"
      ]
     },
     "metadata": {},
     "output_type": "display_data"
    },
    {
     "data": {
      "text/html": [
       "<pre>Finished parsing file /kaggle/input/bgu-recsys-ctr-prediction/train_data/train3/part-00022.csv</pre>"
      ],
      "text/plain": [
       "Finished parsing file /kaggle/input/bgu-recsys-ctr-prediction/train_data/train3/part-00022.csv"
      ]
     },
     "metadata": {},
     "output_type": "display_data"
    },
    {
     "data": {
      "text/html": [
       "<pre>Read 2222166 lines. Lines per second: 49872.2</pre>"
      ],
      "text/plain": [
       "Read 2222166 lines. Lines per second: 49872.2"
      ]
     },
     "metadata": {},
     "output_type": "display_data"
    },
    {
     "data": {
      "text/html": [
       "<pre>Read 2486465 lines. Lines per second: 50047.9</pre>"
      ],
      "text/plain": [
       "Read 2486465 lines. Lines per second: 50047.9"
      ]
     },
     "metadata": {},
     "output_type": "display_data"
    },
    {
     "data": {
      "text/html": [
       "<pre>Finished parsing file /kaggle/input/bgu-recsys-ctr-prediction/train_data/train3/part-00025.csv</pre>"
      ],
      "text/plain": [
       "Finished parsing file /kaggle/input/bgu-recsys-ctr-prediction/train_data/train3/part-00025.csv"
      ]
     },
     "metadata": {},
     "output_type": "display_data"
    },
    {
     "data": {
      "text/html": [
       "<pre>Read 2755977 lines. Lines per second: 49947.9</pre>"
      ],
      "text/plain": [
       "Read 2755977 lines. Lines per second: 49947.9"
      ]
     },
     "metadata": {},
     "output_type": "display_data"
    },
    {
     "data": {
      "text/html": [
       "<pre>Finished parsing file /kaggle/input/bgu-recsys-ctr-prediction/train_data/train3/part-00021.csv</pre>"
      ],
      "text/plain": [
       "Finished parsing file /kaggle/input/bgu-recsys-ctr-prediction/train_data/train3/part-00021.csv"
      ]
     },
     "metadata": {},
     "output_type": "display_data"
    },
    {
     "data": {
      "text/html": [
       "<pre>Read 3031603 lines. Lines per second: 49715.7</pre>"
      ],
      "text/plain": [
       "Read 3031603 lines. Lines per second: 49715.7"
      ]
     },
     "metadata": {},
     "output_type": "display_data"
    },
    {
     "data": {
      "text/html": [
       "<pre>Read 3295897 lines. Lines per second: 49859.4</pre>"
      ],
      "text/plain": [
       "Read 3295897 lines. Lines per second: 49859.4"
      ]
     },
     "metadata": {},
     "output_type": "display_data"
    },
    {
     "data": {
      "text/html": [
       "<pre>Finished parsing file /kaggle/input/bgu-recsys-ctr-prediction/train_data/train3/part-00030.csv</pre>"
      ],
      "text/plain": [
       "Finished parsing file /kaggle/input/bgu-recsys-ctr-prediction/train_data/train3/part-00030.csv"
      ]
     },
     "metadata": {},
     "output_type": "display_data"
    },
    {
     "data": {
      "text/html": [
       "<pre>Read 3545772 lines. Lines per second: 49568.3</pre>"
      ],
      "text/plain": [
       "Read 3545772 lines. Lines per second: 49568.3"
      ]
     },
     "metadata": {},
     "output_type": "display_data"
    },
    {
     "data": {
      "text/html": [
       "<pre>Read 3810062 lines. Lines per second: 49623.9</pre>"
      ],
      "text/plain": [
       "Read 3810062 lines. Lines per second: 49623.9"
      ]
     },
     "metadata": {},
     "output_type": "display_data"
    },
    {
     "data": {
      "text/html": [
       "<pre>Finished parsing file /kaggle/input/bgu-recsys-ctr-prediction/train_data/train3/part-00024.csv</pre>"
      ],
      "text/plain": [
       "Finished parsing file /kaggle/input/bgu-recsys-ctr-prediction/train_data/train3/part-00024.csv"
      ]
     },
     "metadata": {},
     "output_type": "display_data"
    },
    {
     "data": {
      "text/html": [
       "<pre>Read 4094763 lines. Lines per second: 48411.5</pre>"
      ],
      "text/plain": [
       "Read 4094763 lines. Lines per second: 48411.5"
      ]
     },
     "metadata": {},
     "output_type": "display_data"
    },
    {
     "data": {
      "text/html": [
       "<pre>Read 4359062 lines. Lines per second: 48385.1</pre>"
      ],
      "text/plain": [
       "Read 4359062 lines. Lines per second: 48385.1"
      ]
     },
     "metadata": {},
     "output_type": "display_data"
    },
    {
     "data": {
      "text/html": [
       "<pre>Finished parsing file /kaggle/input/bgu-recsys-ctr-prediction/train_data/train3/part-00026.csv</pre>"
      ],
      "text/plain": [
       "Finished parsing file /kaggle/input/bgu-recsys-ctr-prediction/train_data/train3/part-00026.csv"
      ]
     },
     "metadata": {},
     "output_type": "display_data"
    },
    {
     "data": {
      "text/html": [
       "<pre>Parsing completed. Parsed 4407579 lines in 90.4857 secs.</pre>"
      ],
      "text/plain": [
       "Parsing completed. Parsed 4407579 lines in 90.4857 secs."
      ]
     },
     "metadata": {},
     "output_type": "display_data"
    },
    {
     "data": {
      "text/html": [
       "<pre>Finished parsing file /kaggle/input/bgu-recsys-ctr-prediction/train_data/train6/part-00060.csv</pre>"
      ],
      "text/plain": [
       "Finished parsing file /kaggle/input/bgu-recsys-ctr-prediction/train_data/train6/part-00060.csv"
      ]
     },
     "metadata": {},
     "output_type": "display_data"
    },
    {
     "data": {
      "text/html": [
       "<pre>Parsing completed. Parsed 100 lines in 1.45437 secs.</pre>"
      ],
      "text/plain": [
       "Parsing completed. Parsed 100 lines in 1.45437 secs."
      ]
     },
     "metadata": {},
     "output_type": "display_data"
    },
    {
     "name": "stdout",
     "output_type": "stream",
     "text": [
      "------------------------------------------------------\n",
      "Inferred types from first 100 line(s) of file as \n",
      "column_type_hints=[int,str,str,str,str,float,float,str,str,float,float,float,str,str,str,str,int,str,str,int,int,int,float]\n",
      "If parsing fails due to incorrect types, you can correct\n",
      "the inferred type list above and pass it to read_csv in\n",
      "the column_type_hints argument\n",
      "------------------------------------------------------\n"
     ]
    },
    {
     "data": {
      "text/html": [
       "<pre>Read 105718 lines. Lines per second: 44781.3</pre>"
      ],
      "text/plain": [
       "Read 105718 lines. Lines per second: 44781.3"
      ]
     },
     "metadata": {},
     "output_type": "display_data"
    },
    {
     "data": {
      "text/html": [
       "<pre>Read 422874 lines. Lines per second: 55403.3</pre>"
      ],
      "text/plain": [
       "Read 422874 lines. Lines per second: 55403.3"
      ]
     },
     "metadata": {},
     "output_type": "display_data"
    },
    {
     "data": {
      "text/html": [
       "<pre>Finished parsing file /kaggle/input/bgu-recsys-ctr-prediction/train_data/train6/part-00060.csv</pre>"
      ],
      "text/plain": [
       "Finished parsing file /kaggle/input/bgu-recsys-ctr-prediction/train_data/train6/part-00060.csv"
      ]
     },
     "metadata": {},
     "output_type": "display_data"
    },
    {
     "data": {
      "text/html": [
       "<pre>Read 654259 lines. Lines per second: 51277.1</pre>"
      ],
      "text/plain": [
       "Read 654259 lines. Lines per second: 51277.1"
      ]
     },
     "metadata": {},
     "output_type": "display_data"
    },
    {
     "data": {
      "text/html": [
       "<pre>Finished parsing file /kaggle/input/bgu-recsys-ctr-prediction/train_data/train6/part-00056.csv</pre>"
      ],
      "text/plain": [
       "Finished parsing file /kaggle/input/bgu-recsys-ctr-prediction/train_data/train6/part-00056.csv"
      ]
     },
     "metadata": {},
     "output_type": "display_data"
    },
    {
     "data": {
      "text/html": [
       "<pre>Read 887916 lines. Lines per second: 50074.6</pre>"
      ],
      "text/plain": [
       "Read 887916 lines. Lines per second: 50074.6"
      ]
     },
     "metadata": {},
     "output_type": "display_data"
    },
    {
     "data": {
      "text/html": [
       "<pre>Read 1152206 lines. Lines per second: 50527</pre>"
      ],
      "text/plain": [
       "Read 1152206 lines. Lines per second: 50527"
      ]
     },
     "metadata": {},
     "output_type": "display_data"
    },
    {
     "data": {
      "text/html": [
       "<pre>Finished parsing file /kaggle/input/bgu-recsys-ctr-prediction/train_data/train6/part-00052.csv</pre>"
      ],
      "text/plain": [
       "Finished parsing file /kaggle/input/bgu-recsys-ctr-prediction/train_data/train6/part-00052.csv"
      ]
     },
     "metadata": {},
     "output_type": "display_data"
    },
    {
     "data": {
      "text/html": [
       "<pre>Read 1391097 lines. Lines per second: 49849.8</pre>"
      ],
      "text/plain": [
       "Read 1391097 lines. Lines per second: 49849.8"
      ]
     },
     "metadata": {},
     "output_type": "display_data"
    },
    {
     "data": {
      "text/html": [
       "<pre>Read 1655397 lines. Lines per second: 50203.1</pre>"
      ],
      "text/plain": [
       "Read 1655397 lines. Lines per second: 50203.1"
      ]
     },
     "metadata": {},
     "output_type": "display_data"
    },
    {
     "data": {
      "text/html": [
       "<pre>Finished parsing file /kaggle/input/bgu-recsys-ctr-prediction/train_data/train6/part-00054.csv</pre>"
      ],
      "text/plain": [
       "Finished parsing file /kaggle/input/bgu-recsys-ctr-prediction/train_data/train6/part-00054.csv"
      ]
     },
     "metadata": {},
     "output_type": "display_data"
    },
    {
     "data": {
      "text/html": [
       "<pre>Read 1919225 lines. Lines per second: 49604.8</pre>"
      ],
      "text/plain": [
       "Read 1919225 lines. Lines per second: 49604.8"
      ]
     },
     "metadata": {},
     "output_type": "display_data"
    },
    {
     "data": {
      "text/html": [
       "<pre>Finished parsing file /kaggle/input/bgu-recsys-ctr-prediction/train_data/train6/part-00057.csv</pre>"
      ],
      "text/plain": [
       "Finished parsing file /kaggle/input/bgu-recsys-ctr-prediction/train_data/train6/part-00057.csv"
      ]
     },
     "metadata": {},
     "output_type": "display_data"
    },
    {
     "data": {
      "text/html": [
       "<pre>Read 2195048 lines. Lines per second: 49107.1</pre>"
      ],
      "text/plain": [
       "Read 2195048 lines. Lines per second: 49107.1"
      ]
     },
     "metadata": {},
     "output_type": "display_data"
    },
    {
     "data": {
      "text/html": [
       "<pre>Read 2459348 lines. Lines per second: 49421.1</pre>"
      ],
      "text/plain": [
       "Read 2459348 lines. Lines per second: 49421.1"
      ]
     },
     "metadata": {},
     "output_type": "display_data"
    },
    {
     "data": {
      "text/html": [
       "<pre>Finished parsing file /kaggle/input/bgu-recsys-ctr-prediction/train_data/train6/part-00051.csv</pre>"
      ],
      "text/plain": [
       "Finished parsing file /kaggle/input/bgu-recsys-ctr-prediction/train_data/train6/part-00051.csv"
      ]
     },
     "metadata": {},
     "output_type": "display_data"
    },
    {
     "data": {
      "text/html": [
       "<pre>Read 2721462 lines. Lines per second: 49337.8</pre>"
      ],
      "text/plain": [
       "Read 2721462 lines. Lines per second: 49337.8"
      ]
     },
     "metadata": {},
     "output_type": "display_data"
    },
    {
     "data": {
      "text/html": [
       "<pre>Read 2985757 lines. Lines per second: 49478.5</pre>"
      ],
      "text/plain": [
       "Read 2985757 lines. Lines per second: 49478.5"
      ]
     },
     "metadata": {},
     "output_type": "display_data"
    },
    {
     "data": {
      "text/html": [
       "<pre>Finished parsing file /kaggle/input/bgu-recsys-ctr-prediction/train_data/train6/part-00058.csv</pre>"
      ],
      "text/plain": [
       "Finished parsing file /kaggle/input/bgu-recsys-ctr-prediction/train_data/train6/part-00058.csv"
      ]
     },
     "metadata": {},
     "output_type": "display_data"
    },
    {
     "data": {
      "text/html": [
       "<pre>Read 3252824 lines. Lines per second: 49247.9</pre>"
      ],
      "text/plain": [
       "Read 3252824 lines. Lines per second: 49247.9"
      ]
     },
     "metadata": {},
     "output_type": "display_data"
    },
    {
     "data": {
      "text/html": [
       "<pre>Finished parsing file /kaggle/input/bgu-recsys-ctr-prediction/train_data/train6/part-00053.csv</pre>"
      ],
      "text/plain": [
       "Finished parsing file /kaggle/input/bgu-recsys-ctr-prediction/train_data/train6/part-00053.csv"
      ]
     },
     "metadata": {},
     "output_type": "display_data"
    },
    {
     "data": {
      "text/html": [
       "<pre>Read 3539327 lines. Lines per second: 49155.2</pre>"
      ],
      "text/plain": [
       "Read 3539327 lines. Lines per second: 49155.2"
      ]
     },
     "metadata": {},
     "output_type": "display_data"
    },
    {
     "data": {
      "text/html": [
       "<pre>Read 3803622 lines. Lines per second: 49298.8</pre>"
      ],
      "text/plain": [
       "Read 3803622 lines. Lines per second: 49298.8"
      ]
     },
     "metadata": {},
     "output_type": "display_data"
    },
    {
     "data": {
      "text/html": [
       "<pre>Finished parsing file /kaggle/input/bgu-recsys-ctr-prediction/train_data/train6/part-00055.csv</pre>"
      ],
      "text/plain": [
       "Finished parsing file /kaggle/input/bgu-recsys-ctr-prediction/train_data/train6/part-00055.csv"
      ]
     },
     "metadata": {},
     "output_type": "display_data"
    },
    {
     "data": {
      "text/html": [
       "<pre>Read 4066688 lines. Lines per second: 48125.4</pre>"
      ],
      "text/plain": [
       "Read 4066688 lines. Lines per second: 48125.4"
      ]
     },
     "metadata": {},
     "output_type": "display_data"
    },
    {
     "data": {
      "text/html": [
       "<pre>Read 4330983 lines. Lines per second: 48267</pre>"
      ],
      "text/plain": [
       "Read 4330983 lines. Lines per second: 48267"
      ]
     },
     "metadata": {},
     "output_type": "display_data"
    },
    {
     "data": {
      "text/html": [
       "<pre>Finished parsing file /kaggle/input/bgu-recsys-ctr-prediction/train_data/train6/part-00059.csv</pre>"
      ],
      "text/plain": [
       "Finished parsing file /kaggle/input/bgu-recsys-ctr-prediction/train_data/train6/part-00059.csv"
      ]
     },
     "metadata": {},
     "output_type": "display_data"
    },
    {
     "data": {
      "text/html": [
       "<pre>Parsing completed. Parsed 4347176 lines in 89.9069 secs.</pre>"
      ],
      "text/plain": [
       "Parsing completed. Parsed 4347176 lines in 89.9069 secs."
      ]
     },
     "metadata": {},
     "output_type": "display_data"
    }
   ],
   "source": [
    "all_paths = glob.glob(GLOBAL_PATH_TRAIN)\n",
    "\n",
    "data = tc.SFrame()\n",
    "\n",
    "for path in all_paths:\n",
    "    data = data.append(tc.SFrame.read_csv(path))"
   ]
  },
  {
   "cell_type": "code",
   "execution_count": 7,
   "id": "instructional-christmas",
   "metadata": {
    "execution": {
     "iopub.execute_input": "2021-06-11T08:32:59.581108Z",
     "iopub.status.busy": "2021-06-11T08:32:59.580408Z",
     "iopub.status.idle": "2021-06-11T08:33:10.911224Z",
     "shell.execute_reply": "2021-06-11T08:33:10.910668Z",
     "shell.execute_reply.started": "2021-06-11T07:18:40.026533Z"
    },
    "papermill": {
     "duration": 11.64149,
     "end_time": "2021-06-11T08:33:10.911380",
     "exception": false,
     "start_time": "2021-06-11T08:32:59.269890",
     "status": "completed"
    },
    "tags": []
   },
   "outputs": [
    {
     "data": {
      "text/html": [
       "<pre>Finished parsing file /kaggle/input/bgu-recsys-ctr-prediction/test_file.csv</pre>"
      ],
      "text/plain": [
       "Finished parsing file /kaggle/input/bgu-recsys-ctr-prediction/test_file.csv"
      ]
     },
     "metadata": {},
     "output_type": "display_data"
    },
    {
     "data": {
      "text/html": [
       "<pre>Parsing completed. Parsed 100 lines in 1.56142 secs.</pre>"
      ],
      "text/plain": [
       "Parsing completed. Parsed 100 lines in 1.56142 secs."
      ]
     },
     "metadata": {},
     "output_type": "display_data"
    },
    {
     "name": "stdout",
     "output_type": "stream",
     "text": [
      "------------------------------------------------------\n",
      "Inferred types from first 100 line(s) of file as \n",
      "column_type_hints=[int,str,str,str,str,float,float,str,str,float,float,float,str,str,str,str,int,str,str,int,int,int,int]\n",
      "If parsing fails due to incorrect types, you can correct\n",
      "the inferred type list above and pass it to read_csv in\n",
      "the column_type_hints argument\n",
      "------------------------------------------------------\n"
     ]
    },
    {
     "data": {
      "text/html": [
       "<pre>Read 52684 lines. Lines per second: 33359.1</pre>"
      ],
      "text/plain": [
       "Read 52684 lines. Lines per second: 33359.1"
      ]
     },
     "metadata": {},
     "output_type": "display_data"
    },
    {
     "data": {
      "text/html": [
       "<pre>Read 315863 lines. Lines per second: 43047.5</pre>"
      ],
      "text/plain": [
       "Read 315863 lines. Lines per second: 43047.5"
      ]
     },
     "metadata": {},
     "output_type": "display_data"
    },
    {
     "data": {
      "text/html": [
       "<pre>Finished parsing file /kaggle/input/bgu-recsys-ctr-prediction/test_file.csv</pre>"
      ],
      "text/plain": [
       "Finished parsing file /kaggle/input/bgu-recsys-ctr-prediction/test_file.csv"
      ]
     },
     "metadata": {},
     "output_type": "display_data"
    },
    {
     "data": {
      "text/html": [
       "<pre>Parsing completed. Parsed 444506 lines in 9.08075 secs.</pre>"
      ],
      "text/plain": [
       "Parsing completed. Parsed 444506 lines in 9.08075 secs."
      ]
     },
     "metadata": {},
     "output_type": "display_data"
    }
   ],
   "source": [
    "test = tc.SFrame.read_csv(TEST_PATH)"
   ]
  },
  {
   "cell_type": "code",
   "execution_count": 8,
   "id": "organizational-regular",
   "metadata": {
    "execution": {
     "iopub.execute_input": "2021-06-11T08:33:11.522009Z",
     "iopub.status.busy": "2021-06-11T08:33:11.521221Z",
     "iopub.status.idle": "2021-06-11T08:33:14.048395Z",
     "shell.execute_reply": "2021-06-11T08:33:14.049334Z",
     "shell.execute_reply.started": "2021-06-11T07:23:58.987862Z"
    },
    "papermill": {
     "duration": 2.834206,
     "end_time": "2021-06-11T08:33:14.049536",
     "exception": false,
     "start_time": "2021-06-11T08:33:11.215330",
     "status": "completed"
    },
    "tags": []
   },
   "outputs": [
    {
     "data": {
      "text/html": [
       "<div style=\"max-height:1000px;max-width:1500px;overflow:auto;\"><table frame=\"box\" rules=\"cols\">\n",
       "    <thead>\n",
       "        <tr>\n",
       "            <th style=\"padding-left: 1em; padding-right: 1em; text-align: center\">value</th>\n",
       "            <th style=\"padding-left: 1em; padding-right: 1em; text-align: center\">count</th>\n",
       "        </tr>\n",
       "    </thead>\n",
       "    <tbody>\n",
       "        <tr>\n",
       "            <td style=\"padding-left: 1em; padding-right: 1em; text-align: center; vertical-align: top\">1.0</td>\n",
       "            <td style=\"padding-left: 1em; padding-right: 1em; text-align: center; vertical-align: top\">15128293</td>\n",
       "        </tr>\n",
       "        <tr>\n",
       "            <td style=\"padding-left: 1em; padding-right: 1em; text-align: center; vertical-align: top\">0.0</td>\n",
       "            <td style=\"padding-left: 1em; padding-right: 1em; text-align: center; vertical-align: top\">15126565</td>\n",
       "        </tr>\n",
       "    </tbody>\n",
       "</table>\n",
       "[2 rows x 2 columns]<br/>\n",
       "</div>"
      ],
      "text/plain": [
       "Columns:\n",
       "\tvalue\tfloat\n",
       "\tcount\tint\n",
       "\n",
       "Rows: 2\n",
       "\n",
       "Data:\n",
       "+-------+----------+\n",
       "| value |  count   |\n",
       "+-------+----------+\n",
       "|  1.0  | 15128293 |\n",
       "|  0.0  | 15126565 |\n",
       "+-------+----------+\n",
       "[2 rows x 2 columns]"
      ]
     },
     "execution_count": 8,
     "metadata": {},
     "output_type": "execute_result"
    }
   ],
   "source": [
    "## Check if the data is balanced \n",
    "data[\"is_click\"].value_counts()"
   ]
  },
  {
   "cell_type": "markdown",
   "id": "certified-product",
   "metadata": {
    "papermill": {
     "duration": 0.302006,
     "end_time": "2021-06-11T08:33:14.652556",
     "exception": false,
     "start_time": "2021-06-11T08:33:14.350550",
     "status": "completed"
    },
    "tags": []
   },
   "source": [
    "### Count Click Percent\n",
    "In this section we will check the clicks distribution between the different columns (browser, placement id and more). We wanted to understand which features are important and to check for correlation between the features and the target column. "
   ]
  },
  {
   "cell_type": "markdown",
   "id": "otherwise-legend",
   "metadata": {
    "papermill": {
     "duration": 0.302886,
     "end_time": "2021-06-11T08:33:15.259649",
     "exception": false,
     "start_time": "2021-06-11T08:33:14.956763",
     "status": "completed"
    },
    "tags": []
   },
   "source": [
    "#### By Browser"
   ]
  },
  {
   "cell_type": "code",
   "execution_count": 9,
   "id": "married-willow",
   "metadata": {
    "execution": {
     "iopub.execute_input": "2021-06-11T08:33:15.870033Z",
     "iopub.status.busy": "2021-06-11T08:33:15.869301Z",
     "iopub.status.idle": "2021-06-11T08:33:22.485149Z",
     "shell.execute_reply": "2021-06-11T08:33:22.484635Z",
     "shell.execute_reply.started": "2021-06-11T07:24:08.426321Z"
    },
    "papermill": {
     "duration": 6.922525,
     "end_time": "2021-06-11T08:33:22.485287",
     "exception": false,
     "start_time": "2021-06-11T08:33:15.562762",
     "status": "completed"
    },
    "tags": []
   },
   "outputs": [
    {
     "data": {
      "text/html": [
       "<div style=\"max-height:1000px;max-width:1500px;overflow:auto;\"><table frame=\"box\" rules=\"cols\">\n",
       "    <thead>\n",
       "        <tr>\n",
       "            <th style=\"padding-left: 1em; padding-right: 1em; text-align: center\">browser_platform</th>\n",
       "            <th style=\"padding-left: 1em; padding-right: 1em; text-align: center\">is_click</th>\n",
       "            <th style=\"padding-left: 1em; padding-right: 1em; text-align: center\">count_click_per_class</th>\n",
       "            <th style=\"padding-left: 1em; padding-right: 1em; text-align: center\">count_total_obs</th>\n",
       "            <th style=\"padding-left: 1em; padding-right: 1em; text-align: center\">count_click_precent</th>\n",
       "        </tr>\n",
       "    </thead>\n",
       "    <tbody>\n",
       "        <tr>\n",
       "            <td style=\"padding-left: 1em; padding-right: 1em; text-align: center; vertical-align: top\">DESK</td>\n",
       "            <td style=\"padding-left: 1em; padding-right: 1em; text-align: center; vertical-align: top\">0.0</td>\n",
       "            <td style=\"padding-left: 1em; padding-right: 1em; text-align: center; vertical-align: top\">14098935</td>\n",
       "            <td style=\"padding-left: 1em; padding-right: 1em; text-align: center; vertical-align: top\">26813831</td>\n",
       "            <td style=\"padding-left: 1em; padding-right: 1em; text-align: center; vertical-align: top\">0.5258083039309079</td>\n",
       "        </tr>\n",
       "        <tr>\n",
       "            <td style=\"padding-left: 1em; padding-right: 1em; text-align: center; vertical-align: top\">DESK</td>\n",
       "            <td style=\"padding-left: 1em; padding-right: 1em; text-align: center; vertical-align: top\">1.0</td>\n",
       "            <td style=\"padding-left: 1em; padding-right: 1em; text-align: center; vertical-align: top\">12714896</td>\n",
       "            <td style=\"padding-left: 1em; padding-right: 1em; text-align: center; vertical-align: top\">26813831</td>\n",
       "            <td style=\"padding-left: 1em; padding-right: 1em; text-align: center; vertical-align: top\">0.4741916960690921</td>\n",
       "        </tr>\n",
       "        <tr>\n",
       "            <td style=\"padding-left: 1em; padding-right: 1em; text-align: center; vertical-align: top\">PHON</td>\n",
       "            <td style=\"padding-left: 1em; padding-right: 1em; text-align: center; vertical-align: top\">1.0</td>\n",
       "            <td style=\"padding-left: 1em; padding-right: 1em; text-align: center; vertical-align: top\">2272753</td>\n",
       "            <td style=\"padding-left: 1em; padding-right: 1em; text-align: center; vertical-align: top\">3113298</td>\n",
       "            <td style=\"padding-left: 1em; padding-right: 1em; text-align: center; vertical-align: top\">0.7300146018787793</td>\n",
       "        </tr>\n",
       "        <tr>\n",
       "            <td style=\"padding-left: 1em; padding-right: 1em; text-align: center; vertical-align: top\">PHON</td>\n",
       "            <td style=\"padding-left: 1em; padding-right: 1em; text-align: center; vertical-align: top\">0.0</td>\n",
       "            <td style=\"padding-left: 1em; padding-right: 1em; text-align: center; vertical-align: top\">840545</td>\n",
       "            <td style=\"padding-left: 1em; padding-right: 1em; text-align: center; vertical-align: top\">3113298</td>\n",
       "            <td style=\"padding-left: 1em; padding-right: 1em; text-align: center; vertical-align: top\">0.26998539812122063</td>\n",
       "        </tr>\n",
       "        <tr>\n",
       "            <td style=\"padding-left: 1em; padding-right: 1em; text-align: center; vertical-align: top\">TBLT</td>\n",
       "            <td style=\"padding-left: 1em; padding-right: 1em; text-align: center; vertical-align: top\">0.0</td>\n",
       "            <td style=\"padding-left: 1em; padding-right: 1em; text-align: center; vertical-align: top\">165505</td>\n",
       "            <td style=\"padding-left: 1em; padding-right: 1em; text-align: center; vertical-align: top\">299215</td>\n",
       "            <td style=\"padding-left: 1em; padding-right: 1em; text-align: center; vertical-align: top\">0.5531306919773407</td>\n",
       "        </tr>\n",
       "        <tr>\n",
       "            <td style=\"padding-left: 1em; padding-right: 1em; text-align: center; vertical-align: top\">TBLT</td>\n",
       "            <td style=\"padding-left: 1em; padding-right: 1em; text-align: center; vertical-align: top\">1.0</td>\n",
       "            <td style=\"padding-left: 1em; padding-right: 1em; text-align: center; vertical-align: top\">133710</td>\n",
       "            <td style=\"padding-left: 1em; padding-right: 1em; text-align: center; vertical-align: top\">299215</td>\n",
       "            <td style=\"padding-left: 1em; padding-right: 1em; text-align: center; vertical-align: top\">0.4468693080226593</td>\n",
       "        </tr>\n",
       "        <tr>\n",
       "            <td style=\"padding-left: 1em; padding-right: 1em; text-align: center; vertical-align: top\">TV</td>\n",
       "            <td style=\"padding-left: 1em; padding-right: 1em; text-align: center; vertical-align: top\">0.0</td>\n",
       "            <td style=\"padding-left: 1em; padding-right: 1em; text-align: center; vertical-align: top\">21578</td>\n",
       "            <td style=\"padding-left: 1em; padding-right: 1em; text-align: center; vertical-align: top\">28512</td>\n",
       "            <td style=\"padding-left: 1em; padding-right: 1em; text-align: center; vertical-align: top\">0.756804152637486</td>\n",
       "        </tr>\n",
       "        <tr>\n",
       "            <td style=\"padding-left: 1em; padding-right: 1em; text-align: center; vertical-align: top\">TV</td>\n",
       "            <td style=\"padding-left: 1em; padding-right: 1em; text-align: center; vertical-align: top\">1.0</td>\n",
       "            <td style=\"padding-left: 1em; padding-right: 1em; text-align: center; vertical-align: top\">6934</td>\n",
       "            <td style=\"padding-left: 1em; padding-right: 1em; text-align: center; vertical-align: top\">28512</td>\n",
       "            <td style=\"padding-left: 1em; padding-right: 1em; text-align: center; vertical-align: top\">0.24319584736251404</td>\n",
       "        </tr>\n",
       "        <tr>\n",
       "            <td style=\"padding-left: 1em; padding-right: 1em; text-align: center; vertical-align: top\">OTHR</td>\n",
       "            <td style=\"padding-left: 1em; padding-right: 1em; text-align: center; vertical-align: top\">0.0</td>\n",
       "            <td style=\"padding-left: 1em; padding-right: 1em; text-align: center; vertical-align: top\">2</td>\n",
       "            <td style=\"padding-left: 1em; padding-right: 1em; text-align: center; vertical-align: top\">2</td>\n",
       "            <td style=\"padding-left: 1em; padding-right: 1em; text-align: center; vertical-align: top\">1.0</td>\n",
       "        </tr>\n",
       "    </tbody>\n",
       "</table>\n",
       "[9 rows x 5 columns]<br/>\n",
       "</div>"
      ],
      "text/plain": [
       "Columns:\n",
       "\tbrowser_platform\tstr\n",
       "\tis_click\tfloat\n",
       "\tcount_click_per_class\tint\n",
       "\tcount_total_obs\tint\n",
       "\tcount_click_precent\tfloat\n",
       "\n",
       "Rows: 9\n",
       "\n",
       "Data:\n",
       "+------------------+----------+-----------------------+-----------------+\n",
       "| browser_platform | is_click | count_click_per_class | count_total_obs |\n",
       "+------------------+----------+-----------------------+-----------------+\n",
       "|       DESK       |   0.0    |        14098935       |     26813831    |\n",
       "|       DESK       |   1.0    |        12714896       |     26813831    |\n",
       "|       PHON       |   1.0    |        2272753        |     3113298     |\n",
       "|       PHON       |   0.0    |         840545        |     3113298     |\n",
       "|       TBLT       |   0.0    |         165505        |      299215     |\n",
       "|       TBLT       |   1.0    |         133710        |      299215     |\n",
       "|        TV        |   0.0    |         21578         |      28512      |\n",
       "|        TV        |   1.0    |          6934         |      28512      |\n",
       "|       OTHR       |   0.0    |           2           |        2        |\n",
       "+------------------+----------+-----------------------+-----------------+\n",
       "+---------------------+\n",
       "| count_click_precent |\n",
       "+---------------------+\n",
       "|  0.5258083039309079 |\n",
       "|  0.4741916960690921 |\n",
       "|  0.7300146018787793 |\n",
       "| 0.26998539812122063 |\n",
       "|  0.5531306919773407 |\n",
       "|  0.4468693080226593 |\n",
       "|  0.756804152637486  |\n",
       "| 0.24319584736251404 |\n",
       "|         1.0         |\n",
       "+---------------------+\n",
       "[9 rows x 5 columns]"
      ]
     },
     "execution_count": 9,
     "metadata": {},
     "output_type": "execute_result"
    }
   ],
   "source": [
    "precnet_from_column(data, by = \"browser_platform\", value = \"is_click\")"
   ]
  },
  {
   "cell_type": "markdown",
   "id": "injured-organ",
   "metadata": {
    "papermill": {
     "duration": 0.302999,
     "end_time": "2021-06-11T08:33:23.089950",
     "exception": false,
     "start_time": "2021-06-11T08:33:22.786951",
     "status": "completed"
    },
    "tags": []
   },
   "source": [
    "#### conclusions : \n",
    "\n",
    "*  DESK and TBLT have almost the same ratio of click ammount 50/50\n",
    "*  PHONE and TV have almost the same ratio of click ammount 75/25 but they have the opisit behavior. in phonw we see 75 precent of click and in TV we see 75 precent of **not** click\n"
   ]
  },
  {
   "cell_type": "markdown",
   "id": "returning-marina",
   "metadata": {
    "papermill": {
     "duration": 0.300265,
     "end_time": "2021-06-11T08:33:23.689923",
     "exception": false,
     "start_time": "2021-06-11T08:33:23.389658",
     "status": "completed"
    },
    "tags": []
   },
   "source": [
    "#### By placement ID\n",
    "We wanted to check whther a certain placement ID will reduce more clicks. \n",
    "Moreover, we wanted to check if all placement id's we have in the train exist in the test\n"
   ]
  },
  {
   "cell_type": "code",
   "execution_count": 10,
   "id": "billion-maria",
   "metadata": {
    "execution": {
     "iopub.execute_input": "2021-06-11T08:33:24.335913Z",
     "iopub.status.busy": "2021-06-11T08:33:24.335254Z",
     "iopub.status.idle": "2021-06-11T08:35:00.117577Z",
     "shell.execute_reply": "2021-06-11T08:35:00.118102Z",
     "shell.execute_reply.started": "2021-06-11T07:24:15.099525Z"
    },
    "papermill": {
     "duration": 96.086074,
     "end_time": "2021-06-11T08:35:00.118296",
     "exception": false,
     "start_time": "2021-06-11T08:33:24.032222",
     "status": "completed"
    },
    "tags": []
   },
   "outputs": [],
   "source": [
    "precnet_from_placement_id = precnet_from_column(data, by = \"placement_id_hash\", value = \"is_click\")"
   ]
  },
  {
   "cell_type": "code",
   "execution_count": 11,
   "id": "academic-application",
   "metadata": {
    "execution": {
     "iopub.execute_input": "2021-06-11T08:35:00.735286Z",
     "iopub.status.busy": "2021-06-11T08:35:00.734641Z",
     "iopub.status.idle": "2021-06-11T08:35:00.781964Z",
     "shell.execute_reply": "2021-06-11T08:35:00.781390Z",
     "shell.execute_reply.started": "2021-06-11T07:30:37.692660Z"
    },
    "papermill": {
     "duration": 0.357115,
     "end_time": "2021-06-11T08:35:00.782106",
     "exception": false,
     "start_time": "2021-06-11T08:35:00.424991",
     "status": "completed"
    },
    "tags": []
   },
   "outputs": [
    {
     "data": {
      "text/html": [
       "<div style=\"max-height:1000px;max-width:1500px;overflow:auto;\"><table frame=\"box\" rules=\"cols\">\n",
       "    <thead>\n",
       "        <tr>\n",
       "            <th style=\"padding-left: 1em; padding-right: 1em; text-align: center\">is_click</th>\n",
       "            <th style=\"padding-left: 1em; padding-right: 1em; text-align: center\">placement_id_hash</th>\n",
       "            <th style=\"padding-left: 1em; padding-right: 1em; text-align: center\">count_click_per_class</th>\n",
       "            <th style=\"padding-left: 1em; padding-right: 1em; text-align: center\">count_total_obs</th>\n",
       "            <th style=\"padding-left: 1em; padding-right: 1em; text-align: center\">count_click_precent</th>\n",
       "        </tr>\n",
       "    </thead>\n",
       "    <tbody>\n",
       "        <tr>\n",
       "            <td style=\"padding-left: 1em; padding-right: 1em; text-align: center; vertical-align: top\">1.0</td>\n",
       "            <td style=\"padding-left: 1em; padding-right: 1em; text-align: center; vertical-align: top\">f46a38c5c8d89917121df61f7<br>a725748354c47dfc79cfe ...</td>\n",
       "            <td style=\"padding-left: 1em; padding-right: 1em; text-align: center; vertical-align: top\">605612</td>\n",
       "            <td style=\"padding-left: 1em; padding-right: 1em; text-align: center; vertical-align: top\">1551818</td>\n",
       "            <td style=\"padding-left: 1em; padding-right: 1em; text-align: center; vertical-align: top\">0.3902596825143155</td>\n",
       "        </tr>\n",
       "        <tr>\n",
       "            <td style=\"padding-left: 1em; padding-right: 1em; text-align: center; vertical-align: top\">1.0</td>\n",
       "            <td style=\"padding-left: 1em; padding-right: 1em; text-align: center; vertical-align: top\">39d46cdd8f08693dd0cb967d0<br>16efec97d0bc5eb1899dc ...</td>\n",
       "            <td style=\"padding-left: 1em; padding-right: 1em; text-align: center; vertical-align: top\">508630</td>\n",
       "            <td style=\"padding-left: 1em; padding-right: 1em; text-align: center; vertical-align: top\">661814</td>\n",
       "            <td style=\"padding-left: 1em; padding-right: 1em; text-align: center; vertical-align: top\">0.7685391968136063</td>\n",
       "        </tr>\n",
       "        <tr>\n",
       "            <td style=\"padding-left: 1em; padding-right: 1em; text-align: center; vertical-align: top\">1.0</td>\n",
       "            <td style=\"padding-left: 1em; padding-right: 1em; text-align: center; vertical-align: top\">3c1c8ea94e66caefc804eba41<br>8aa893f0d8fc361ad86e5 ...</td>\n",
       "            <td style=\"padding-left: 1em; padding-right: 1em; text-align: center; vertical-align: top\">469141</td>\n",
       "            <td style=\"padding-left: 1em; padding-right: 1em; text-align: center; vertical-align: top\">735340</td>\n",
       "            <td style=\"padding-left: 1em; padding-right: 1em; text-align: center; vertical-align: top\">0.6379919493023636</td>\n",
       "        </tr>\n",
       "        <tr>\n",
       "            <td style=\"padding-left: 1em; padding-right: 1em; text-align: center; vertical-align: top\">1.0</td>\n",
       "            <td style=\"padding-left: 1em; padding-right: 1em; text-align: center; vertical-align: top\">b1c0e2baa89e19c667a4c7783<br>5b2b1ccbbe87960f6a64b ...</td>\n",
       "            <td style=\"padding-left: 1em; padding-right: 1em; text-align: center; vertical-align: top\">437777</td>\n",
       "            <td style=\"padding-left: 1em; padding-right: 1em; text-align: center; vertical-align: top\">699592</td>\n",
       "            <td style=\"padding-left: 1em; padding-right: 1em; text-align: center; vertical-align: top\">0.6257604432297682</td>\n",
       "        </tr>\n",
       "        <tr>\n",
       "            <td style=\"padding-left: 1em; padding-right: 1em; text-align: center; vertical-align: top\">1.0</td>\n",
       "            <td style=\"padding-left: 1em; padding-right: 1em; text-align: center; vertical-align: top\">f1b3343d5e6491da91d7c65d1<br>ad3140bb1983eedb1ed2d ...</td>\n",
       "            <td style=\"padding-left: 1em; padding-right: 1em; text-align: center; vertical-align: top\">419531</td>\n",
       "            <td style=\"padding-left: 1em; padding-right: 1em; text-align: center; vertical-align: top\">697863</td>\n",
       "            <td style=\"padding-left: 1em; padding-right: 1em; text-align: center; vertical-align: top\">0.6011652716937278</td>\n",
       "        </tr>\n",
       "        <tr>\n",
       "            <td style=\"padding-left: 1em; padding-right: 1em; text-align: center; vertical-align: top\">1.0</td>\n",
       "            <td style=\"padding-left: 1em; padding-right: 1em; text-align: center; vertical-align: top\">1fd7638e7057ac3ca2507f63c<br>d5ac719375386f51a15b1 ...</td>\n",
       "            <td style=\"padding-left: 1em; padding-right: 1em; text-align: center; vertical-align: top\">365232</td>\n",
       "            <td style=\"padding-left: 1em; padding-right: 1em; text-align: center; vertical-align: top\">986810</td>\n",
       "            <td style=\"padding-left: 1em; padding-right: 1em; text-align: center; vertical-align: top\">0.3701138010356604</td>\n",
       "        </tr>\n",
       "        <tr>\n",
       "            <td style=\"padding-left: 1em; padding-right: 1em; text-align: center; vertical-align: top\">1.0</td>\n",
       "            <td style=\"padding-left: 1em; padding-right: 1em; text-align: center; vertical-align: top\">77de1750e42c8269e4f36cb4c<br>4be23cef013ceab5cfc7a ...</td>\n",
       "            <td style=\"padding-left: 1em; padding-right: 1em; text-align: center; vertical-align: top\">343050</td>\n",
       "            <td style=\"padding-left: 1em; padding-right: 1em; text-align: center; vertical-align: top\">606445</td>\n",
       "            <td style=\"padding-left: 1em; padding-right: 1em; text-align: center; vertical-align: top\">0.5656737214421753</td>\n",
       "        </tr>\n",
       "        <tr>\n",
       "            <td style=\"padding-left: 1em; padding-right: 1em; text-align: center; vertical-align: top\">1.0</td>\n",
       "            <td style=\"padding-left: 1em; padding-right: 1em; text-align: center; vertical-align: top\">3d1a6e10ccba992a0cec1d9b6<br>7cd13b2033892ac6a6a43 ...</td>\n",
       "            <td style=\"padding-left: 1em; padding-right: 1em; text-align: center; vertical-align: top\">313418</td>\n",
       "            <td style=\"padding-left: 1em; padding-right: 1em; text-align: center; vertical-align: top\">413910</td>\n",
       "            <td style=\"padding-left: 1em; padding-right: 1em; text-align: center; vertical-align: top\">0.7572129206832403</td>\n",
       "        </tr>\n",
       "        <tr>\n",
       "            <td style=\"padding-left: 1em; padding-right: 1em; text-align: center; vertical-align: top\">1.0</td>\n",
       "            <td style=\"padding-left: 1em; padding-right: 1em; text-align: center; vertical-align: top\">41f1bf056030d77f4dd39c523<br>e3218ac7796bb43c7c1eb ...</td>\n",
       "            <td style=\"padding-left: 1em; padding-right: 1em; text-align: center; vertical-align: top\">309416</td>\n",
       "            <td style=\"padding-left: 1em; padding-right: 1em; text-align: center; vertical-align: top\">464284</td>\n",
       "            <td style=\"padding-left: 1em; padding-right: 1em; text-align: center; vertical-align: top\">0.6664369222286359</td>\n",
       "        </tr>\n",
       "        <tr>\n",
       "            <td style=\"padding-left: 1em; padding-right: 1em; text-align: center; vertical-align: top\">1.0</td>\n",
       "            <td style=\"padding-left: 1em; padding-right: 1em; text-align: center; vertical-align: top\">932fbd7955800fd5a36f071a7<br>e74f18343c263cf4bd950 ...</td>\n",
       "            <td style=\"padding-left: 1em; padding-right: 1em; text-align: center; vertical-align: top\">285079</td>\n",
       "            <td style=\"padding-left: 1em; padding-right: 1em; text-align: center; vertical-align: top\">357443</td>\n",
       "            <td style=\"padding-left: 1em; padding-right: 1em; text-align: center; vertical-align: top\">0.7975509381915439</td>\n",
       "        </tr>\n",
       "    </tbody>\n",
       "</table>\n",
       "[1527 rows x 5 columns]<br/>Note: Only the head of the SFrame is printed.<br/>You can use print_rows(num_rows=m, num_columns=n) to print more rows and columns.\n",
       "</div>"
      ],
      "text/plain": [
       "Columns:\n",
       "\tis_click\tfloat\n",
       "\tplacement_id_hash\tstr\n",
       "\tcount_click_per_class\tint\n",
       "\tcount_total_obs\tint\n",
       "\tcount_click_precent\tfloat\n",
       "\n",
       "Rows: 1527\n",
       "\n",
       "Data:\n",
       "+----------+-------------------------------+-----------------------+-----------------+\n",
       "| is_click |       placement_id_hash       | count_click_per_class | count_total_obs |\n",
       "+----------+-------------------------------+-----------------------+-----------------+\n",
       "|   1.0    | f46a38c5c8d89917121df61f7a... |         605612        |     1551818     |\n",
       "|   1.0    | 39d46cdd8f08693dd0cb967d01... |         508630        |      661814     |\n",
       "|   1.0    | 3c1c8ea94e66caefc804eba418... |         469141        |      735340     |\n",
       "|   1.0    | b1c0e2baa89e19c667a4c77835... |         437777        |      699592     |\n",
       "|   1.0    | f1b3343d5e6491da91d7c65d1a... |         419531        |      697863     |\n",
       "|   1.0    | 1fd7638e7057ac3ca2507f63cd... |         365232        |      986810     |\n",
       "|   1.0    | 77de1750e42c8269e4f36cb4c4... |         343050        |      606445     |\n",
       "|   1.0    | 3d1a6e10ccba992a0cec1d9b67... |         313418        |      413910     |\n",
       "|   1.0    | 41f1bf056030d77f4dd39c523e... |         309416        |      464284     |\n",
       "|   1.0    | 932fbd7955800fd5a36f071a7e... |         285079        |      357443     |\n",
       "+----------+-------------------------------+-----------------------+-----------------+\n",
       "+---------------------+\n",
       "| count_click_precent |\n",
       "+---------------------+\n",
       "|  0.3902596825143155 |\n",
       "|  0.7685391968136063 |\n",
       "|  0.6379919493023636 |\n",
       "|  0.6257604432297682 |\n",
       "|  0.6011652716937278 |\n",
       "|  0.3701138010356604 |\n",
       "|  0.5656737214421753 |\n",
       "|  0.7572129206832403 |\n",
       "|  0.6664369222286359 |\n",
       "|  0.7975509381915439 |\n",
       "+---------------------+\n",
       "[1527 rows x 5 columns]\n",
       "Note: Only the head of the SFrame is printed.\n",
       "You can use print_rows(num_rows=m, num_columns=n) to print more rows and columns."
      ]
     },
     "execution_count": 11,
     "metadata": {},
     "output_type": "execute_result"
    }
   ],
   "source": [
    "precnet_from_placement_id = precnet_from_placement_id[precnet_from_placement_id[\"is_click\"] == 1]\n",
    "precnet_from_placement_id.sort(\"count_click_per_class\", ascending = False )"
   ]
  },
  {
   "cell_type": "code",
   "execution_count": 12,
   "id": "agricultural-mouth",
   "metadata": {
    "execution": {
     "iopub.execute_input": "2021-06-11T08:35:01.406935Z",
     "iopub.status.busy": "2021-06-11T08:35:01.406158Z",
     "iopub.status.idle": "2021-06-11T08:35:01.430942Z",
     "shell.execute_reply": "2021-06-11T08:35:01.430396Z",
     "shell.execute_reply.started": "2021-06-11T07:29:14.608383Z"
    },
    "papermill": {
     "duration": 0.342502,
     "end_time": "2021-06-11T08:35:01.431074",
     "exception": false,
     "start_time": "2021-06-11T08:35:01.088572",
     "status": "completed"
    },
    "tags": []
   },
   "outputs": [
    {
     "data": {
      "text/html": [
       "<pre>Materializing SArray</pre>"
      ],
      "text/plain": [
       "Materializing SArray"
      ]
     },
     "metadata": {},
     "output_type": "display_data"
    },
    {
     "data": {
      "text/html": [
       "<html>                 <body>                     <iframe style=\"border:0;margin:0\" width=\"920\" height=\"770\" srcdoc='<html lang=\"en\">                         <head>                             <script src=\"https://cdnjs.cloudflare.com/ajax/libs/vega/5.4.0/vega.js\"></script>                             <script src=\"https://cdnjs.cloudflare.com/ajax/libs/vega-embed/4.0.0/vega-embed.js\"></script>                             <script src=\"https://cdnjs.cloudflare.com/ajax/libs/vega-tooltip/0.5.1/vega-tooltip.min.js\"></script>                             <link rel=\"stylesheet\" type=\"text/css\" href=\"https://cdnjs.cloudflare.com/ajax/libs/vega-tooltip/0.5.1/vega-tooltip.min.css\">                             <style>                             .vega-actions > a{                                 color:white;                                 text-decoration: none;                                 font-family: \"Arial\";                                 cursor:pointer;                                 padding:5px;                                 background:#AAAAAA;                                 border-radius:4px;                                 padding-left:10px;                                 padding-right:10px;                                 margin-right:5px;                             }                             .vega-actions{                                 margin-top:20px;                                 text-align:center                             }                            .vega-actions > a{                                 background:#999999;                            }                             </style>                         </head>                         <body>                             <div id=\"vis\">                             </div>                             <script>                                 var vega_json = \"{\\\"$schema\\\": \\\"https://vega.github.io/schema/vega/v4.json\\\", \\\"description\\\": \\\"A simple bar chart with embedded data.\\\", \\\"autosize\\\": {\\\"type\\\": \\\"fit\\\", \\\"resize\\\": false, \\\"contains\\\": \\\"padding\\\"}, \\\"width\\\": 720, \\\"height\\\": 550, \\\"padding\\\": 8, \\\"title\\\": \\\"Distribution of Values [float]\\\", \\\"style\\\": \\\"cell\\\", \\\"signals\\\": [{\\\"name\\\": \\\"bins\\\", \\\"update\\\": \\\"data(\\\\\\\"bins_data\\\\\\\")[0]\\\"}, {\\\"name\\\": \\\"binCount\\\", \\\"update\\\": \\\"(bins.stop - bins.start) / bins.step\\\"}, {\\\"name\\\": \\\"nullGap\\\", \\\"update\\\": \\\"data(\\\\\\\"nulls\\\\\\\").length ? 10 : 0\\\"}, {\\\"name\\\": \\\"barStep\\\", \\\"update\\\": \\\"(width - nullGap) / (1 + binCount)\\\"}], \\\"data\\\": [{\\\"name\\\": \\\"source_2\\\", \\\"values\\\": [{\\\"left\\\": 0.0134933, \\\"right\\\": 0.0634262, \\\"count\\\": 6}, {\\\"left\\\": 0.0634262, \\\"right\\\": 0.113359, \\\"count\\\": 21}, {\\\"left\\\": 0.113359, \\\"right\\\": 0.163292, \\\"count\\\": 29}, {\\\"left\\\": 0.163292, \\\"right\\\": 0.213225, \\\"count\\\": 35}, {\\\"left\\\": 0.213225, \\\"right\\\": 0.263158, \\\"count\\\": 39}, {\\\"left\\\": 0.263158, \\\"right\\\": 0.313091, \\\"count\\\": 28}, {\\\"left\\\": 0.313091, \\\"right\\\": 0.363024, \\\"count\\\": 49}, {\\\"left\\\": 0.363024, \\\"right\\\": 0.412956, \\\"count\\\": 63}, {\\\"left\\\": 0.412956, \\\"right\\\": 0.462889, \\\"count\\\": 96}, {\\\"left\\\": 0.462889, \\\"right\\\": 0.512822, \\\"count\\\": 153}, {\\\"left\\\": 0.512822, \\\"right\\\": 0.562755, \\\"count\\\": 184}, {\\\"left\\\": 0.562755, \\\"right\\\": 0.612688, \\\"count\\\": 240}, {\\\"left\\\": 0.612688, \\\"right\\\": 0.662621, \\\"count\\\": 186}, {\\\"left\\\": 0.662621, \\\"right\\\": 0.712554, \\\"count\\\": 174}, {\\\"left\\\": 0.712554, \\\"right\\\": 0.762487, \\\"count\\\": 117}, {\\\"left\\\": 0.762487, \\\"right\\\": 0.81242, \\\"count\\\": 43}, {\\\"left\\\": 0.81242, \\\"right\\\": 0.862353, \\\"count\\\": 18}, {\\\"left\\\": 0.862353, \\\"right\\\": 0.912285, \\\"count\\\": 3}, {\\\"left\\\": 0.912285, \\\"right\\\": 0.962218, \\\"count\\\": 1}, {\\\"left\\\": 0.962218, \\\"right\\\": 1.01215, \\\"count\\\": 42}, {\\\"start\\\": 0.0134933, \\\"stop\\\": 1.01215, \\\"step\\\": 0.0499329}]}, {\\\"name\\\": \\\"counts\\\", \\\"source\\\": \\\"source_2\\\", \\\"transform\\\": [{\\\"type\\\": \\\"filter\\\", \\\"expr\\\": \\\"datum[\\\\\\\"missing\\\\\\\"] !== true &amp;&amp; datum[\\\\\\\"count\\\\\\\"] != null\\\"}]}, {\\\"name\\\": \\\"nulls\\\", \\\"source\\\": \\\"source_2\\\", \\\"transform\\\": [{\\\"expr\\\": \\\"datum[\\\\\\\"missing\\\\\\\"] === true &amp;&amp; datum[\\\\\\\"count\\\\\\\"] != null\\\", \\\"type\\\": \\\"filter\\\"}]}, {\\\"name\\\": \\\"bins_data\\\", \\\"source\\\": \\\"source_2\\\", \\\"transform\\\": [{\\\"expr\\\": \\\"datum[\\\\\\\"start\\\\\\\"] != null &amp;&amp; datum[\\\\\\\"stop\\\\\\\"] != null &amp;&amp; datum[\\\\\\\"step\\\\\\\"] != null\\\", \\\"type\\\": \\\"filter\\\"}]}], \\\"marks\\\": [{\\\"type\\\": \\\"rect\\\", \\\"from\\\": {\\\"data\\\": \\\"counts\\\"}, \\\"encode\\\": {\\\"update\\\": {\\\"x\\\": {\\\"scale\\\": \\\"xscale\\\", \\\"field\\\": \\\"left\\\", \\\"offset\\\": 1}, \\\"x2\\\": {\\\"scale\\\": \\\"xscale\\\", \\\"field\\\": \\\"right\\\"}, \\\"y\\\": {\\\"scale\\\": \\\"yscale\\\", \\\"field\\\": \\\"count\\\"}, \\\"y2\\\": {\\\"scale\\\": \\\"yscale\\\", \\\"value\\\": 0}, \\\"fill\\\": {\\\"value\\\": \\\"#108EE9\\\"}}, \\\"hover\\\": {\\\"fill\\\": {\\\"value\\\": \\\"#7EC2F3\\\"}}}}, {\\\"type\\\": \\\"rect\\\", \\\"from\\\": {\\\"data\\\": \\\"nulls\\\"}, \\\"encode\\\": {\\\"update\\\": {\\\"x\\\": {\\\"scale\\\": \\\"xscale-null\\\", \\\"value\\\": null, \\\"offset\\\": 1}, \\\"x2\\\": {\\\"scale\\\": \\\"xscale-null\\\", \\\"band\\\": 1}, \\\"y\\\": {\\\"scale\\\": \\\"yscale\\\", \\\"field\\\": \\\"count\\\"}, \\\"y2\\\": {\\\"scale\\\": \\\"yscale\\\", \\\"value\\\": 0}, \\\"fill\\\": {\\\"value\\\": \\\"#108EE9\\\"}}, \\\"hover\\\": {\\\"fill\\\": {\\\"value\\\": \\\"#7EC2F3\\\"}}}}], \\\"scales\\\": [{\\\"name\\\": \\\"yscale\\\", \\\"type\\\": \\\"linear\\\", \\\"range\\\": \\\"height\\\", \\\"round\\\": true, \\\"nice\\\": true, \\\"domain\\\": {\\\"fields\\\": [{\\\"data\\\": \\\"counts\\\", \\\"field\\\": \\\"count\\\"}, {\\\"data\\\": \\\"nulls\\\", \\\"field\\\": \\\"count\\\"}]}}, {\\\"name\\\": \\\"xscale\\\", \\\"type\\\": \\\"linear\\\", \\\"range\\\": [{\\\"signal\\\": \\\"nullGap ? barStep + nullGap : 0\\\"}, {\\\"signal\\\": \\\"width\\\"}], \\\"round\\\": true, \\\"domain\\\": {\\\"signal\\\": \\\"[bins.start, bins.stop]\\\"}, \\\"bins\\\": {\\\"signal\\\": \\\"bins\\\"}}, {\\\"name\\\": \\\"xscale-null\\\", \\\"type\\\": \\\"band\\\", \\\"range\\\": [{\\\"signal\\\": \\\"nullGap ? 0 : 1\\\"}, {\\\"signal\\\": \\\"nullGap ? barStep : 0\\\"}], \\\"round\\\": true, \\\"domain\\\": [{\\\"signal\\\": \\\"nullGap ? null : &apos;&apos;\\\"}]}], \\\"axes\\\": [{\\\"title\\\": \\\"Values\\\", \\\"orient\\\": \\\"bottom\\\", \\\"scale\\\": \\\"xscale\\\", \\\"tickMinStep\\\": 1, \\\"grid\\\": true}, {\\\"orient\\\": \\\"bottom\\\", \\\"scale\\\": \\\"xscale-null\\\"}, {\\\"title\\\": \\\"Count\\\", \\\"orient\\\": \\\"left\\\", \\\"scale\\\": \\\"yscale\\\", \\\"tickCount\\\": 5, \\\"offset\\\": {\\\"signal\\\": \\\"nullGap ? 5 : 0\\\"}, \\\"grid\\\": true}], \\\"config\\\": {\\\"axis\\\": {\\\"gridColor\\\": \\\"rgba(204,204,204,1.0)\\\", \\\"labelFont\\\": \\\"\\\\\\\"San Francisco\\\\\\\", HelveticaNeue, Arial\\\", \\\"labelFontSize\\\": 12, \\\"labelPadding\\\": 10, \\\"labelColor\\\": \\\"rgba(0,0,0,0.847)\\\", \\\"tickColor\\\": \\\"rgb(136,136,136)\\\", \\\"titleFont\\\": \\\"\\\\\\\"San Francisco\\\\\\\", HelveticaNeue, Arial\\\", \\\"titleFontWeight\\\": \\\"normal\\\", \\\"titlePadding\\\": 20, \\\"titleFontSize\\\": 14, \\\"titleColor\\\": \\\"rgba(0,0,0,0.847)\\\"}, \\\"axisY\\\": {\\\"minExtent\\\": 30}, \\\"legend\\\": {\\\"labelFont\\\": \\\"\\\\\\\"San Francisco\\\\\\\", HelveticaNeue, Arial\\\", \\\"labelColor\\\": \\\"rgba(0,0,0,0.847)\\\", \\\"titleFont\\\": \\\"\\\\\\\"San Francisco\\\\\\\", HelveticaNeue, Arial\\\", \\\"cornerRadius\\\": 30, \\\"gradientLength\\\": 608, \\\"titleColor\\\": \\\"rgba(0,0,0,0.847)\\\"}, \\\"range\\\": {\\\"heatmap\\\": {\\\"scheme\\\": \\\"greenblue\\\"}}, \\\"style\\\": {\\\"rect\\\": {\\\"stroke\\\": \\\"rgba(200, 200, 200, 0.5)\\\"}, \\\"cell\\\": {\\\"stroke\\\": \\\"transparent\\\"}, \\\"group-title\\\": {\\\"fontSize\\\": 29, \\\"font\\\": \\\"HelveticaNeue, Arial\\\", \\\"fontWeight\\\": \\\"normal\\\", \\\"fill\\\": \\\"rgba(0,0,0,0.65)\\\"}}, \\\"title\\\": {\\\"color\\\": \\\"rgba(0,0,0,0.847)\\\", \\\"font\\\": \\\"\\\\\\\"San Francisco\\\\\\\", HelveticaNeue, Arial\\\", \\\"fontSize\\\": 18, \\\"fontWeight\\\": \\\"normal\\\", \\\"offset\\\": 30}}}\";                                 var vega_json_parsed = JSON.parse(vega_json);                                 var toolTipOpts = {                                     showAllFields: true                                 };                                 if(vega_json_parsed[\"metadata\"] != null){                                     if(vega_json_parsed[\"metadata\"][\"bubbleOpts\"] != null){                                         toolTipOpts = vega_json_parsed[\"metadata\"][\"bubbleOpts\"];                                     };                                 };                                 vegaEmbed(\"#vis\", vega_json_parsed).then(function (result) {                                     vegaTooltip.vega(result.view, toolTipOpts);                                  });                             </script>                         </body>                     </html>' src=\"demo_iframe_srcdoc.htm\">                         <p>Your browser does not support iframes.</p>                     </iframe>                 </body>             </html>"
      ],
      "text/plain": [
       "<IPython.core.display.HTML object>"
      ]
     },
     "metadata": {},
     "output_type": "display_data"
    },
    {
     "data": {
      "text/plain": [
       "<turicreate.visualization._plot.Plot at 0x7f098da18b50>"
      ]
     },
     "execution_count": 12,
     "metadata": {},
     "output_type": "execute_result"
    }
   ],
   "source": [
    "count_click_precent = precnet_from_placement_id[\"count_click_precent\"]\n",
    "tc.visualization.histogram(count_click_precent)"
   ]
  },
  {
   "cell_type": "markdown",
   "id": "authorized-encoding",
   "metadata": {
    "papermill": {
     "duration": 0.31129,
     "end_time": "2021-06-11T08:35:02.052240",
     "exception": false,
     "start_time": "2021-06-11T08:35:01.740950",
     "status": "completed"
    },
    "tags": []
   },
   "source": [
    "## Time Analysis\n",
    "In this section we wanted to examine the time columns in the data. We wanted to understand if we should split the data by time, and if the time of week/day impacts the users' clicks.  \n",
    "\n",
    "After analyzing the data we witnessed that it's only from one month and that there is no difference between the days and times"
   ]
  },
  {
   "cell_type": "code",
   "execution_count": 13,
   "id": "plastic-google",
   "metadata": {
    "execution": {
     "iopub.execute_input": "2021-06-11T08:35:02.673692Z",
     "iopub.status.busy": "2021-06-11T08:35:02.672986Z",
     "iopub.status.idle": "2021-06-11T08:35:13.980754Z",
     "shell.execute_reply": "2021-06-11T08:35:13.980001Z",
     "shell.execute_reply.started": "2021-06-11T07:30:57.955192Z"
    },
    "papermill": {
     "duration": 11.620349,
     "end_time": "2021-06-11T08:35:13.980922",
     "exception": false,
     "start_time": "2021-06-11T08:35:02.360573",
     "status": "completed"
    },
    "tags": []
   },
   "outputs": [],
   "source": [
    "precnet_from_placement_id = precnet_from_column(data, by = \"day_of_week\", value = \"is_click\")"
   ]
  },
  {
   "cell_type": "code",
   "execution_count": 14,
   "id": "greater-equation",
   "metadata": {
    "execution": {
     "iopub.execute_input": "2021-06-11T08:35:14.599846Z",
     "iopub.status.busy": "2021-06-11T08:35:14.599117Z",
     "iopub.status.idle": "2021-06-11T08:35:14.602124Z",
     "shell.execute_reply": "2021-06-11T08:35:14.602628Z",
     "shell.execute_reply.started": "2021-06-11T07:31:09.125483Z"
    },
    "papermill": {
     "duration": 0.315009,
     "end_time": "2021-06-11T08:35:14.602811",
     "exception": false,
     "start_time": "2021-06-11T08:35:14.287802",
     "status": "completed"
    },
    "tags": []
   },
   "outputs": [],
   "source": [
    "precnet_from_placement_id_1 = precnet_from_placement_id[precnet_from_placement_id[\"is_click\"] == 1]"
   ]
  },
  {
   "cell_type": "code",
   "execution_count": 15,
   "id": "mobile-marina",
   "metadata": {
    "execution": {
     "iopub.execute_input": "2021-06-11T08:35:15.223195Z",
     "iopub.status.busy": "2021-06-11T08:35:15.222541Z",
     "iopub.status.idle": "2021-06-11T08:35:15.244880Z",
     "shell.execute_reply": "2021-06-11T08:35:15.245350Z",
     "shell.execute_reply.started": "2021-06-11T07:31:09.130852Z"
    },
    "papermill": {
     "duration": 0.336342,
     "end_time": "2021-06-11T08:35:15.245543",
     "exception": false,
     "start_time": "2021-06-11T08:35:14.909201",
     "status": "completed"
    },
    "tags": []
   },
   "outputs": [
    {
     "data": {
      "text/html": [
       "<div style=\"max-height:1000px;max-width:1500px;overflow:auto;\"><table frame=\"box\" rules=\"cols\">\n",
       "    <thead>\n",
       "        <tr>\n",
       "            <th style=\"padding-left: 1em; padding-right: 1em; text-align: center\">day_of_week</th>\n",
       "            <th style=\"padding-left: 1em; padding-right: 1em; text-align: center\">is_click</th>\n",
       "            <th style=\"padding-left: 1em; padding-right: 1em; text-align: center\">count_click_per_class</th>\n",
       "            <th style=\"padding-left: 1em; padding-right: 1em; text-align: center\">count_total_obs</th>\n",
       "            <th style=\"padding-left: 1em; padding-right: 1em; text-align: center\">count_click_precent</th>\n",
       "        </tr>\n",
       "    </thead>\n",
       "    <tbody>\n",
       "        <tr>\n",
       "            <td style=\"padding-left: 1em; padding-right: 1em; text-align: center; vertical-align: top\">1</td>\n",
       "            <td style=\"padding-left: 1em; padding-right: 1em; text-align: center; vertical-align: top\">0.0</td>\n",
       "            <td style=\"padding-left: 1em; padding-right: 1em; text-align: center; vertical-align: top\">2675242</td>\n",
       "            <td style=\"padding-left: 1em; padding-right: 1em; text-align: center; vertical-align: top\">5189368</td>\n",
       "            <td style=\"padding-left: 1em; padding-right: 1em; text-align: center; vertical-align: top\">0.5155236629971126</td>\n",
       "        </tr>\n",
       "        <tr>\n",
       "            <td style=\"padding-left: 1em; padding-right: 1em; text-align: center; vertical-align: top\">2</td>\n",
       "            <td style=\"padding-left: 1em; padding-right: 1em; text-align: center; vertical-align: top\">0.0</td>\n",
       "            <td style=\"padding-left: 1em; padding-right: 1em; text-align: center; vertical-align: top\">2618713</td>\n",
       "            <td style=\"padding-left: 1em; padding-right: 1em; text-align: center; vertical-align: top\">5014554</td>\n",
       "            <td style=\"padding-left: 1em; padding-right: 1em; text-align: center; vertical-align: top\">0.522222514704199</td>\n",
       "        </tr>\n",
       "        <tr>\n",
       "            <td style=\"padding-left: 1em; padding-right: 1em; text-align: center; vertical-align: top\">1</td>\n",
       "            <td style=\"padding-left: 1em; padding-right: 1em; text-align: center; vertical-align: top\">1.0</td>\n",
       "            <td style=\"padding-left: 1em; padding-right: 1em; text-align: center; vertical-align: top\">2514126</td>\n",
       "            <td style=\"padding-left: 1em; padding-right: 1em; text-align: center; vertical-align: top\">5189368</td>\n",
       "            <td style=\"padding-left: 1em; padding-right: 1em; text-align: center; vertical-align: top\">0.48447633700288745</td>\n",
       "        </tr>\n",
       "        <tr>\n",
       "            <td style=\"padding-left: 1em; padding-right: 1em; text-align: center; vertical-align: top\">4</td>\n",
       "            <td style=\"padding-left: 1em; padding-right: 1em; text-align: center; vertical-align: top\">0.0</td>\n",
       "            <td style=\"padding-left: 1em; padding-right: 1em; text-align: center; vertical-align: top\">2512906</td>\n",
       "            <td style=\"padding-left: 1em; padding-right: 1em; text-align: center; vertical-align: top\">4836430</td>\n",
       "            <td style=\"padding-left: 1em; padding-right: 1em; text-align: center; vertical-align: top\">0.5195786975103537</td>\n",
       "        </tr>\n",
       "        <tr>\n",
       "            <td style=\"padding-left: 1em; padding-right: 1em; text-align: center; vertical-align: top\">2</td>\n",
       "            <td style=\"padding-left: 1em; padding-right: 1em; text-align: center; vertical-align: top\">1.0</td>\n",
       "            <td style=\"padding-left: 1em; padding-right: 1em; text-align: center; vertical-align: top\">2395841</td>\n",
       "            <td style=\"padding-left: 1em; padding-right: 1em; text-align: center; vertical-align: top\">5014554</td>\n",
       "            <td style=\"padding-left: 1em; padding-right: 1em; text-align: center; vertical-align: top\">0.477777485295801</td>\n",
       "        </tr>\n",
       "        <tr>\n",
       "            <td style=\"padding-left: 1em; padding-right: 1em; text-align: center; vertical-align: top\">5</td>\n",
       "            <td style=\"padding-left: 1em; padding-right: 1em; text-align: center; vertical-align: top\">1.0</td>\n",
       "            <td style=\"padding-left: 1em; padding-right: 1em; text-align: center; vertical-align: top\">2333005</td>\n",
       "            <td style=\"padding-left: 1em; padding-right: 1em; text-align: center; vertical-align: top\">4551970</td>\n",
       "            <td style=\"padding-left: 1em; padding-right: 1em; text-align: center; vertical-align: top\">0.5125264445943185</td>\n",
       "        </tr>\n",
       "        <tr>\n",
       "            <td style=\"padding-left: 1em; padding-right: 1em; text-align: center; vertical-align: top\">4</td>\n",
       "            <td style=\"padding-left: 1em; padding-right: 1em; text-align: center; vertical-align: top\">1.0</td>\n",
       "            <td style=\"padding-left: 1em; padding-right: 1em; text-align: center; vertical-align: top\">2323524</td>\n",
       "            <td style=\"padding-left: 1em; padding-right: 1em; text-align: center; vertical-align: top\">4836430</td>\n",
       "            <td style=\"padding-left: 1em; padding-right: 1em; text-align: center; vertical-align: top\">0.48042130248964626</td>\n",
       "        </tr>\n",
       "        <tr>\n",
       "            <td style=\"padding-left: 1em; padding-right: 1em; text-align: center; vertical-align: top\">3</td>\n",
       "            <td style=\"padding-left: 1em; padding-right: 1em; text-align: center; vertical-align: top\">0.0</td>\n",
       "            <td style=\"padding-left: 1em; padding-right: 1em; text-align: center; vertical-align: top\">2315396</td>\n",
       "            <td style=\"padding-left: 1em; padding-right: 1em; text-align: center; vertical-align: top\">4347651</td>\n",
       "            <td style=\"padding-left: 1em; padding-right: 1em; text-align: center; vertical-align: top\">0.5325625262929338</td>\n",
       "        </tr>\n",
       "        <tr>\n",
       "            <td style=\"padding-left: 1em; padding-right: 1em; text-align: center; vertical-align: top\">5</td>\n",
       "            <td style=\"padding-left: 1em; padding-right: 1em; text-align: center; vertical-align: top\">0.0</td>\n",
       "            <td style=\"padding-left: 1em; padding-right: 1em; text-align: center; vertical-align: top\">2218965</td>\n",
       "            <td style=\"padding-left: 1em; padding-right: 1em; text-align: center; vertical-align: top\">4551970</td>\n",
       "            <td style=\"padding-left: 1em; padding-right: 1em; text-align: center; vertical-align: top\">0.4874735554056815</td>\n",
       "        </tr>\n",
       "        <tr>\n",
       "            <td style=\"padding-left: 1em; padding-right: 1em; text-align: center; vertical-align: top\">3</td>\n",
       "            <td style=\"padding-left: 1em; padding-right: 1em; text-align: center; vertical-align: top\">1.0</td>\n",
       "            <td style=\"padding-left: 1em; padding-right: 1em; text-align: center; vertical-align: top\">2032255</td>\n",
       "            <td style=\"padding-left: 1em; padding-right: 1em; text-align: center; vertical-align: top\">4347651</td>\n",
       "            <td style=\"padding-left: 1em; padding-right: 1em; text-align: center; vertical-align: top\">0.4674374737070662</td>\n",
       "        </tr>\n",
       "    </tbody>\n",
       "</table>\n",
       "[14 rows x 5 columns]<br/>Note: Only the head of the SFrame is printed.<br/>You can use print_rows(num_rows=m, num_columns=n) to print more rows and columns.\n",
       "</div>"
      ],
      "text/plain": [
       "Columns:\n",
       "\tday_of_week\tint\n",
       "\tis_click\tfloat\n",
       "\tcount_click_per_class\tint\n",
       "\tcount_total_obs\tint\n",
       "\tcount_click_precent\tfloat\n",
       "\n",
       "Rows: 14\n",
       "\n",
       "Data:\n",
       "+-------------+----------+-----------------------+-----------------+\n",
       "| day_of_week | is_click | count_click_per_class | count_total_obs |\n",
       "+-------------+----------+-----------------------+-----------------+\n",
       "|      1      |   0.0    |        2675242        |     5189368     |\n",
       "|      2      |   0.0    |        2618713        |     5014554     |\n",
       "|      1      |   1.0    |        2514126        |     5189368     |\n",
       "|      4      |   0.0    |        2512906        |     4836430     |\n",
       "|      2      |   1.0    |        2395841        |     5014554     |\n",
       "|      5      |   1.0    |        2333005        |     4551970     |\n",
       "|      4      |   1.0    |        2323524        |     4836430     |\n",
       "|      3      |   0.0    |        2315396        |     4347651     |\n",
       "|      5      |   0.0    |        2218965        |     4551970     |\n",
       "|      3      |   1.0    |        2032255        |     4347651     |\n",
       "+-------------+----------+-----------------------+-----------------+\n",
       "+---------------------+\n",
       "| count_click_precent |\n",
       "+---------------------+\n",
       "|  0.5155236629971126 |\n",
       "|  0.522222514704199  |\n",
       "| 0.48447633700288745 |\n",
       "|  0.5195786975103537 |\n",
       "|  0.477777485295801  |\n",
       "|  0.5125264445943185 |\n",
       "| 0.48042130248964626 |\n",
       "|  0.5325625262929338 |\n",
       "|  0.4874735554056815 |\n",
       "|  0.4674374737070662 |\n",
       "+---------------------+\n",
       "[14 rows x 5 columns]\n",
       "Note: Only the head of the SFrame is printed.\n",
       "You can use print_rows(num_rows=m, num_columns=n) to print more rows and columns."
      ]
     },
     "execution_count": 15,
     "metadata": {},
     "output_type": "execute_result"
    }
   ],
   "source": [
    "precnet_from_placement_id"
   ]
  },
  {
   "cell_type": "code",
   "execution_count": 16,
   "id": "accomplished-mills",
   "metadata": {
    "execution": {
     "iopub.execute_input": "2021-06-11T08:35:15.867157Z",
     "iopub.status.busy": "2021-06-11T08:35:15.866543Z",
     "iopub.status.idle": "2021-06-11T08:35:15.893997Z",
     "shell.execute_reply": "2021-06-11T08:35:15.893438Z",
     "shell.execute_reply.started": "2021-06-11T07:31:09.163635Z"
    },
    "papermill": {
     "duration": 0.341368,
     "end_time": "2021-06-11T08:35:15.894143",
     "exception": false,
     "start_time": "2021-06-11T08:35:15.552775",
     "status": "completed"
    },
    "tags": []
   },
   "outputs": [
    {
     "data": {
      "text/html": [
       "<pre>Materializing X axis SArray</pre>"
      ],
      "text/plain": [
       "Materializing X axis SArray"
      ]
     },
     "metadata": {},
     "output_type": "display_data"
    },
    {
     "data": {
      "text/html": [
       "<pre>Materializing Y axis SArray</pre>"
      ],
      "text/plain": [
       "Materializing Y axis SArray"
      ]
     },
     "metadata": {},
     "output_type": "display_data"
    },
    {
     "data": {
      "text/html": [
       "<html>                 <body>                     <iframe style=\"border:0;margin:0\" width=\"920\" height=\"770\" srcdoc='<html lang=\"en\">                         <head>                             <script src=\"https://cdnjs.cloudflare.com/ajax/libs/vega/5.4.0/vega.js\"></script>                             <script src=\"https://cdnjs.cloudflare.com/ajax/libs/vega-embed/4.0.0/vega-embed.js\"></script>                             <script src=\"https://cdnjs.cloudflare.com/ajax/libs/vega-tooltip/0.5.1/vega-tooltip.min.js\"></script>                             <link rel=\"stylesheet\" type=\"text/css\" href=\"https://cdnjs.cloudflare.com/ajax/libs/vega-tooltip/0.5.1/vega-tooltip.min.css\">                             <style>                             .vega-actions > a{                                 color:white;                                 text-decoration: none;                                 font-family: \"Arial\";                                 cursor:pointer;                                 padding:5px;                                 background:#AAAAAA;                                 border-radius:4px;                                 padding-left:10px;                                 padding-right:10px;                                 margin-right:5px;                             }                             .vega-actions{                                 margin-top:20px;                                 text-align:center                             }                            .vega-actions > a{                                 background:#999999;                            }                             </style>                         </head>                         <body>                             <div id=\"vis\">                             </div>                             <script>                                 var vega_json = \"{\\\"$schema\\\": \\\"https://vega.github.io/schema/vega/v4.json\\\", \\\"autosize\\\": {\\\"type\\\": \\\"fit\\\", \\\"resize\\\": false, \\\"contains\\\": \\\"padding\\\"}, \\\"padding\\\": 8, \\\"width\\\": 720, \\\"height\\\": 550, \\\"style\\\": \\\"cell\\\", \\\"title\\\": \\\"X vs. Y\\\", \\\"data\\\": [{\\\"name\\\": \\\"source_2\\\", \\\"values\\\": [{\\\"x\\\": 1, \\\"y\\\": 0.484476}, {\\\"x\\\": 2, \\\"y\\\": 0.477777}, {\\\"x\\\": 5, \\\"y\\\": 0.512526}, {\\\"x\\\": 4, \\\"y\\\": 0.480421}, {\\\"x\\\": 3, \\\"y\\\": 0.467437}, {\\\"x\\\": 6, \\\"y\\\": 0.55945}, {\\\"x\\\": 0, \\\"y\\\": 0.558348}]}], \\\"marks\\\": [{\\\"name\\\": \\\"marks\\\", \\\"type\\\": \\\"symbol\\\", \\\"style\\\": [\\\"circle\\\"], \\\"from\\\": {\\\"data\\\": \\\"source_2\\\"}, \\\"encode\\\": {\\\"hover\\\": {\\\"fill\\\": {\\\"value\\\": \\\"#7EC2F3\\\"}}, \\\"update\\\": {\\\"x\\\": {\\\"scale\\\": \\\"x\\\", \\\"field\\\": \\\"x\\\"}, \\\"y\\\": {\\\"scale\\\": \\\"y\\\", \\\"field\\\": \\\"y\\\", \\\"title\\\": \\\"Miles per Gallon\\\"}, \\\"fill\\\": {\\\"value\\\": \\\"#108EE9\\\"}, \\\"shape\\\": {\\\"value\\\": \\\"circle\\\"}, \\\"opacity\\\": {\\\"value\\\": 0.7}}}}], \\\"scales\\\": [{\\\"name\\\": \\\"x\\\", \\\"type\\\": \\\"linear\\\", \\\"domain\\\": {\\\"data\\\": \\\"source_2\\\", \\\"field\\\": \\\"x\\\"}, \\\"range\\\": [0, {\\\"signal\\\": \\\"width\\\"}], \\\"nice\\\": true, \\\"zero\\\": false, \\\"padding\\\": 5}, {\\\"name\\\": \\\"y\\\", \\\"type\\\": \\\"linear\\\", \\\"domain\\\": {\\\"data\\\": \\\"source_2\\\", \\\"field\\\": \\\"y\\\"}, \\\"range\\\": [{\\\"signal\\\": \\\"height\\\"}, 0], \\\"nice\\\": true, \\\"zero\\\": false, \\\"padding\\\": 5}], \\\"axes\\\": [{\\\"scale\\\": \\\"x\\\", \\\"labelOverlap\\\": true, \\\"orient\\\": \\\"bottom\\\", \\\"tickCount\\\": {\\\"signal\\\": \\\"ceil(width/40)\\\"}, \\\"title\\\": \\\"X\\\", \\\"zindex\\\": 1}, {\\\"scale\\\": \\\"x\\\", \\\"domain\\\": false, \\\"grid\\\": true, \\\"labels\\\": false, \\\"maxExtent\\\": 0, \\\"minExtent\\\": 0, \\\"orient\\\": \\\"bottom\\\", \\\"tickCount\\\": {\\\"signal\\\": \\\"ceil(width/40)\\\"}, \\\"ticks\\\": false, \\\"zindex\\\": 0, \\\"gridScale\\\": \\\"y\\\"}, {\\\"scale\\\": \\\"y\\\", \\\"labelOverlap\\\": true, \\\"orient\\\": \\\"left\\\", \\\"tickCount\\\": {\\\"signal\\\": \\\"ceil(height/40)\\\"}, \\\"title\\\": \\\"Y\\\", \\\"zindex\\\": 1}, {\\\"scale\\\": \\\"y\\\", \\\"domain\\\": false, \\\"grid\\\": true, \\\"labels\\\": false, \\\"maxExtent\\\": 0, \\\"minExtent\\\": 0, \\\"orient\\\": \\\"left\\\", \\\"tickCount\\\": {\\\"signal\\\": \\\"ceil(height/40)\\\"}, \\\"ticks\\\": false, \\\"zindex\\\": 0, \\\"gridScale\\\": \\\"x\\\"}], \\\"config\\\": {\\\"axis\\\": {\\\"gridColor\\\": \\\"rgba(204,204,204,1.0)\\\", \\\"labelFont\\\": \\\"\\\\\\\"San Francisco\\\\\\\", HelveticaNeue, Arial\\\", \\\"labelFontSize\\\": 12, \\\"labelPadding\\\": 10, \\\"labelColor\\\": \\\"rgba(0,0,0,0.847)\\\", \\\"tickColor\\\": \\\"rgb(136,136,136)\\\", \\\"titleFont\\\": \\\"\\\\\\\"San Francisco\\\\\\\", HelveticaNeue, Arial\\\", \\\"titleFontWeight\\\": \\\"normal\\\", \\\"titlePadding\\\": 20, \\\"titleFontSize\\\": 14, \\\"titleColor\\\": \\\"rgba(0,0,0,0.847)\\\"}, \\\"axisY\\\": {\\\"minExtent\\\": 30}, \\\"legend\\\": {\\\"labelFont\\\": \\\"\\\\\\\"San Francisco\\\\\\\", HelveticaNeue, Arial\\\", \\\"labelColor\\\": \\\"rgba(0,0,0,0.847)\\\", \\\"titleFont\\\": \\\"\\\\\\\"San Francisco\\\\\\\", HelveticaNeue, Arial\\\", \\\"cornerRadius\\\": 30, \\\"gradientLength\\\": 608, \\\"titleColor\\\": \\\"rgba(0,0,0,0.847)\\\"}, \\\"range\\\": {\\\"heatmap\\\": {\\\"scheme\\\": \\\"greenblue\\\"}}, \\\"style\\\": {\\\"rect\\\": {\\\"stroke\\\": \\\"rgba(200, 200, 200, 0.5)\\\"}, \\\"cell\\\": {\\\"stroke\\\": \\\"transparent\\\"}, \\\"group-title\\\": {\\\"fontSize\\\": 29, \\\"font\\\": \\\"HelveticaNeue, Arial\\\", \\\"fontWeight\\\": \\\"normal\\\", \\\"fill\\\": \\\"rgba(0,0,0,0.65)\\\"}}, \\\"title\\\": {\\\"color\\\": \\\"rgba(0,0,0,0.847)\\\", \\\"font\\\": \\\"\\\\\\\"San Francisco\\\\\\\", HelveticaNeue, Arial\\\", \\\"fontSize\\\": 18, \\\"fontWeight\\\": \\\"normal\\\", \\\"offset\\\": 30}}}\";                                 var vega_json_parsed = JSON.parse(vega_json);                                 var toolTipOpts = {                                     showAllFields: true                                 };                                 if(vega_json_parsed[\"metadata\"] != null){                                     if(vega_json_parsed[\"metadata\"][\"bubbleOpts\"] != null){                                         toolTipOpts = vega_json_parsed[\"metadata\"][\"bubbleOpts\"];                                     };                                 };                                 vegaEmbed(\"#vis\", vega_json_parsed).then(function (result) {                                     vegaTooltip.vega(result.view, toolTipOpts);                                  });                             </script>                         </body>                     </html>' src=\"demo_iframe_srcdoc.htm\">                         <p>Your browser does not support iframes.</p>                     </iframe>                 </body>             </html>"
      ],
      "text/plain": [
       "<IPython.core.display.HTML object>"
      ]
     },
     "metadata": {},
     "output_type": "display_data"
    }
   ],
   "source": [
    "tc.show(precnet_from_placement_id_1[\"day_of_week\"], precnet_from_placement_id_1[\"count_click_precent\"])\n",
    "# tc.visualization.histogram(precnet_from_placement_id[precnet_from_placement_id[\"is_click\"] == 1][\"count_click_precent\"])"
   ]
  },
  {
   "cell_type": "code",
   "execution_count": 17,
   "id": "serial-sample",
   "metadata": {
    "execution": {
     "iopub.execute_input": "2021-06-11T08:35:16.522319Z",
     "iopub.status.busy": "2021-06-11T08:35:16.521649Z",
     "iopub.status.idle": "2021-06-11T08:35:21.617359Z",
     "shell.execute_reply": "2021-06-11T08:35:21.616781Z",
     "shell.execute_reply.started": "2021-06-11T07:31:22.787907Z"
    },
    "papermill": {
     "duration": 5.408852,
     "end_time": "2021-06-11T08:35:21.617515",
     "exception": false,
     "start_time": "2021-06-11T08:35:16.208663",
     "status": "completed"
    },
    "tags": []
   },
   "outputs": [],
   "source": [
    "data[\"day\"] = data[\"page_view_start_time\"].apply(lambda x : datetime.datetime.fromtimestamp(x/ 1000.0).month)\n",
    "data[\"year\"] = data[\"page_view_start_time\"].apply(lambda x : datetime.datetime.fromtimestamp(x / 1000.0).year)"
   ]
  },
  {
   "cell_type": "code",
   "execution_count": 18,
   "id": "vocal-phrase",
   "metadata": {
    "execution": {
     "iopub.execute_input": "2021-06-11T08:35:22.248643Z",
     "iopub.status.busy": "2021-06-11T08:35:22.247994Z",
     "iopub.status.idle": "2021-06-11T08:35:22.257385Z",
     "shell.execute_reply": "2021-06-11T08:35:22.256737Z",
     "shell.execute_reply.started": "2021-06-11T07:31:24.058863Z"
    },
    "papermill": {
     "duration": 0.325591,
     "end_time": "2021-06-11T08:35:22.257556",
     "exception": false,
     "start_time": "2021-06-11T08:35:21.931965",
     "status": "completed"
    },
    "tags": []
   },
   "outputs": [],
   "source": [
    "test[\"day\"] = test[\"page_view_start_time\"].apply(lambda x : datetime.datetime.fromtimestamp(x/ 1000.0).month)\n",
    "test[\"year\"] = test[\"page_view_start_time\"].apply(lambda x : datetime.datetime.fromtimestamp(x / 1000.0).year)"
   ]
  },
  {
   "cell_type": "markdown",
   "id": "vital-mumbai",
   "metadata": {
    "papermill": {
     "duration": 0.308413,
     "end_time": "2021-06-11T08:35:22.874409",
     "exception": false,
     "start_time": "2021-06-11T08:35:22.565996",
     "status": "completed"
    },
    "tags": []
   },
   "source": [
    "# Model - Simple Turicrate Model"
   ]
  },
  {
   "cell_type": "markdown",
   "id": "quarterly-devil",
   "metadata": {
    "papermill": {
     "duration": 0.308151,
     "end_time": "2021-06-11T08:35:23.493228",
     "exception": false,
     "start_time": "2021-06-11T08:35:23.185077",
     "status": "completed"
    },
    "tags": []
   },
   "source": [
    "#### Data Preprocsing"
   ]
  },
  {
   "cell_type": "code",
   "execution_count": 19,
   "id": "innovative-welsh",
   "metadata": {
    "execution": {
     "iopub.execute_input": "2021-06-11T08:35:24.115296Z",
     "iopub.status.busy": "2021-06-11T08:35:24.114637Z",
     "iopub.status.idle": "2021-06-11T08:35:24.119140Z",
     "shell.execute_reply": "2021-06-11T08:35:24.119672Z",
     "shell.execute_reply.started": "2021-06-11T07:31:26.507607Z"
    },
    "papermill": {
     "duration": 0.316986,
     "end_time": "2021-06-11T08:35:24.119849",
     "exception": false,
     "start_time": "2021-06-11T08:35:23.802863",
     "status": "completed"
    },
    "tags": []
   },
   "outputs": [],
   "source": [
    "delete_coulmns = [\"gmt_offset\",\"user_id_hash\"]\n",
    "features_list = [\"target_item_taxonomy\"]\n",
    "features_categorical = [\"target_id_hash\",\"syndicator_id_hash\",\"campaign_id_hash\",\"placement_id_hash\",\"publisher_id_hash\",\"source_id_hash\",\"source_item_type\",\"browser_platform\",\"country_code\",\"region\"]\n",
    "label = \"is_click\"\n",
    "time_column = \"page_view_start_time\"\n",
    "precent = 0.8"
   ]
  },
  {
   "cell_type": "code",
   "execution_count": 20,
   "id": "mighty-carnival",
   "metadata": {
    "execution": {
     "iopub.execute_input": "2021-06-11T08:35:24.746496Z",
     "iopub.status.busy": "2021-06-11T08:35:24.745459Z",
     "iopub.status.idle": "2021-06-11T08:49:58.808332Z",
     "shell.execute_reply": "2021-06-11T08:49:58.809207Z",
     "shell.execute_reply.started": "2021-06-11T07:31:28.853749Z"
    },
    "papermill": {
     "duration": 874.383326,
     "end_time": "2021-06-11T08:49:58.811052",
     "exception": false,
     "start_time": "2021-06-11T08:35:24.427726",
     "status": "completed"
    },
    "tags": []
   },
   "outputs": [],
   "source": [
    "data_filterd = data.remove_columns(delete_coulmns+features_list)\n",
    "data_filterd = data_filterd.sort(time_column,ascending = True)\n",
    "data_filterd[label] = data_filterd[label].astype(int)"
   ]
  },
  {
   "cell_type": "markdown",
   "id": "relevant-genetics",
   "metadata": {
    "papermill": {
     "duration": 0.402715,
     "end_time": "2021-06-11T08:49:59.546880",
     "exception": false,
     "start_time": "2021-06-11T08:49:59.144165",
     "status": "completed"
    },
    "tags": []
   },
   "source": [
    "#### Creating Turicreate Model"
   ]
  },
  {
   "cell_type": "code",
   "execution_count": 21,
   "id": "dutch-sterling",
   "metadata": {
    "execution": {
     "iopub.execute_input": "2021-06-11T08:50:00.183912Z",
     "iopub.status.busy": "2021-06-11T08:50:00.183191Z",
     "iopub.status.idle": "2021-06-11T08:50:00.186060Z",
     "shell.execute_reply": "2021-06-11T08:50:00.186539Z",
     "shell.execute_reply.started": "2021-06-11T07:46:12.192211Z"
    },
    "papermill": {
     "duration": 0.32778,
     "end_time": "2021-06-11T08:50:00.186718",
     "exception": false,
     "start_time": "2021-06-11T08:49:59.858938",
     "status": "completed"
    },
    "tags": []
   },
   "outputs": [],
   "source": [
    "data_size = len(data_filterd)\n",
    "train_size = int(precent * data_size)\n",
    "\n",
    "data_filterd_train = data_filterd[:train_size]\n",
    "data_filterd_test = data_filterd[train_size:]\n",
    "\n"
   ]
  },
  {
   "cell_type": "code",
   "execution_count": 22,
   "id": "superior-austria",
   "metadata": {
    "execution": {
     "iopub.execute_input": "2021-06-11T08:50:00.810194Z",
     "iopub.status.busy": "2021-06-11T08:50:00.809499Z",
     "iopub.status.idle": "2021-06-11T09:23:14.741600Z",
     "shell.execute_reply": "2021-06-11T09:23:14.742126Z",
     "shell.execute_reply.started": "2021-06-11T07:46:12.201865Z"
    },
    "papermill": {
     "duration": 1994.246026,
     "end_time": "2021-06-11T09:23:14.743170",
     "exception": false,
     "start_time": "2021-06-11T08:50:00.497144",
     "status": "completed"
    },
    "tags": []
   },
   "outputs": [
    {
     "name": "stdout",
     "output_type": "stream",
     "text": [
      "PROGRESS: The following methods are available for this type of problem.\n",
      "PROGRESS: LogisticClassifier, SVMClassifier\n",
      "PROGRESS: The returned model will be chosen according to validation accuracy.\n"
     ]
    },
    {
     "data": {
      "text/html": [
       "<pre>Logistic regression:</pre>"
      ],
      "text/plain": [
       "Logistic regression:"
      ]
     },
     "metadata": {},
     "output_type": "display_data"
    },
    {
     "data": {
      "text/html": [
       "<pre>--------------------------------------------------------</pre>"
      ],
      "text/plain": [
       "--------------------------------------------------------"
      ]
     },
     "metadata": {},
     "output_type": "display_data"
    },
    {
     "data": {
      "text/html": [
       "<pre>Number of examples          : 24203886</pre>"
      ],
      "text/plain": [
       "Number of examples          : 24203886"
      ]
     },
     "metadata": {},
     "output_type": "display_data"
    },
    {
     "data": {
      "text/html": [
       "<pre>Number of classes           : 2</pre>"
      ],
      "text/plain": [
       "Number of classes           : 2"
      ]
     },
     "metadata": {},
     "output_type": "display_data"
    },
    {
     "data": {
      "text/html": [
       "<pre>Number of feature columns   : 21</pre>"
      ],
      "text/plain": [
       "Number of feature columns   : 21"
      ]
     },
     "metadata": {},
     "output_type": "display_data"
    },
    {
     "data": {
      "text/html": [
       "<pre>Number of unpacked features : 21</pre>"
      ],
      "text/plain": [
       "Number of unpacked features : 21"
      ]
     },
     "metadata": {},
     "output_type": "display_data"
    },
    {
     "data": {
      "text/html": [
       "<pre>Number of coefficients      : 335293</pre>"
      ],
      "text/plain": [
       "Number of coefficients      : 335293"
      ]
     },
     "metadata": {},
     "output_type": "display_data"
    },
    {
     "data": {
      "text/html": [
       "<pre>Starting L-BFGS</pre>"
      ],
      "text/plain": [
       "Starting L-BFGS"
      ]
     },
     "metadata": {},
     "output_type": "display_data"
    },
    {
     "data": {
      "text/html": [
       "<pre>--------------------------------------------------------</pre>"
      ],
      "text/plain": [
       "--------------------------------------------------------"
      ]
     },
     "metadata": {},
     "output_type": "display_data"
    },
    {
     "data": {
      "text/html": [
       "<pre>+-----------+----------+-----------+--------------+-------------------+---------------------+</pre>"
      ],
      "text/plain": [
       "+-----------+----------+-----------+--------------+-------------------+---------------------+"
      ]
     },
     "metadata": {},
     "output_type": "display_data"
    },
    {
     "data": {
      "text/html": [
       "<pre>| Iteration | Passes   | Step size | Elapsed Time | Training Accuracy | Validation Accuracy |</pre>"
      ],
      "text/plain": [
       "| Iteration | Passes   | Step size | Elapsed Time | Training Accuracy | Validation Accuracy |"
      ]
     },
     "metadata": {},
     "output_type": "display_data"
    },
    {
     "data": {
      "text/html": [
       "<pre>+-----------+----------+-----------+--------------+-------------------+---------------------+</pre>"
      ],
      "text/plain": [
       "+-----------+----------+-----------+--------------+-------------------+---------------------+"
      ]
     },
     "metadata": {},
     "output_type": "display_data"
    },
    {
     "data": {
      "text/html": [
       "<pre>| 0         | 2        | 1.000000  | 26.365636    | 0.756550          | 0.741719            |</pre>"
      ],
      "text/plain": [
       "| 0         | 2        | 1.000000  | 26.365636    | 0.756550          | 0.741719            |"
      ]
     },
     "metadata": {},
     "output_type": "display_data"
    },
    {
     "data": {
      "text/html": [
       "<pre>| 1         | 4        | 1.000000  | 64.168614    | 0.760766          | 0.748628            |</pre>"
      ],
      "text/plain": [
       "| 1         | 4        | 1.000000  | 64.168614    | 0.760766          | 0.748628            |"
      ]
     },
     "metadata": {},
     "output_type": "display_data"
    },
    {
     "data": {
      "text/html": [
       "<pre>| 2         | 9        | 0.905287  | 138.944040   | 0.765497          | 0.750188            |</pre>"
      ],
      "text/plain": [
       "| 2         | 9        | 0.905287  | 138.944040   | 0.765497          | 0.750188            |"
      ]
     },
     "metadata": {},
     "output_type": "display_data"
    },
    {
     "data": {
      "text/html": [
       "<pre>| 3         | 10       | 1.000000  | 163.757986   | 0.769203          | 0.752939            |</pre>"
      ],
      "text/plain": [
       "| 3         | 10       | 1.000000  | 163.757986   | 0.769203          | 0.752939            |"
      ]
     },
     "metadata": {},
     "output_type": "display_data"
    },
    {
     "data": {
      "text/html": [
       "<pre>| 4         | 11       | 1.000000  | 188.801474   | 0.771588          | 0.755499            |</pre>"
      ],
      "text/plain": [
       "| 4         | 11       | 1.000000  | 188.801474   | 0.771588          | 0.755499            |"
      ]
     },
     "metadata": {},
     "output_type": "display_data"
    },
    {
     "data": {
      "text/html": [
       "<pre>| 6         | 13       | 1.000000  | 239.867789   | 0.772769          | 0.756560            |</pre>"
      ],
      "text/plain": [
       "| 6         | 13       | 1.000000  | 239.867789   | 0.772769          | 0.756560            |"
      ]
     },
     "metadata": {},
     "output_type": "display_data"
    },
    {
     "data": {
      "text/html": [
       "<pre>| 7         | 16       | 0.885840  | 289.162885   | 0.773114          | 0.756890            |</pre>"
      ],
      "text/plain": [
       "| 7         | 16       | 0.885840  | 289.162885   | 0.773114          | 0.756890            |"
      ]
     },
     "metadata": {},
     "output_type": "display_data"
    },
    {
     "data": {
      "text/html": [
       "<pre>| 8         | 17       | 1.000000  | 314.456848   | 0.773284          | 0.756977            |</pre>"
      ],
      "text/plain": [
       "| 8         | 17       | 1.000000  | 314.456848   | 0.773284          | 0.756977            |"
      ]
     },
     "metadata": {},
     "output_type": "display_data"
    },
    {
     "data": {
      "text/html": [
       "<pre>| 9         | 18       | 1.000000  | 339.502163   | 0.773352          | 0.757152            |</pre>"
      ],
      "text/plain": [
       "| 9         | 18       | 1.000000  | 339.502163   | 0.773352          | 0.757152            |"
      ]
     },
     "metadata": {},
     "output_type": "display_data"
    },
    {
     "data": {
      "text/html": [
       "<pre>+-----------+----------+-----------+--------------+-------------------+---------------------+</pre>"
      ],
      "text/plain": [
       "+-----------+----------+-----------+--------------+-------------------+---------------------+"
      ]
     },
     "metadata": {},
     "output_type": "display_data"
    },
    {
     "data": {
      "text/html": [
       "<pre>SVM:</pre>"
      ],
      "text/plain": [
       "SVM:"
      ]
     },
     "metadata": {},
     "output_type": "display_data"
    },
    {
     "data": {
      "text/html": [
       "<pre>--------------------------------------------------------</pre>"
      ],
      "text/plain": [
       "--------------------------------------------------------"
      ]
     },
     "metadata": {},
     "output_type": "display_data"
    },
    {
     "data": {
      "text/html": [
       "<pre>Number of examples          : 24203886</pre>"
      ],
      "text/plain": [
       "Number of examples          : 24203886"
      ]
     },
     "metadata": {},
     "output_type": "display_data"
    },
    {
     "data": {
      "text/html": [
       "<pre>Number of classes           : 2</pre>"
      ],
      "text/plain": [
       "Number of classes           : 2"
      ]
     },
     "metadata": {},
     "output_type": "display_data"
    },
    {
     "data": {
      "text/html": [
       "<pre>Number of feature columns   : 21</pre>"
      ],
      "text/plain": [
       "Number of feature columns   : 21"
      ]
     },
     "metadata": {},
     "output_type": "display_data"
    },
    {
     "data": {
      "text/html": [
       "<pre>Number of unpacked features : 21</pre>"
      ],
      "text/plain": [
       "Number of unpacked features : 21"
      ]
     },
     "metadata": {},
     "output_type": "display_data"
    },
    {
     "data": {
      "text/html": [
       "<pre>Number of coefficients    : 335293</pre>"
      ],
      "text/plain": [
       "Number of coefficients    : 335293"
      ]
     },
     "metadata": {},
     "output_type": "display_data"
    },
    {
     "data": {
      "text/html": [
       "<pre>Starting L-BFGS</pre>"
      ],
      "text/plain": [
       "Starting L-BFGS"
      ]
     },
     "metadata": {},
     "output_type": "display_data"
    },
    {
     "data": {
      "text/html": [
       "<pre>--------------------------------------------------------</pre>"
      ],
      "text/plain": [
       "--------------------------------------------------------"
      ]
     },
     "metadata": {},
     "output_type": "display_data"
    },
    {
     "data": {
      "text/html": [
       "<pre>+-----------+----------+-----------+--------------+-------------------+---------------------+</pre>"
      ],
      "text/plain": [
       "+-----------+----------+-----------+--------------+-------------------+---------------------+"
      ]
     },
     "metadata": {},
     "output_type": "display_data"
    },
    {
     "data": {
      "text/html": [
       "<pre>| Iteration | Passes   | Step size | Elapsed Time | Training Accuracy | Validation Accuracy |</pre>"
      ],
      "text/plain": [
       "| Iteration | Passes   | Step size | Elapsed Time | Training Accuracy | Validation Accuracy |"
      ]
     },
     "metadata": {},
     "output_type": "display_data"
    },
    {
     "data": {
      "text/html": [
       "<pre>+-----------+----------+-----------+--------------+-------------------+---------------------+</pre>"
      ],
      "text/plain": [
       "+-----------+----------+-----------+--------------+-------------------+---------------------+"
      ]
     },
     "metadata": {},
     "output_type": "display_data"
    },
    {
     "data": {
      "text/html": [
       "<pre>| 0         | 2        | 1.000000  | 25.818993    | 0.756550          | 0.741719            |</pre>"
      ],
      "text/plain": [
       "| 0         | 2        | 1.000000  | 25.818993    | 0.756550          | 0.741719            |"
      ]
     },
     "metadata": {},
     "output_type": "display_data"
    },
    {
     "data": {
      "text/html": [
       "<pre>| 1         | 4        | 1.000000  | 62.755989    | 0.760257          | 0.744940            |</pre>"
      ],
      "text/plain": [
       "| 1         | 4        | 1.000000  | 62.755989    | 0.760257          | 0.744940            |"
      ]
     },
     "metadata": {},
     "output_type": "display_data"
    },
    {
     "data": {
      "text/html": [
       "<pre>| 2         | 5        | 1.000000  | 87.174669    | 0.763938          | 0.745184            |</pre>"
      ],
      "text/plain": [
       "| 2         | 5        | 1.000000  | 87.174669    | 0.763938          | 0.745184            |"
      ]
     },
     "metadata": {},
     "output_type": "display_data"
    },
    {
     "data": {
      "text/html": [
       "<pre>| 3         | 10       | 0.541867  | 162.760910   | 0.763894          | 0.747640            |</pre>"
      ],
      "text/plain": [
       "| 3         | 10       | 0.541867  | 162.760910   | 0.763894          | 0.747640            |"
      ]
     },
     "metadata": {},
     "output_type": "display_data"
    },
    {
     "data": {
      "text/html": [
       "<pre>| 4         | 11       | 0.677334  | 187.341772   | 0.764746          | 0.748181            |</pre>"
      ],
      "text/plain": [
       "| 4         | 11       | 0.677334  | 187.341772   | 0.764746          | 0.748181            |"
      ]
     },
     "metadata": {},
     "output_type": "display_data"
    },
    {
     "data": {
      "text/html": [
       "<pre>| 6         | 13       | 1.000000  | 235.572011   | 0.763821          | 0.747637            |</pre>"
      ],
      "text/plain": [
       "| 6         | 13       | 1.000000  | 235.572011   | 0.763821          | 0.747637            |"
      ]
     },
     "metadata": {},
     "output_type": "display_data"
    },
    {
     "data": {
      "text/html": [
       "<pre>| 7         | 18       | 0.925735  | 311.558829   | 0.763552          | 0.747347            |</pre>"
      ],
      "text/plain": [
       "| 7         | 18       | 0.925735  | 311.558829   | 0.763552          | 0.747347            |"
      ]
     },
     "metadata": {},
     "output_type": "display_data"
    },
    {
     "data": {
      "text/html": [
       "<pre>| 8         | 23       | 0.922534  | 392.898283   | 0.763292          | 0.746931            |</pre>"
      ],
      "text/plain": [
       "| 8         | 23       | 0.922534  | 392.898283   | 0.763292          | 0.746931            |"
      ]
     },
     "metadata": {},
     "output_type": "display_data"
    },
    {
     "data": {
      "text/html": [
       "<pre>| 9         | 24       | 1.000000  | 417.194179   | 0.762919          | 0.746394            |</pre>"
      ],
      "text/plain": [
       "| 9         | 24       | 1.000000  | 417.194179   | 0.762919          | 0.746394            |"
      ]
     },
     "metadata": {},
     "output_type": "display_data"
    },
    {
     "data": {
      "text/html": [
       "<pre>+-----------+----------+-----------+--------------+-------------------+---------------------+</pre>"
      ],
      "text/plain": [
       "+-----------+----------+-----------+--------------+-------------------+---------------------+"
      ]
     },
     "metadata": {},
     "output_type": "display_data"
    },
    {
     "name": "stdout",
     "output_type": "stream",
     "text": [
      "PROGRESS: Model selection based on validation accuracy:\n",
      "PROGRESS: ---------------------------------------------\n",
      "PROGRESS: LogisticClassifier              : 0.7571519088172941\n",
      "PROGRESS: SVMClassifier                   : 0.7463936372536512\n",
      "PROGRESS: ---------------------------------------------\n",
      "PROGRESS: Selecting LogisticClassifier based on validation set performance.\n"
     ]
    }
   ],
   "source": [
    "model = tc.classifier.create(data_filterd_train, validation_set = data_filterd_test, target=label, verbose=1)"
   ]
  },
  {
   "cell_type": "code",
   "execution_count": 23,
   "id": "necessary-geneva",
   "metadata": {
    "execution": {
     "iopub.execute_input": "2021-06-11T09:23:15.421530Z",
     "iopub.status.busy": "2021-06-11T09:23:15.420859Z",
     "iopub.status.idle": "2021-06-11T09:23:18.429100Z",
     "shell.execute_reply": "2021-06-11T09:23:18.428433Z"
    },
    "papermill": {
     "duration": 3.354069,
     "end_time": "2021-06-11T09:23:18.429242",
     "exception": false,
     "start_time": "2021-06-11T09:23:15.075173",
     "status": "completed"
    },
    "tags": []
   },
   "outputs": [],
   "source": [
    "predictions = model.predict(test, output_type = \"probability\")"
   ]
  },
  {
   "cell_type": "code",
   "execution_count": 24,
   "id": "flying-bride",
   "metadata": {
    "execution": {
     "iopub.execute_input": "2021-06-11T09:23:19.095369Z",
     "iopub.status.busy": "2021-06-11T09:23:19.094716Z",
     "iopub.status.idle": "2021-06-11T09:23:19.103009Z",
     "shell.execute_reply": "2021-06-11T09:23:19.103717Z"
    },
    "papermill": {
     "duration": 0.343373,
     "end_time": "2021-06-11T09:23:19.103895",
     "exception": false,
     "start_time": "2021-06-11T09:23:18.760522",
     "status": "completed"
    },
    "tags": []
   },
   "outputs": [
    {
     "data": {
      "text/plain": [
       "dtype: float\n",
       "Rows: 444506\n",
       "[0.8714603024452857, 0.6868787468575411, 0.5047253275871896, 0.45844903324057124, 0.8461671889550321, 0.8902983410153349, 0.7332856356098257, 0.38025136289508427, 0.5657709384013792, 0.6919013940411637, 0.6983113630556186, 0.051924731326028796, 0.30057082335939495, 0.8631542717219076, 0.8042257467561831, 0.17270359727766887, 0.83811223966049, 0.4478179689946104, 0.3573753480644505, 0.06411812551777196, 0.24218316857640343, 0.873705591627583, 0.15492068088900282, 0.06778397982230663, 0.07941246689766107, 0.11455741863665518, 0.1086396738054453, 0.9220523389733023, 0.31843113860217603, 0.7154296205364675, 0.6160921539705312, 0.11148072102302943, 0.7276962865821008, 0.6541370050736948, 0.05042832565031878, 0.24920673088379858, 0.3765513014917416, 0.22344926209032642, 0.818355146164874, 0.5921335595741452, 0.5389237355661933, 0.2877680903448264, 0.4782790003687077, 0.08838830453379994, 0.7902131115819849, 0.18045678281838226, 0.975151815258386, 0.4772404299386263, 0.6174705061980442, 0.04221025306960347, 0.5306804136154017, 0.1575085336678333, 0.09196005348085794, 0.8414170475243646, 0.30549596304974463, 0.4860444634702651, 0.8645225556075437, 0.18598577049767423, 0.7172897735495622, 0.35680541599504356, 0.308917404092146, 0.3961869742335463, 0.8100536903151134, 0.1502046512626407, 0.3392283526852136, 0.14086636905029473, 0.8850179187865869, 0.6846766686429872, 0.8431531928860646, 0.5494936622257754, 0.5814613208865972, 0.09859544200588148, 0.03386118385417783, 0.17807241314329528, 0.036836036509509465, 0.12476141216916599, 0.8110373016005432, 0.6872904006704372, 0.8059678807156878, 0.09759663998719435, 0.5399404301679901, 0.5108966599336298, 0.5034369005649016, 0.07544398345340084, 0.7825492644648367, 0.7882989211942868, 0.6309433598838701, 0.5075395736955356, 0.36951884563361487, 0.801913399487138, 0.8081803347884504, 0.41350964984839794, 0.6147753065738031, 0.14929422430875577, 0.16020556209906878, 0.8494364811801278, 0.6613426634217232, 0.2607192417109362, 0.24288376783664034, 0.032207395803052805, ... ]"
      ]
     },
     "execution_count": 24,
     "metadata": {},
     "output_type": "execute_result"
    }
   ],
   "source": [
    "predictions"
   ]
  },
  {
   "cell_type": "code",
   "execution_count": 25,
   "id": "metropolitan-grammar",
   "metadata": {
    "execution": {
     "iopub.execute_input": "2021-06-11T09:23:19.775383Z",
     "iopub.status.busy": "2021-06-11T09:23:19.774731Z",
     "iopub.status.idle": "2021-06-11T09:23:19.962052Z",
     "shell.execute_reply": "2021-06-11T09:23:19.962534Z"
    },
    "papermill": {
     "duration": 0.524216,
     "end_time": "2021-06-11T09:23:19.962713",
     "exception": false,
     "start_time": "2021-06-11T09:23:19.438497",
     "status": "completed"
    },
    "tags": []
   },
   "outputs": [],
   "source": [
    "pred_df = pd.DataFrame(predictions)\n",
    "pred_df.reset_index(inplace=True)\n",
    "pred_df.columns = ['Id', \"Predicted\"]\n"
   ]
  },
  {
   "cell_type": "code",
   "execution_count": 26,
   "id": "bigger-logging",
   "metadata": {
    "execution": {
     "iopub.execute_input": "2021-06-11T09:23:20.641076Z",
     "iopub.status.busy": "2021-06-11T09:23:20.640236Z",
     "iopub.status.idle": "2021-06-11T09:23:20.683436Z",
     "shell.execute_reply": "2021-06-11T09:23:20.682730Z"
    },
    "papermill": {
     "duration": 0.385319,
     "end_time": "2021-06-11T09:23:20.683580",
     "exception": false,
     "start_time": "2021-06-11T09:23:20.298261",
     "status": "completed"
    },
    "tags": []
   },
   "outputs": [
    {
     "data": {
      "text/html": [
       "<div>\n",
       "<style scoped>\n",
       "    .dataframe tbody tr th:only-of-type {\n",
       "        vertical-align: middle;\n",
       "    }\n",
       "\n",
       "    .dataframe tbody tr th {\n",
       "        vertical-align: top;\n",
       "    }\n",
       "\n",
       "    .dataframe thead th {\n",
       "        text-align: right;\n",
       "    }\n",
       "</style>\n",
       "<table border=\"1\" class=\"dataframe\">\n",
       "  <thead>\n",
       "    <tr style=\"text-align: right;\">\n",
       "      <th></th>\n",
       "      <th>Id</th>\n",
       "      <th>Predicted</th>\n",
       "    </tr>\n",
       "  </thead>\n",
       "  <tbody>\n",
       "    <tr>\n",
       "      <th>0</th>\n",
       "      <td>0</td>\n",
       "      <td>0.871460</td>\n",
       "    </tr>\n",
       "    <tr>\n",
       "      <th>1</th>\n",
       "      <td>1</td>\n",
       "      <td>0.686879</td>\n",
       "    </tr>\n",
       "    <tr>\n",
       "      <th>2</th>\n",
       "      <td>2</td>\n",
       "      <td>0.504725</td>\n",
       "    </tr>\n",
       "    <tr>\n",
       "      <th>3</th>\n",
       "      <td>3</td>\n",
       "      <td>0.458449</td>\n",
       "    </tr>\n",
       "    <tr>\n",
       "      <th>4</th>\n",
       "      <td>4</td>\n",
       "      <td>0.846167</td>\n",
       "    </tr>\n",
       "    <tr>\n",
       "      <th>...</th>\n",
       "      <td>...</td>\n",
       "      <td>...</td>\n",
       "    </tr>\n",
       "    <tr>\n",
       "      <th>444501</th>\n",
       "      <td>444501</td>\n",
       "      <td>0.874733</td>\n",
       "    </tr>\n",
       "    <tr>\n",
       "      <th>444502</th>\n",
       "      <td>444502</td>\n",
       "      <td>0.589014</td>\n",
       "    </tr>\n",
       "    <tr>\n",
       "      <th>444503</th>\n",
       "      <td>444503</td>\n",
       "      <td>0.316266</td>\n",
       "    </tr>\n",
       "    <tr>\n",
       "      <th>444504</th>\n",
       "      <td>444504</td>\n",
       "      <td>0.676184</td>\n",
       "    </tr>\n",
       "    <tr>\n",
       "      <th>444505</th>\n",
       "      <td>444505</td>\n",
       "      <td>0.984272</td>\n",
       "    </tr>\n",
       "  </tbody>\n",
       "</table>\n",
       "<p>444506 rows × 2 columns</p>\n",
       "</div>"
      ],
      "text/plain": [
       "            Id  Predicted\n",
       "0            0   0.871460\n",
       "1            1   0.686879\n",
       "2            2   0.504725\n",
       "3            3   0.458449\n",
       "4            4   0.846167\n",
       "...        ...        ...\n",
       "444501  444501   0.874733\n",
       "444502  444502   0.589014\n",
       "444503  444503   0.316266\n",
       "444504  444504   0.676184\n",
       "444505  444505   0.984272\n",
       "\n",
       "[444506 rows x 2 columns]"
      ]
     },
     "execution_count": 26,
     "metadata": {},
     "output_type": "execute_result"
    }
   ],
   "source": [
    "pred_df"
   ]
  },
  {
   "cell_type": "code",
   "execution_count": 27,
   "id": "compressed-crawford",
   "metadata": {
    "execution": {
     "iopub.execute_input": "2021-06-11T09:23:21.354696Z",
     "iopub.status.busy": "2021-06-11T09:23:21.354053Z",
     "iopub.status.idle": "2021-06-11T09:23:22.982213Z",
     "shell.execute_reply": "2021-06-11T09:23:22.982767Z"
    },
    "papermill": {
     "duration": 1.965821,
     "end_time": "2021-06-11T09:23:22.982946",
     "exception": false,
     "start_time": "2021-06-11T09:23:21.017125",
     "status": "completed"
    },
    "tags": []
   },
   "outputs": [],
   "source": [
    "pred_df.to_csv('my_submission.csv', index = False)"
   ]
  }
 ],
 "metadata": {
  "kernelspec": {
   "display_name": "Python 3",
   "language": "python",
   "name": "python3"
  },
  "language_info": {
   "codemirror_mode": {
    "name": "ipython",
    "version": 3
   },
   "file_extension": ".py",
   "mimetype": "text/x-python",
   "name": "python",
   "nbconvert_exporter": "python",
   "pygments_lexer": "ipython3",
   "version": "3.7.10"
  },
  "papermill": {
   "default_parameters": {},
   "duration": 3781.590912,
   "end_time": "2021-06-11T09:23:26.254660",
   "environment_variables": {},
   "exception": null,
   "input_path": "__notebook__.ipynb",
   "output_path": "__notebook__.ipynb",
   "parameters": {},
   "start_time": "2021-06-11T08:20:24.663748",
   "version": "2.3.3"
  }
 },
 "nbformat": 4,
 "nbformat_minor": 5
}
