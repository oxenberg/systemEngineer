{
 "cells": [
  {
   "cell_type": "code",
   "execution_count": 1,
   "id": "double-species",
   "metadata": {
    "_cell_guid": "b1076dfc-b9ad-4769-8c92-a6c4dae69d19",
    "_uuid": "8f2839f25d086af736a60e9eeb907d3b93b6e0e5",
    "execution": {
     "iopub.execute_input": "2021-05-22T08:23:16.287307Z",
     "iopub.status.busy": "2021-05-22T08:23:16.286643Z",
     "iopub.status.idle": "2021-05-22T08:23:16.363054Z",
     "shell.execute_reply": "2021-05-22T08:23:16.363674Z"
    },
    "papermill": {
     "duration": 0.105036,
     "end_time": "2021-05-22T08:23:16.363971",
     "exception": false,
     "start_time": "2021-05-22T08:23:16.258935",
     "status": "completed"
    },
    "tags": []
   },
   "outputs": [
    {
     "name": "stdout",
     "output_type": "stream",
     "text": [
      "/kaggle/input/bgu-recsys-ctr-prediction/submission_example.csv\n",
      "/kaggle/input/bgu-recsys-ctr-prediction/test_file.csv\n",
      "/kaggle/input/bgu-recsys-ctr-prediction/Taboola Dataset Notice.docx\n",
      "/kaggle/input/bgu-recsys-ctr-prediction/train_data/train5/part-00045.csv\n",
      "/kaggle/input/bgu-recsys-ctr-prediction/train_data/train5/part-00043.csv\n",
      "/kaggle/input/bgu-recsys-ctr-prediction/train_data/train5/part-00049.csv\n",
      "/kaggle/input/bgu-recsys-ctr-prediction/train_data/train5/part-00044.csv\n",
      "/kaggle/input/bgu-recsys-ctr-prediction/train_data/train5/part-00050.csv\n",
      "/kaggle/input/bgu-recsys-ctr-prediction/train_data/train5/part-00041.csv\n",
      "/kaggle/input/bgu-recsys-ctr-prediction/train_data/train5/part-00047.csv\n",
      "/kaggle/input/bgu-recsys-ctr-prediction/train_data/train5/part-00042.csv\n",
      "/kaggle/input/bgu-recsys-ctr-prediction/train_data/train5/part-00048.csv\n",
      "/kaggle/input/bgu-recsys-ctr-prediction/train_data/train5/part-00046.csv\n",
      "/kaggle/input/bgu-recsys-ctr-prediction/train_data/train1/part-00008.csv\n",
      "/kaggle/input/bgu-recsys-ctr-prediction/train_data/train1/part-00010.csv\n",
      "/kaggle/input/bgu-recsys-ctr-prediction/train_data/train1/part-00006.csv\n",
      "/kaggle/input/bgu-recsys-ctr-prediction/train_data/train1/part-00004.csv\n",
      "/kaggle/input/bgu-recsys-ctr-prediction/train_data/train1/part-00001.csv\n",
      "/kaggle/input/bgu-recsys-ctr-prediction/train_data/train1/part-00005.csv\n",
      "/kaggle/input/bgu-recsys-ctr-prediction/train_data/train1/part-00003.csv\n",
      "/kaggle/input/bgu-recsys-ctr-prediction/train_data/train1/part-00007.csv\n",
      "/kaggle/input/bgu-recsys-ctr-prediction/train_data/train1/part-00009.csv\n",
      "/kaggle/input/bgu-recsys-ctr-prediction/train_data/train1/part-00002.csv\n",
      "/kaggle/input/bgu-recsys-ctr-prediction/train_data/train1/part-00000.csv\n",
      "/kaggle/input/bgu-recsys-ctr-prediction/train_data/train7/part-00064.csv\n",
      "/kaggle/input/bgu-recsys-ctr-prediction/train_data/train7/part-00067.csv\n",
      "/kaggle/input/bgu-recsys-ctr-prediction/train_data/train7/part-00062.csv\n",
      "/kaggle/input/bgu-recsys-ctr-prediction/train_data/train7/part-00061.csv\n",
      "/kaggle/input/bgu-recsys-ctr-prediction/train_data/train7/part-00068.csv\n",
      "/kaggle/input/bgu-recsys-ctr-prediction/train_data/train7/part-00065.csv\n",
      "/kaggle/input/bgu-recsys-ctr-prediction/train_data/train7/part-00066.csv\n",
      "/kaggle/input/bgu-recsys-ctr-prediction/train_data/train7/part-00063.csv\n",
      "/kaggle/input/bgu-recsys-ctr-prediction/train_data/train4/part-00035.csv\n",
      "/kaggle/input/bgu-recsys-ctr-prediction/train_data/train4/part-00036.csv\n",
      "/kaggle/input/bgu-recsys-ctr-prediction/train_data/train4/part-00031.csv\n",
      "/kaggle/input/bgu-recsys-ctr-prediction/train_data/train4/part-00038.csv\n",
      "/kaggle/input/bgu-recsys-ctr-prediction/train_data/train4/part-00037.csv\n",
      "/kaggle/input/bgu-recsys-ctr-prediction/train_data/train4/part-00034.csv\n",
      "/kaggle/input/bgu-recsys-ctr-prediction/train_data/train4/part-00033.csv\n",
      "/kaggle/input/bgu-recsys-ctr-prediction/train_data/train4/part-00039.csv\n",
      "/kaggle/input/bgu-recsys-ctr-prediction/train_data/train4/part-00032.csv\n",
      "/kaggle/input/bgu-recsys-ctr-prediction/train_data/train4/part-00040.csv\n",
      "/kaggle/input/bgu-recsys-ctr-prediction/train_data/train2/part-00017.csv\n",
      "/kaggle/input/bgu-recsys-ctr-prediction/train_data/train2/part-00013.csv\n",
      "/kaggle/input/bgu-recsys-ctr-prediction/train_data/train2/part-00014.csv\n",
      "/kaggle/input/bgu-recsys-ctr-prediction/train_data/train2/part-00015.csv\n",
      "/kaggle/input/bgu-recsys-ctr-prediction/train_data/train2/part-00016.csv\n",
      "/kaggle/input/bgu-recsys-ctr-prediction/train_data/train2/part-00018.csv\n",
      "/kaggle/input/bgu-recsys-ctr-prediction/train_data/train2/part-00012.csv\n",
      "/kaggle/input/bgu-recsys-ctr-prediction/train_data/train2/part-00019.csv\n",
      "/kaggle/input/bgu-recsys-ctr-prediction/train_data/train2/part-00011.csv\n",
      "/kaggle/input/bgu-recsys-ctr-prediction/train_data/train2/part-00020.csv\n",
      "/kaggle/input/bgu-recsys-ctr-prediction/train_data/train3/part-00028.csv\n",
      "/kaggle/input/bgu-recsys-ctr-prediction/train_data/train3/part-00023.csv\n",
      "/kaggle/input/bgu-recsys-ctr-prediction/train_data/train3/part-00027.csv\n",
      "/kaggle/input/bgu-recsys-ctr-prediction/train_data/train3/part-00029.csv\n",
      "/kaggle/input/bgu-recsys-ctr-prediction/train_data/train3/part-00022.csv\n",
      "/kaggle/input/bgu-recsys-ctr-prediction/train_data/train3/part-00025.csv\n",
      "/kaggle/input/bgu-recsys-ctr-prediction/train_data/train3/part-00021.csv\n",
      "/kaggle/input/bgu-recsys-ctr-prediction/train_data/train3/part-00030.csv\n",
      "/kaggle/input/bgu-recsys-ctr-prediction/train_data/train3/part-00024.csv\n",
      "/kaggle/input/bgu-recsys-ctr-prediction/train_data/train3/part-00026.csv\n",
      "/kaggle/input/bgu-recsys-ctr-prediction/train_data/train6/part-00060.csv\n",
      "/kaggle/input/bgu-recsys-ctr-prediction/train_data/train6/part-00056.csv\n",
      "/kaggle/input/bgu-recsys-ctr-prediction/train_data/train6/part-00052.csv\n",
      "/kaggle/input/bgu-recsys-ctr-prediction/train_data/train6/part-00054.csv\n",
      "/kaggle/input/bgu-recsys-ctr-prediction/train_data/train6/part-00057.csv\n",
      "/kaggle/input/bgu-recsys-ctr-prediction/train_data/train6/part-00051.csv\n",
      "/kaggle/input/bgu-recsys-ctr-prediction/train_data/train6/part-00058.csv\n",
      "/kaggle/input/bgu-recsys-ctr-prediction/train_data/train6/part-00053.csv\n",
      "/kaggle/input/bgu-recsys-ctr-prediction/train_data/train6/part-00055.csv\n",
      "/kaggle/input/bgu-recsys-ctr-prediction/train_data/train6/part-00059.csv\n"
     ]
    }
   ],
   "source": [
    "# This Python 3 environment comes with many helpful analytics libraries installed\n",
    "# It is defined by the kaggle/python Docker image: https://github.com/kaggle/docker-python\n",
    "# For example, here's several helpful packages to load\n",
    "\n",
    "import numpy as np # linear algebra\n",
    "import pandas as pd # data processing, CSV file I/O (e.g. pd.read_csv)\n",
    "\n",
    "# Input data files are available in the read-only \"../input/\" directory\n",
    "# For example, running this (by clicking run or pressing Shift+Enter) will list all files under the input directory\n",
    "\n",
    "import os\n",
    "for dirname, _, filenames in os.walk('/kaggle/input'):\n",
    "    for filename in filenames:\n",
    "        print(os.path.join(dirname, filename))\n",
    "\n",
    "# You can write up to 20GB to the current directory (/kaggle/working/) that gets preserved as output when you create a version using \"Save & Run All\" \n",
    "# You can also write temporary files to /kaggle/temp/, but they won't be saved outside of the current session"
   ]
  },
  {
   "cell_type": "markdown",
   "id": "federal-april",
   "metadata": {
    "papermill": {
     "duration": 0.016,
     "end_time": "2021-05-22T08:23:16.397617",
     "exception": false,
     "start_time": "2021-05-22T08:23:16.381617",
     "status": "completed"
    },
    "tags": []
   },
   "source": [
    "## Installations & Imports"
   ]
  },
  {
   "cell_type": "code",
   "execution_count": 2,
   "id": "rapid-inspiration",
   "metadata": {
    "collapsed": true,
    "execution": {
     "iopub.execute_input": "2021-05-22T08:23:16.434082Z",
     "iopub.status.busy": "2021-05-22T08:23:16.433538Z",
     "iopub.status.idle": "2021-05-22T08:24:11.440412Z",
     "shell.execute_reply": "2021-05-22T08:24:11.439962Z",
     "shell.execute_reply.started": "2021-05-21T12:03:36.400470Z"
    },
    "jupyter": {
     "outputs_hidden": true
    },
    "papermill": {
     "duration": 55.02674,
     "end_time": "2021-05-22T08:24:11.440560",
     "exception": false,
     "start_time": "2021-05-22T08:23:16.413820",
     "status": "completed"
    },
    "tags": []
   },
   "outputs": [
    {
     "name": "stdout",
     "output_type": "stream",
     "text": [
      "Collecting deepctr[gpu]\r\n",
      "  Downloading deepctr-0.8.5-py3-none-any.whl (116 kB)\r\n",
      "\u001b[K     |████████████████████████████████| 116 kB 1.3 MB/s \r\n",
      "\u001b[?25hRequirement already satisfied: requests in /opt/conda/lib/python3.7/site-packages (from deepctr[gpu]) (2.25.1)\r\n",
      "Requirement already satisfied: h5py==2.10.0 in /opt/conda/lib/python3.7/site-packages (from deepctr[gpu]) (2.10.0)\r\n",
      "Collecting tensorflow-gpu!=1.7.*,!=1.8.*,>=1.4.0\r\n",
      "  Downloading tensorflow_gpu-2.5.0-cp37-cp37m-manylinux2010_x86_64.whl (454.3 MB)\r\n",
      "\u001b[K     |████████████████████████████████| 454.3 MB 14 kB/s \r\n",
      "\u001b[?25hRequirement already satisfied: numpy>=1.7 in /opt/conda/lib/python3.7/site-packages (from h5py==2.10.0->deepctr[gpu]) (1.19.5)\r\n",
      "Requirement already satisfied: six in /opt/conda/lib/python3.7/site-packages (from h5py==2.10.0->deepctr[gpu]) (1.15.0)\r\n",
      "Requirement already satisfied: wheel~=0.35 in /opt/conda/lib/python3.7/site-packages (from tensorflow-gpu!=1.7.*,!=1.8.*,>=1.4.0->deepctr[gpu]) (0.36.2)\r\n",
      "Requirement already satisfied: protobuf>=3.9.2 in /opt/conda/lib/python3.7/site-packages (from tensorflow-gpu!=1.7.*,!=1.8.*,>=1.4.0->deepctr[gpu]) (3.15.8)\r\n",
      "Requirement already satisfied: flatbuffers~=1.12.0 in /opt/conda/lib/python3.7/site-packages (from tensorflow-gpu!=1.7.*,!=1.8.*,>=1.4.0->deepctr[gpu]) (1.12)\r\n",
      "Requirement already satisfied: google-pasta~=0.2 in /opt/conda/lib/python3.7/site-packages (from tensorflow-gpu!=1.7.*,!=1.8.*,>=1.4.0->deepctr[gpu]) (0.2.0)\r\n",
      "Collecting gast==0.4.0\r\n",
      "  Downloading gast-0.4.0-py3-none-any.whl (9.8 kB)\r\n",
      "Requirement already satisfied: typing-extensions~=3.7.4 in /opt/conda/lib/python3.7/site-packages (from tensorflow-gpu!=1.7.*,!=1.8.*,>=1.4.0->deepctr[gpu]) (3.7.4.3)\r\n",
      "Requirement already satisfied: astunparse~=1.6.3 in /opt/conda/lib/python3.7/site-packages (from tensorflow-gpu!=1.7.*,!=1.8.*,>=1.4.0->deepctr[gpu]) (1.6.3)\r\n",
      "Requirement already satisfied: termcolor~=1.1.0 in /opt/conda/lib/python3.7/site-packages (from tensorflow-gpu!=1.7.*,!=1.8.*,>=1.4.0->deepctr[gpu]) (1.1.0)\r\n",
      "Collecting tensorflow-estimator<2.6.0,>=2.5.0rc0\r\n",
      "  Downloading tensorflow_estimator-2.5.0-py2.py3-none-any.whl (462 kB)\r\n",
      "\u001b[K     |████████████████████████████████| 462 kB 35.4 MB/s \r\n",
      "\u001b[?25hRequirement already satisfied: wrapt~=1.12.1 in /opt/conda/lib/python3.7/site-packages (from tensorflow-gpu!=1.7.*,!=1.8.*,>=1.4.0->deepctr[gpu]) (1.12.1)\r\n",
      "Collecting keras-nightly~=2.5.0.dev\r\n",
      "  Downloading keras_nightly-2.5.0.dev2021032900-py2.py3-none-any.whl (1.2 MB)\r\n",
      "\u001b[K     |████████████████████████████████| 1.2 MB 52.8 MB/s \r\n",
      "\u001b[?25hCollecting tensorboard~=2.5\r\n",
      "  Downloading tensorboard-2.5.0-py3-none-any.whl (6.0 MB)\r\n",
      "\u001b[K     |████████████████████████████████| 6.0 MB 39.0 MB/s \r\n",
      "\u001b[?25hCollecting grpcio~=1.34.0\r\n",
      "  Downloading grpcio-1.34.1-cp37-cp37m-manylinux2014_x86_64.whl (4.0 MB)\r\n",
      "\u001b[K     |████████████████████████████████| 4.0 MB 34.3 MB/s \r\n",
      "\u001b[?25hRequirement already satisfied: opt-einsum~=3.3.0 in /opt/conda/lib/python3.7/site-packages (from tensorflow-gpu!=1.7.*,!=1.8.*,>=1.4.0->deepctr[gpu]) (3.3.0)\r\n",
      "Requirement already satisfied: keras-preprocessing~=1.1.2 in /opt/conda/lib/python3.7/site-packages (from tensorflow-gpu!=1.7.*,!=1.8.*,>=1.4.0->deepctr[gpu]) (1.1.2)\r\n",
      "Requirement already satisfied: absl-py~=0.10 in /opt/conda/lib/python3.7/site-packages (from tensorflow-gpu!=1.7.*,!=1.8.*,>=1.4.0->deepctr[gpu]) (0.12.0)\r\n",
      "Collecting tensorflow-gpu!=1.7.*,!=1.8.*,>=1.4.0\r\n",
      "  Downloading tensorflow_gpu-2.4.1-cp37-cp37m-manylinux2010_x86_64.whl (394.3 MB)\r\n",
      "\u001b[K     |████████████████████████████████| 394.3 MB 12 kB/s \r\n",
      "\u001b[?25hRequirement already satisfied: gast==0.3.3 in /opt/conda/lib/python3.7/site-packages (from tensorflow-gpu!=1.7.*,!=1.8.*,>=1.4.0->deepctr[gpu]) (0.3.3)\r\n",
      "Requirement already satisfied: tensorboard~=2.4 in /opt/conda/lib/python3.7/site-packages (from tensorflow-gpu!=1.7.*,!=1.8.*,>=1.4.0->deepctr[gpu]) (2.4.1)\r\n",
      "Requirement already satisfied: grpcio~=1.32.0 in /opt/conda/lib/python3.7/site-packages (from tensorflow-gpu!=1.7.*,!=1.8.*,>=1.4.0->deepctr[gpu]) (1.32.0)\r\n",
      "Requirement already satisfied: tensorflow-estimator<2.5.0,>=2.4.0 in /opt/conda/lib/python3.7/site-packages (from tensorflow-gpu!=1.7.*,!=1.8.*,>=1.4.0->deepctr[gpu]) (2.4.0)\r\n",
      "Requirement already satisfied: tensorboard-plugin-wit>=1.6.0 in /opt/conda/lib/python3.7/site-packages (from tensorboard~=2.4->tensorflow-gpu!=1.7.*,!=1.8.*,>=1.4.0->deepctr[gpu]) (1.8.0)\r\n",
      "Requirement already satisfied: markdown>=2.6.8 in /opt/conda/lib/python3.7/site-packages (from tensorboard~=2.4->tensorflow-gpu!=1.7.*,!=1.8.*,>=1.4.0->deepctr[gpu]) (3.3.4)\r\n",
      "Requirement already satisfied: google-auth-oauthlib<0.5,>=0.4.1 in /opt/conda/lib/python3.7/site-packages (from tensorboard~=2.4->tensorflow-gpu!=1.7.*,!=1.8.*,>=1.4.0->deepctr[gpu]) (0.4.3)\r\n",
      "Requirement already satisfied: werkzeug>=0.11.15 in /opt/conda/lib/python3.7/site-packages (from tensorboard~=2.4->tensorflow-gpu!=1.7.*,!=1.8.*,>=1.4.0->deepctr[gpu]) (1.0.1)\r\n",
      "Requirement already satisfied: setuptools>=41.0.0 in /opt/conda/lib/python3.7/site-packages (from tensorboard~=2.4->tensorflow-gpu!=1.7.*,!=1.8.*,>=1.4.0->deepctr[gpu]) (49.6.0.post20210108)\r\n",
      "Requirement already satisfied: google-auth<2,>=1.6.3 in /opt/conda/lib/python3.7/site-packages (from tensorboard~=2.4->tensorflow-gpu!=1.7.*,!=1.8.*,>=1.4.0->deepctr[gpu]) (1.26.1)\r\n",
      "Requirement already satisfied: pyasn1-modules>=0.2.1 in /opt/conda/lib/python3.7/site-packages (from google-auth<2,>=1.6.3->tensorboard~=2.4->tensorflow-gpu!=1.7.*,!=1.8.*,>=1.4.0->deepctr[gpu]) (0.2.7)\r\n",
      "Requirement already satisfied: cachetools<5.0,>=2.0.0 in /opt/conda/lib/python3.7/site-packages (from google-auth<2,>=1.6.3->tensorboard~=2.4->tensorflow-gpu!=1.7.*,!=1.8.*,>=1.4.0->deepctr[gpu]) (4.2.1)\r\n",
      "Requirement already satisfied: rsa<5,>=3.1.4 in /opt/conda/lib/python3.7/site-packages (from google-auth<2,>=1.6.3->tensorboard~=2.4->tensorflow-gpu!=1.7.*,!=1.8.*,>=1.4.0->deepctr[gpu]) (4.7.2)\r\n",
      "Requirement already satisfied: requests-oauthlib>=0.7.0 in /opt/conda/lib/python3.7/site-packages (from google-auth-oauthlib<0.5,>=0.4.1->tensorboard~=2.4->tensorflow-gpu!=1.7.*,!=1.8.*,>=1.4.0->deepctr[gpu]) (1.3.0)\r\n",
      "Requirement already satisfied: importlib-metadata in /opt/conda/lib/python3.7/site-packages (from markdown>=2.6.8->tensorboard~=2.4->tensorflow-gpu!=1.7.*,!=1.8.*,>=1.4.0->deepctr[gpu]) (3.4.0)\r\n",
      "Requirement already satisfied: pyasn1<0.5.0,>=0.4.6 in /opt/conda/lib/python3.7/site-packages (from pyasn1-modules>=0.2.1->google-auth<2,>=1.6.3->tensorboard~=2.4->tensorflow-gpu!=1.7.*,!=1.8.*,>=1.4.0->deepctr[gpu]) (0.4.8)\r\n",
      "Requirement already satisfied: idna<3,>=2.5 in /opt/conda/lib/python3.7/site-packages (from requests->deepctr[gpu]) (2.10)\r\n",
      "Requirement already satisfied: urllib3<1.27,>=1.21.1 in /opt/conda/lib/python3.7/site-packages (from requests->deepctr[gpu]) (1.26.4)\r\n",
      "Requirement already satisfied: certifi>=2017.4.17 in /opt/conda/lib/python3.7/site-packages (from requests->deepctr[gpu]) (2020.12.5)\r\n",
      "Requirement already satisfied: chardet<5,>=3.0.2 in /opt/conda/lib/python3.7/site-packages (from requests->deepctr[gpu]) (4.0.0)\r\n",
      "Requirement already satisfied: oauthlib>=3.0.0 in /opt/conda/lib/python3.7/site-packages (from requests-oauthlib>=0.7.0->google-auth-oauthlib<0.5,>=0.4.1->tensorboard~=2.4->tensorflow-gpu!=1.7.*,!=1.8.*,>=1.4.0->deepctr[gpu]) (3.0.1)\r\n",
      "Requirement already satisfied: zipp>=0.5 in /opt/conda/lib/python3.7/site-packages (from importlib-metadata->markdown>=2.6.8->tensorboard~=2.4->tensorflow-gpu!=1.7.*,!=1.8.*,>=1.4.0->deepctr[gpu]) (3.4.1)\r\n",
      "Installing collected packages: tensorflow-gpu, deepctr\r\n",
      "Successfully installed deepctr-0.8.5 tensorflow-gpu-2.4.1\r\n"
     ]
    }
   ],
   "source": [
    "# Downloading deepFm model\n",
    "!pip install deepctr[gpu]"
   ]
  },
  {
   "cell_type": "code",
   "execution_count": 3,
   "id": "rental-stations",
   "metadata": {
    "execution": {
     "iopub.execute_input": "2021-05-22T08:24:12.032341Z",
     "iopub.status.busy": "2021-05-22T08:24:12.031578Z",
     "iopub.status.idle": "2021-05-22T08:24:15.087174Z",
     "shell.execute_reply": "2021-05-22T08:24:15.086692Z",
     "shell.execute_reply.started": "2021-05-21T12:03:44.620448Z"
    },
    "papermill": {
     "duration": 3.353056,
     "end_time": "2021-05-22T08:24:15.087307",
     "exception": false,
     "start_time": "2021-05-22T08:24:11.734251",
     "status": "completed"
    },
    "tags": []
   },
   "outputs": [],
   "source": [
    "import pandas as pd\n",
    "import numpy as np\n",
    "from sklearn.preprocessing import LabelEncoder, MinMaxScaler\n",
    "from sklearn.model_selection import train_test_split\n",
    "from deepctr.models import DeepFM\n",
    "from deepctr.feature_column import SparseFeat, DenseFeat,VarLenSparseFeat,get_feature_names\n",
    "\n",
    "from tensorflow.python.keras.preprocessing.sequence import pad_sequences\n",
    "import tensorflow as tf\n",
    "import glob\n",
    "import datetime\n",
    "from sklearn import preprocessing "
   ]
  },
  {
   "cell_type": "markdown",
   "id": "acting-thomson",
   "metadata": {
    "papermill": {
     "duration": 0.28129,
     "end_time": "2021-05-22T08:24:15.655360",
     "exception": false,
     "start_time": "2021-05-22T08:24:15.374070",
     "status": "completed"
    },
    "tags": []
   },
   "source": [
    "## Read Data"
   ]
  },
  {
   "cell_type": "code",
   "execution_count": 4,
   "id": "electoral-alpha",
   "metadata": {
    "execution": {
     "iopub.execute_input": "2021-05-22T08:24:16.227970Z",
     "iopub.status.busy": "2021-05-22T08:24:16.226211Z",
     "iopub.status.idle": "2021-05-22T08:24:16.232730Z",
     "shell.execute_reply": "2021-05-22T08:24:16.232299Z",
     "shell.execute_reply.started": "2021-05-21T12:03:50.980462Z"
    },
    "papermill": {
     "duration": 0.293711,
     "end_time": "2021-05-22T08:24:16.232851",
     "exception": false,
     "start_time": "2021-05-22T08:24:15.939140",
     "status": "completed"
    },
    "tags": []
   },
   "outputs": [],
   "source": [
    "GLOBAL_PATH_TRAIN = \"../input/bgu-recsys-ctr-prediction/train_data/*/*\"\n",
    "TEST_PATH = \"../input/bgu-recsys-ctr-prediction/test_file.csv\""
   ]
  },
  {
   "cell_type": "code",
   "execution_count": 5,
   "id": "novel-edward",
   "metadata": {
    "execution": {
     "iopub.execute_input": "2021-05-22T08:24:16.805802Z",
     "iopub.status.busy": "2021-05-22T08:24:16.805116Z",
     "iopub.status.idle": "2021-05-22T08:28:46.087870Z",
     "shell.execute_reply": "2021-05-22T08:28:46.086338Z",
     "shell.execute_reply.started": "2021-05-21T12:03:50.987066Z"
    },
    "papermill": {
     "duration": 269.570785,
     "end_time": "2021-05-22T08:28:46.088000",
     "exception": false,
     "start_time": "2021-05-22T08:24:16.517215",
     "status": "completed"
    },
    "tags": []
   },
   "outputs": [
    {
     "name": "stderr",
     "output_type": "stream",
     "text": [
      "100%|██████████| 20/20 [04:28<00:00, 13.45s/it]\n"
     ]
    }
   ],
   "source": [
    "# Reading train data \n",
    "## We read only 20 files from the entire data \n",
    "\n",
    "from tqdm import tqdm\n",
    "all_paths = glob.glob(GLOBAL_PATH_TRAIN)\n",
    "\n",
    "data = pd.DataFrame()\n",
    "for path in tqdm(all_paths[:20]):\n",
    "    data = data.append(pd.read_csv(path))"
   ]
  },
  {
   "cell_type": "code",
   "execution_count": 6,
   "id": "nasty-moses",
   "metadata": {
    "execution": {
     "iopub.execute_input": "2021-05-22T08:28:46.676208Z",
     "iopub.status.busy": "2021-05-22T08:28:46.675651Z",
     "iopub.status.idle": "2021-05-22T08:28:54.989446Z",
     "shell.execute_reply": "2021-05-22T08:28:54.988335Z",
     "shell.execute_reply.started": "2021-05-21T12:08:23.482036Z"
    },
    "papermill": {
     "duration": 8.609581,
     "end_time": "2021-05-22T08:28:54.989614",
     "exception": false,
     "start_time": "2021-05-22T08:28:46.380033",
     "status": "completed"
    },
    "tags": []
   },
   "outputs": [],
   "source": [
    "# reading test data \n",
    "test = pd.read_csv(TEST_PATH)\n"
   ]
  },
  {
   "cell_type": "code",
   "execution_count": 7,
   "id": "otherwise-reservoir",
   "metadata": {
    "execution": {
     "iopub.execute_input": "2021-05-22T08:28:55.573697Z",
     "iopub.status.busy": "2021-05-22T08:28:55.572511Z",
     "iopub.status.idle": "2021-05-22T08:28:55.595276Z",
     "shell.execute_reply": "2021-05-22T08:28:55.595720Z",
     "shell.execute_reply.started": "2021-05-21T12:15:18.696831Z"
    },
    "papermill": {
     "duration": 0.317321,
     "end_time": "2021-05-22T08:28:55.595880",
     "exception": false,
     "start_time": "2021-05-22T08:28:55.278559",
     "status": "completed"
    },
    "tags": []
   },
   "outputs": [],
   "source": [
    "# We wanted to apply the entire preprocess on all the data at once \n",
    "# so we added the missing columns in each set to have a defualt value\n",
    "data[\"Id\"] = -1\n",
    "test[\"is_click\"] = -1"
   ]
  },
  {
   "cell_type": "code",
   "execution_count": 8,
   "id": "moral-crystal",
   "metadata": {
    "execution": {
     "iopub.execute_input": "2021-05-22T08:28:56.175261Z",
     "iopub.status.busy": "2021-05-22T08:28:56.174197Z",
     "iopub.status.idle": "2021-05-22T08:29:04.746206Z",
     "shell.execute_reply": "2021-05-22T08:29:04.745276Z",
     "shell.execute_reply.started": "2021-05-21T12:15:19.962239Z"
    },
    "papermill": {
     "duration": 8.866217,
     "end_time": "2021-05-22T08:29:04.746357",
     "exception": false,
     "start_time": "2021-05-22T08:28:55.880140",
     "status": "completed"
    },
    "tags": []
   },
   "outputs": [],
   "source": [
    "# Combining the data to run the preprocess on the entire set\n",
    "data_combined = pd.concat([test,data])\n"
   ]
  },
  {
   "cell_type": "markdown",
   "id": "atlantic-steel",
   "metadata": {
    "papermill": {
     "duration": 0.281805,
     "end_time": "2021-05-22T08:29:05.316747",
     "exception": false,
     "start_time": "2021-05-22T08:29:05.034942",
     "status": "completed"
    },
    "tags": []
   },
   "source": [
    "## Data preprocessing"
   ]
  },
  {
   "cell_type": "code",
   "execution_count": 9,
   "id": "legendary-packaging",
   "metadata": {
    "execution": {
     "iopub.execute_input": "2021-05-22T08:29:05.895802Z",
     "iopub.status.busy": "2021-05-22T08:29:05.894904Z",
     "iopub.status.idle": "2021-05-22T08:29:05.897614Z",
     "shell.execute_reply": "2021-05-22T08:29:05.897168Z",
     "shell.execute_reply.started": "2021-05-21T12:15:32.153744Z"
    },
    "papermill": {
     "duration": 0.29704,
     "end_time": "2021-05-22T08:29:05.897727",
     "exception": false,
     "start_time": "2021-05-22T08:29:05.600687",
     "status": "completed"
    },
    "tags": []
   },
   "outputs": [],
   "source": [
    "# The columns we want to delete\n",
    "delete_coulmns = [\"gmt_offset\",\"user_id_hash\"]\n",
    "# Our multi-value features\n",
    "multi_value = [\"target_item_taxonomy\"]\n",
    "# Sparse features\n",
    "sparse_features  = [\"target_id_hash\",\"syndicator_id_hash\",\"campaign_id_hash\",\"placement_id_hash\",\"publisher_id_hash\",\"source_id_hash\",\"source_item_type\",\"browser_platform\",\"country_code\",\"region\"]\n",
    "# target column\n",
    "target = ['is_click']\n"
   ]
  },
  {
   "cell_type": "code",
   "execution_count": 10,
   "id": "drawn-vegetarian",
   "metadata": {
    "execution": {
     "iopub.execute_input": "2021-05-22T08:29:06.889414Z",
     "iopub.status.busy": "2021-05-22T08:29:06.869293Z",
     "iopub.status.idle": "2021-05-22T08:29:06.893417Z",
     "shell.execute_reply": "2021-05-22T08:29:06.892625Z",
     "shell.execute_reply.started": "2021-05-21T12:15:32.161525Z"
    },
    "papermill": {
     "duration": 0.709097,
     "end_time": "2021-05-22T08:29:06.893558",
     "exception": false,
     "start_time": "2021-05-22T08:29:06.184461",
     "status": "completed"
    },
    "tags": []
   },
   "outputs": [],
   "source": [
    "# This is done so the ram won't collapse the run\n",
    "del data\n",
    "del test"
   ]
  },
  {
   "cell_type": "code",
   "execution_count": 11,
   "id": "arbitrary-chuck",
   "metadata": {
    "execution": {
     "iopub.execute_input": "2021-05-22T08:29:07.502537Z",
     "iopub.status.busy": "2021-05-22T08:29:07.501321Z",
     "iopub.status.idle": "2021-05-22T08:29:13.660443Z",
     "shell.execute_reply": "2021-05-22T08:29:13.659994Z",
     "shell.execute_reply.started": "2021-05-21T12:15:32.632585Z"
    },
    "papermill": {
     "duration": 6.479782,
     "end_time": "2021-05-22T08:29:13.660586",
     "exception": false,
     "start_time": "2021-05-22T08:29:07.180804",
     "status": "completed"
    },
    "tags": []
   },
   "outputs": [],
   "source": [
    "# Creating dense features list by substracting all other features\n",
    "dense_features  = list(set(data_combined.columns) - set(target) - set(sparse_features) - set(multi_value) - set(delete_coulmns) - set([\"Id\"]))\n",
    "data_combined = data_combined.drop(delete_coulmns, axis = 1)"
   ]
  },
  {
   "cell_type": "code",
   "execution_count": 12,
   "id": "painful-landing",
   "metadata": {
    "execution": {
     "iopub.execute_input": "2021-05-22T08:29:15.284322Z",
     "iopub.status.busy": "2021-05-22T08:29:15.272805Z",
     "iopub.status.idle": "2021-05-22T08:30:17.701744Z",
     "shell.execute_reply": "2021-05-22T08:30:17.702612Z",
     "shell.execute_reply.started": "2021-05-21T12:15:40.192445Z"
    },
    "papermill": {
     "duration": 63.74993,
     "end_time": "2021-05-22T08:30:17.702819",
     "exception": false,
     "start_time": "2021-05-22T08:29:13.952889",
     "status": "completed"
    },
    "tags": []
   },
   "outputs": [],
   "source": [
    "# Data preprocessing \n",
    "# Sparse data is transformed to one hot vectors using the label encoder\n",
    "for feat in sparse_features:\n",
    "    lbe = LabelEncoder()\n",
    "    data_combined[feat] = lbe.fit_transform(data_combined[feat])\n",
    "\n",
    "# Dense features are normalized to the range of 0,1\n",
    "mms = MinMaxScaler(feature_range=(0,1))\n",
    "data_combined[dense_features] = mms.fit_transform(data_combined[dense_features])\n"
   ]
  },
  {
   "cell_type": "code",
   "execution_count": 13,
   "id": "desperate-philippines",
   "metadata": {
    "execution": {
     "iopub.execute_input": "2021-05-22T08:30:18.370682Z",
     "iopub.status.busy": "2021-05-22T08:30:18.369236Z",
     "iopub.status.idle": "2021-05-22T08:30:18.371549Z",
     "shell.execute_reply": "2021-05-22T08:30:18.371951Z",
     "shell.execute_reply.started": "2021-05-21T12:17:00.391150Z"
    },
    "papermill": {
     "duration": 0.301175,
     "end_time": "2021-05-22T08:30:18.372080",
     "exception": false,
     "start_time": "2021-05-22T08:30:18.070905",
     "status": "completed"
    },
    "tags": []
   },
   "outputs": [],
   "source": [
    "# This function handles the multi-value feature column.\n",
    "# It seperates the string into all the a list of values. \n",
    "def split(x):\n",
    "    key_ans = x.split('~')\n",
    "    for key in key_ans:\n",
    "        if key not in key2index:\n",
    "            # Notice : input value 0 is a special \"padding\",so we do not use 0 to encode valid feature for sequence input\n",
    "            key2index[key] = len(key2index) + 1\n",
    "    return list(map(lambda x: key2index[x], key_ans))"
   ]
  },
  {
   "cell_type": "markdown",
   "id": "fabulous-nurse",
   "metadata": {
    "papermill": {
     "duration": 0.294105,
     "end_time": "2021-05-22T08:30:18.957799",
     "exception": false,
     "start_time": "2021-05-22T08:30:18.663694",
     "status": "completed"
    },
    "tags": []
   },
   "source": [
    "### Multi Value Features"
   ]
  },
  {
   "cell_type": "code",
   "execution_count": 14,
   "id": "distributed-stick",
   "metadata": {
    "execution": {
     "iopub.execute_input": "2021-05-22T08:30:19.544967Z",
     "iopub.status.busy": "2021-05-22T08:30:19.540748Z",
     "iopub.status.idle": "2021-05-22T08:31:29.050600Z",
     "shell.execute_reply": "2021-05-22T08:31:29.050099Z",
     "shell.execute_reply.started": "2021-05-21T12:17:00.398507Z"
    },
    "papermill": {
     "duration": 69.802487,
     "end_time": "2021-05-22T08:31:29.050739",
     "exception": false,
     "start_time": "2021-05-22T08:30:19.248252",
     "status": "completed"
    },
    "tags": []
   },
   "outputs": [],
   "source": [
    "# Extracting all values using the split function. \n",
    "# We will later use this list to create the multi-value embedding vectors\n",
    "key2index = {}\n",
    "genres_list = list(map(split, data_combined[multi_value[0]].values))\n",
    "genres_length = np.array(list(map(len, genres_list)))\n",
    "max_len = max(genres_length)\n",
    "# Notice : padding=`post`\n",
    "genres_list = pad_sequences(genres_list, maxlen=max_len, padding='post', )"
   ]
  },
  {
   "cell_type": "code",
   "execution_count": 15,
   "id": "adjustable-sequence",
   "metadata": {
    "execution": {
     "iopub.execute_input": "2021-05-22T08:31:29.633052Z",
     "iopub.status.busy": "2021-05-22T08:31:29.631705Z",
     "iopub.status.idle": "2021-05-22T08:31:29.733358Z",
     "shell.execute_reply": "2021-05-22T08:31:29.732216Z",
     "shell.execute_reply.started": "2021-05-21T12:18:19.540565Z"
    },
    "papermill": {
     "duration": 0.3925,
     "end_time": "2021-05-22T08:31:29.733489",
     "exception": false,
     "start_time": "2021-05-22T08:31:29.340989",
     "status": "completed"
    },
    "tags": []
   },
   "outputs": [],
   "source": [
    "# Creating the features for the model\n",
    "# We create the embeddings for the sparse and multi-value featrues and combine the features into features list\n",
    "fixlen_feature_columns = [SparseFeat(feat, vocabulary_size=data_combined[feat].max() + 1,embedding_dim=3)\n",
    "                       for i,feat in enumerate(sparse_features)] + [DenseFeat(feat, 1,)\n",
    "                      for feat in dense_features]\n",
    "\n",
    "varlen_feature_columns = [VarLenSparseFeat(SparseFeat(multi_value[0],vocabulary_size= len(\n",
    "            key2index) + 1,embedding_dim=3), maxlen=max_len, combiner='mean',weight_name=None)]  # Notice : value 0 is for padding for sequence input feature\n"
   ]
  },
  {
   "cell_type": "code",
   "execution_count": 16,
   "id": "extra-maintenance",
   "metadata": {
    "execution": {
     "iopub.execute_input": "2021-05-22T08:31:30.332426Z",
     "iopub.status.busy": "2021-05-22T08:31:30.331342Z",
     "iopub.status.idle": "2021-05-22T08:31:30.361552Z",
     "shell.execute_reply": "2021-05-22T08:31:30.361096Z",
     "shell.execute_reply.started": "2021-05-21T12:18:19.663403Z"
    },
    "papermill": {
     "duration": 0.3406,
     "end_time": "2021-05-22T08:31:30.361678",
     "exception": false,
     "start_time": "2021-05-22T08:31:30.021078",
     "status": "completed"
    },
    "tags": []
   },
   "outputs": [],
   "source": [
    "# This part decides which features will be inserted into the linear part of the model and which to the dnn. \n",
    "# We decided that all features will be inserted to both. \n",
    "linear_feature_columns = fixlen_feature_columns + varlen_feature_columns\n",
    "dnn_feature_columns = fixlen_feature_columns + varlen_feature_columns\n",
    "feature_names = get_feature_names(linear_feature_columns + dnn_feature_columns)"
   ]
  },
  {
   "cell_type": "markdown",
   "id": "frozen-blackjack",
   "metadata": {
    "papermill": {
     "duration": 0.289545,
     "end_time": "2021-05-22T08:31:30.938157",
     "exception": false,
     "start_time": "2021-05-22T08:31:30.648612",
     "status": "completed"
    },
    "tags": []
   },
   "source": [
    "## The Model"
   ]
  },
  {
   "cell_type": "code",
   "execution_count": 17,
   "id": "atomic-electronics",
   "metadata": {
    "execution": {
     "iopub.execute_input": "2021-05-22T08:31:31.535422Z",
     "iopub.status.busy": "2021-05-22T08:31:31.534653Z",
     "iopub.status.idle": "2021-05-22T08:31:35.970208Z",
     "shell.execute_reply": "2021-05-22T08:31:35.969709Z",
     "shell.execute_reply.started": "2021-05-21T13:16:20.528304Z"
    },
    "papermill": {
     "duration": 4.739786,
     "end_time": "2021-05-22T08:31:35.970339",
     "exception": false,
     "start_time": "2021-05-22T08:31:31.230553",
     "status": "completed"
    },
    "tags": []
   },
   "outputs": [],
   "source": [
    "# Splitting the data back into train and test\n",
    "train = data_combined[data_combined[\"Id\"] == -1]\n",
    "test = data_combined[data_combined[\"is_click\"] == -1]\n",
    "\n",
    "# Creating the input that will be inserted into the model\n",
    "train_model_input = {name:train[name].values for name in feature_names}\n",
    "train_model_input[multi_value[0]] = genres_list[train.index]\n",
    "test_model_input = {name:test[name].values for name in feature_names}\n",
    "test_model_input[multi_value[0]] = genres_list[test.index]\n",
    "\n",
    "target_values = train[target].values\n",
    "\n",
    "# The model\n",
    "model = DeepFM(linear_feature_columns,dnn_feature_columns,task='binary',\n",
    "               dnn_hidden_units = (256, 256, 128))\n",
    "opt = tf.keras.optimizers.Adam(learning_rate=0.001)\n",
    "model.compile(loss='binary_crossentropy', optimizer=opt,metrics=[tf.keras.metrics.AUC(), \"accuracy\"])\n",
    "\n"
   ]
  },
  {
   "cell_type": "code",
   "execution_count": 18,
   "id": "competitive-george",
   "metadata": {
    "execution": {
     "iopub.execute_input": "2021-05-22T08:31:36.551675Z",
     "iopub.status.busy": "2021-05-22T08:31:36.550857Z",
     "iopub.status.idle": "2021-05-22T09:54:33.897853Z",
     "shell.execute_reply": "2021-05-22T09:54:33.898500Z",
     "shell.execute_reply.started": "2021-05-21T13:16:26.234563Z"
    },
    "papermill": {
     "duration": 4977.638985,
     "end_time": "2021-05-22T09:54:33.898734",
     "exception": false,
     "start_time": "2021-05-22T08:31:36.259749",
     "status": "completed"
    },
    "tags": []
   },
   "outputs": [
    {
     "name": "stdout",
     "output_type": "stream",
     "text": [
      "Epoch 1/10\n",
      "27348/27348 - 512s - loss: 0.4798 - auc: 0.8509 - accuracy: 0.7724 - val_loss: 0.4745 - val_auc: 0.8559 - val_accuracy: 0.7764\n",
      "Epoch 2/10\n",
      "27348/27348 - 512s - loss: 0.4733 - auc: 0.8562 - accuracy: 0.7774 - val_loss: 0.4724 - val_auc: 0.8568 - val_accuracy: 0.7777\n",
      "Epoch 3/10\n",
      "27348/27348 - 497s - loss: 0.4721 - auc: 0.8570 - accuracy: 0.7782 - val_loss: 0.4719 - val_auc: 0.8572 - val_accuracy: 0.7786\n",
      "Epoch 4/10\n",
      "27348/27348 - 500s - loss: 0.4714 - auc: 0.8575 - accuracy: 0.7786 - val_loss: 0.4713 - val_auc: 0.8576 - val_accuracy: 0.7788\n",
      "Epoch 5/10\n",
      "27348/27348 - 495s - loss: 0.4709 - auc: 0.8578 - accuracy: 0.7791 - val_loss: 0.4717 - val_auc: 0.8576 - val_accuracy: 0.7784\n",
      "Epoch 6/10\n",
      "27348/27348 - 506s - loss: 0.4706 - auc: 0.8580 - accuracy: 0.7792 - val_loss: 0.4750 - val_auc: 0.8569 - val_accuracy: 0.7768\n",
      "Epoch 7/10\n",
      "27348/27348 - 497s - loss: 0.4704 - auc: 0.8582 - accuracy: 0.7793 - val_loss: 0.4706 - val_auc: 0.8581 - val_accuracy: 0.7791\n",
      "Epoch 8/10\n",
      "27348/27348 - 497s - loss: 0.4702 - auc: 0.8584 - accuracy: 0.7795 - val_loss: 0.4711 - val_auc: 0.8579 - val_accuracy: 0.7792\n",
      "Epoch 9/10\n",
      "27348/27348 - 480s - loss: 0.4701 - auc: 0.8585 - accuracy: 0.7796 - val_loss: 0.4702 - val_auc: 0.8584 - val_accuracy: 0.7794\n",
      "Epoch 10/10\n",
      "27348/27348 - 480s - loss: 0.4700 - auc: 0.8585 - accuracy: 0.7795 - val_loss: 0.4701 - val_auc: 0.8584 - val_accuracy: 0.7793\n"
     ]
    }
   ],
   "source": [
    "history = model.fit(train_model_input, target_values,\n",
    "                    batch_size=256, epochs=10, verbose=2, validation_split=0.2, )\n"
   ]
  },
  {
   "cell_type": "code",
   "execution_count": 19,
   "id": "textile-stereo",
   "metadata": {
    "execution": {
     "iopub.execute_input": "2021-05-22T09:54:34.495041Z",
     "iopub.status.busy": "2021-05-22T09:54:34.493799Z",
     "iopub.status.idle": "2021-05-22T09:54:42.380086Z",
     "shell.execute_reply": "2021-05-22T09:54:42.379574Z",
     "shell.execute_reply.started": "2021-05-21T13:13:33.383639Z"
    },
    "papermill": {
     "duration": 8.18737,
     "end_time": "2021-05-22T09:54:42.380209",
     "exception": false,
     "start_time": "2021-05-22T09:54:34.192839",
     "status": "completed"
    },
    "tags": []
   },
   "outputs": [],
   "source": [
    "pred_ans = model.predict(test_model_input, batch_size=256)"
   ]
  },
  {
   "cell_type": "code",
   "execution_count": 20,
   "id": "understood-adobe",
   "metadata": {
    "execution": {
     "iopub.execute_input": "2021-05-22T09:54:42.981803Z",
     "iopub.status.busy": "2021-05-22T09:54:42.980575Z",
     "iopub.status.idle": "2021-05-22T09:54:44.344115Z",
     "shell.execute_reply": "2021-05-22T09:54:44.343626Z",
     "shell.execute_reply.started": "2021-05-21T13:14:48.518569Z"
    },
    "papermill": {
     "duration": 1.665216,
     "end_time": "2021-05-22T09:54:44.344240",
     "exception": false,
     "start_time": "2021-05-22T09:54:42.679024",
     "status": "completed"
    },
    "tags": []
   },
   "outputs": [],
   "source": [
    "pred_df = pd.DataFrame(pred_ans)\n",
    "pred_df.reset_index(inplace=True)\n",
    "pred_df.columns = ['Id','Predicted']\n",
    "pred_df.to_csv('my_submission5.csv',index=False)"
   ]
  }
 ],
 "metadata": {
  "kernelspec": {
   "display_name": "Python 3",
   "language": "python",
   "name": "python3"
  },
  "language_info": {
   "codemirror_mode": {
    "name": "ipython",
    "version": 3
   },
   "file_extension": ".py",
   "mimetype": "text/x-python",
   "name": "python",
   "nbconvert_exporter": "python",
   "pygments_lexer": "ipython3",
   "version": "3.7.10"
  },
  "papermill": {
   "default_parameters": {},
   "duration": 5497.206572,
   "end_time": "2021-05-22T09:54:47.041663",
   "environment_variables": {},
   "exception": null,
   "input_path": "__notebook__.ipynb",
   "output_path": "__notebook__.ipynb",
   "parameters": {},
   "start_time": "2021-05-22T08:23:09.835091",
   "version": "2.3.3"
  }
 },
 "nbformat": 4,
 "nbformat_minor": 5
}
